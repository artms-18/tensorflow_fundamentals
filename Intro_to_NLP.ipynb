{
  "nbformat": 4,
  "nbformat_minor": 0,
  "metadata": {
    "colab": {
      "name": "Intro_to_NLP.ipynb",
      "provenance": [],
      "collapsed_sections": [],
      "toc_visible": true,
      "authorship_tag": "ABX9TyPVmUPleSpBRIDZ/+0JcGw7",
      "include_colab_link": true
    },
    "kernelspec": {
      "name": "python3",
      "display_name": "Python 3"
    },
    "language_info": {
      "name": "python"
    },
    "accelerator": "GPU"
  },
  "cells": [
    {
      "cell_type": "markdown",
      "metadata": {
        "id": "view-in-github",
        "colab_type": "text"
      },
      "source": [
        "<a href=\"https://colab.research.google.com/github/artms-18/tensorflow_fundamentals/blob/main/Intro_to_NLP.ipynb\" target=\"_parent\"><img src=\"https://colab.research.google.com/assets/colab-badge.svg\" alt=\"Open In Colab\"/></a>"
      ]
    },
    {
      "cell_type": "markdown",
      "metadata": {
        "id": "V2YYd-dzOCzO"
      },
      "source": [
        "# Introduction to NLP Fundamentals in Tensorflow\n",
        "\n",
        "NLP has the goal of deriving information out of natural language (could be sequences text or speech).\n",
        "\n",
        "Another common term for NLP problems is sequence to sequence problems (seq2seq)"
      ]
    },
    {
      "cell_type": "markdown",
      "metadata": {
        "id": "wwL6eAuxOez1"
      },
      "source": [
        "## Check for GPU"
      ]
    },
    {
      "cell_type": "code",
      "metadata": {
        "colab": {
          "base_uri": "https://localhost:8080/"
        },
        "id": "7NmbUEodOibH",
        "outputId": "94195995-7a8b-450d-c579-a16ae9b16eed"
      },
      "source": [
        "!nvidia-smi -L"
      ],
      "execution_count": 1,
      "outputs": [
        {
          "output_type": "stream",
          "text": [
            "GPU 0: Tesla T4 (UUID: GPU-b5a905ab-c5e4-aaf1-1d27-a74832ed8745)\n"
          ],
          "name": "stdout"
        }
      ]
    },
    {
      "cell_type": "markdown",
      "metadata": {
        "id": "zXRui5LaOmC1"
      },
      "source": [
        "## Get helper functions"
      ]
    },
    {
      "cell_type": "code",
      "metadata": {
        "colab": {
          "base_uri": "https://localhost:8080/"
        },
        "id": "1EKDbxTLOta0",
        "outputId": "96dbbcb0-2067-4162-d09d-2f5cbc17a349"
      },
      "source": [
        "!wget https://raw.githubusercontent.com/mrdbourke/tensorflow-deep-learning/main/extras/helper_functions.py\n",
        "\n",
        "# Import a series of helper function for the notebook\n",
        "\n",
        "from helper_functions import unzip_data, create_tensorboard_callback, plot_loss_curves, compare_historys"
      ],
      "execution_count": 2,
      "outputs": [
        {
          "output_type": "stream",
          "text": [
            "--2021-05-19 12:11:34--  https://raw.githubusercontent.com/mrdbourke/tensorflow-deep-learning/main/extras/helper_functions.py\n",
            "Resolving raw.githubusercontent.com (raw.githubusercontent.com)... 185.199.108.133, 185.199.109.133, 185.199.110.133, ...\n",
            "Connecting to raw.githubusercontent.com (raw.githubusercontent.com)|185.199.108.133|:443... connected.\n",
            "HTTP request sent, awaiting response... 200 OK\n",
            "Length: 10246 (10K) [text/plain]\n",
            "Saving to: ‘helper_functions.py’\n",
            "\n",
            "\rhelper_functions.py   0%[                    ]       0  --.-KB/s               \rhelper_functions.py 100%[===================>]  10.01K  --.-KB/s    in 0s      \n",
            "\n",
            "2021-05-19 12:11:34 (109 MB/s) - ‘helper_functions.py’ saved [10246/10246]\n",
            "\n"
          ],
          "name": "stdout"
        }
      ]
    },
    {
      "cell_type": "markdown",
      "metadata": {
        "id": "NFOGPIupPDFD"
      },
      "source": [
        "## Get a text dataaset\n",
        "\n",
        "The dataset we're going to be using is Kaggle's introduction to NLP dataset"
      ]
    },
    {
      "cell_type": "code",
      "metadata": {
        "colab": {
          "base_uri": "https://localhost:8080/"
        },
        "id": "n07wcR_vPax1",
        "outputId": "ea2c10af-2d87-4934-81e9-09145136a522"
      },
      "source": [
        "!wget https://storage.googleapis.com/ztm_tf_course/nlp_getting_started.zip\n",
        "\n",
        "unzip_data(\"nlp_getting_started.zip\")"
      ],
      "execution_count": 3,
      "outputs": [
        {
          "output_type": "stream",
          "text": [
            "--2021-05-19 12:11:36--  https://storage.googleapis.com/ztm_tf_course/nlp_getting_started.zip\n",
            "Resolving storage.googleapis.com (storage.googleapis.com)... 172.217.164.144, 142.250.73.208, 142.250.73.240, ...\n",
            "Connecting to storage.googleapis.com (storage.googleapis.com)|172.217.164.144|:443... connected.\n",
            "HTTP request sent, awaiting response... 200 OK\n",
            "Length: 607343 (593K) [application/zip]\n",
            "Saving to: ‘nlp_getting_started.zip’\n",
            "\n",
            "\rnlp_getting_started   0%[                    ]       0  --.-KB/s               \rnlp_getting_started 100%[===================>] 593.11K  --.-KB/s    in 0.004s  \n",
            "\n",
            "2021-05-19 12:11:36 (136 MB/s) - ‘nlp_getting_started.zip’ saved [607343/607343]\n",
            "\n"
          ],
          "name": "stdout"
        }
      ]
    },
    {
      "cell_type": "markdown",
      "metadata": {
        "id": "U3ncZHW9NfqH"
      },
      "source": [
        "## Visualizing a text dataset\n",
        "\n",
        "To visualie our text samples, we first have to read them in, one way to do so would be to use Python: \n",
        "\n",
        "Another way to do this is to use pandas.\n",
        "\n",
        "(If text dataset is very large, cannot ise pandas (will tkaes of to much RAM).\n",
        "\n"
      ]
    },
    {
      "cell_type": "code",
      "metadata": {
        "colab": {
          "base_uri": "https://localhost:8080/",
          "height": 204
        },
        "id": "pMSX-pP6N4ZP",
        "outputId": "50d6eff8-2524-4726-cdc2-447ab20ea781"
      },
      "source": [
        "import pandas as pd\n",
        "\n",
        "train_df = pd.read_csv(\"train.csv\")\n",
        "test_df = pd.read_csv('test.csv')\n",
        "\n",
        "train_df.head()"
      ],
      "execution_count": 4,
      "outputs": [
        {
          "output_type": "execute_result",
          "data": {
            "text/html": [
              "<div>\n",
              "<style scoped>\n",
              "    .dataframe tbody tr th:only-of-type {\n",
              "        vertical-align: middle;\n",
              "    }\n",
              "\n",
              "    .dataframe tbody tr th {\n",
              "        vertical-align: top;\n",
              "    }\n",
              "\n",
              "    .dataframe thead th {\n",
              "        text-align: right;\n",
              "    }\n",
              "</style>\n",
              "<table border=\"1\" class=\"dataframe\">\n",
              "  <thead>\n",
              "    <tr style=\"text-align: right;\">\n",
              "      <th></th>\n",
              "      <th>id</th>\n",
              "      <th>keyword</th>\n",
              "      <th>location</th>\n",
              "      <th>text</th>\n",
              "      <th>target</th>\n",
              "    </tr>\n",
              "  </thead>\n",
              "  <tbody>\n",
              "    <tr>\n",
              "      <th>0</th>\n",
              "      <td>1</td>\n",
              "      <td>NaN</td>\n",
              "      <td>NaN</td>\n",
              "      <td>Our Deeds are the Reason of this #earthquake M...</td>\n",
              "      <td>1</td>\n",
              "    </tr>\n",
              "    <tr>\n",
              "      <th>1</th>\n",
              "      <td>4</td>\n",
              "      <td>NaN</td>\n",
              "      <td>NaN</td>\n",
              "      <td>Forest fire near La Ronge Sask. Canada</td>\n",
              "      <td>1</td>\n",
              "    </tr>\n",
              "    <tr>\n",
              "      <th>2</th>\n",
              "      <td>5</td>\n",
              "      <td>NaN</td>\n",
              "      <td>NaN</td>\n",
              "      <td>All residents asked to 'shelter in place' are ...</td>\n",
              "      <td>1</td>\n",
              "    </tr>\n",
              "    <tr>\n",
              "      <th>3</th>\n",
              "      <td>6</td>\n",
              "      <td>NaN</td>\n",
              "      <td>NaN</td>\n",
              "      <td>13,000 people receive #wildfires evacuation or...</td>\n",
              "      <td>1</td>\n",
              "    </tr>\n",
              "    <tr>\n",
              "      <th>4</th>\n",
              "      <td>7</td>\n",
              "      <td>NaN</td>\n",
              "      <td>NaN</td>\n",
              "      <td>Just got sent this photo from Ruby #Alaska as ...</td>\n",
              "      <td>1</td>\n",
              "    </tr>\n",
              "  </tbody>\n",
              "</table>\n",
              "</div>"
            ],
            "text/plain": [
              "   id keyword  ...                                               text target\n",
              "0   1     NaN  ...  Our Deeds are the Reason of this #earthquake M...      1\n",
              "1   4     NaN  ...             Forest fire near La Ronge Sask. Canada      1\n",
              "2   5     NaN  ...  All residents asked to 'shelter in place' are ...      1\n",
              "3   6     NaN  ...  13,000 people receive #wildfires evacuation or...      1\n",
              "4   7     NaN  ...  Just got sent this photo from Ruby #Alaska as ...      1\n",
              "\n",
              "[5 rows x 5 columns]"
            ]
          },
          "metadata": {
            "tags": []
          },
          "execution_count": 4
        }
      ]
    },
    {
      "cell_type": "code",
      "metadata": {
        "colab": {
          "base_uri": "https://localhost:8080/",
          "height": 35
        },
        "id": "6wEgvLPWOq38",
        "outputId": "d8cfd2ed-72e0-4554-bf7d-f4f36a3d583d"
      },
      "source": [
        "train_df['text'][0]"
      ],
      "execution_count": 5,
      "outputs": [
        {
          "output_type": "execute_result",
          "data": {
            "application/vnd.google.colaboratory.intrinsic+json": {
              "type": "string"
            },
            "text/plain": [
              "'Our Deeds are the Reason of this #earthquake May ALLAH Forgive us all'"
            ]
          },
          "metadata": {
            "tags": []
          },
          "execution_count": 5
        }
      ]
    },
    {
      "cell_type": "code",
      "metadata": {
        "colab": {
          "base_uri": "https://localhost:8080/",
          "height": 204
        },
        "id": "GMJJNtQQOzCx",
        "outputId": "c5b63d2d-8713-46a3-92c6-f26333adf564"
      },
      "source": [
        "# Shuffle training dataframe\n",
        "\n",
        "train_df_shuffled = train_df.sample(frac = 1, random_state = 42)\n",
        "train_df_shuffled.head()"
      ],
      "execution_count": 6,
      "outputs": [
        {
          "output_type": "execute_result",
          "data": {
            "text/html": [
              "<div>\n",
              "<style scoped>\n",
              "    .dataframe tbody tr th:only-of-type {\n",
              "        vertical-align: middle;\n",
              "    }\n",
              "\n",
              "    .dataframe tbody tr th {\n",
              "        vertical-align: top;\n",
              "    }\n",
              "\n",
              "    .dataframe thead th {\n",
              "        text-align: right;\n",
              "    }\n",
              "</style>\n",
              "<table border=\"1\" class=\"dataframe\">\n",
              "  <thead>\n",
              "    <tr style=\"text-align: right;\">\n",
              "      <th></th>\n",
              "      <th>id</th>\n",
              "      <th>keyword</th>\n",
              "      <th>location</th>\n",
              "      <th>text</th>\n",
              "      <th>target</th>\n",
              "    </tr>\n",
              "  </thead>\n",
              "  <tbody>\n",
              "    <tr>\n",
              "      <th>2644</th>\n",
              "      <td>3796</td>\n",
              "      <td>destruction</td>\n",
              "      <td>NaN</td>\n",
              "      <td>So you have a new weapon that can cause un-ima...</td>\n",
              "      <td>1</td>\n",
              "    </tr>\n",
              "    <tr>\n",
              "      <th>2227</th>\n",
              "      <td>3185</td>\n",
              "      <td>deluge</td>\n",
              "      <td>NaN</td>\n",
              "      <td>The f$&amp;amp;@ing things I do for #GISHWHES Just...</td>\n",
              "      <td>0</td>\n",
              "    </tr>\n",
              "    <tr>\n",
              "      <th>5448</th>\n",
              "      <td>7769</td>\n",
              "      <td>police</td>\n",
              "      <td>UK</td>\n",
              "      <td>DT @georgegalloway: RT @Galloway4Mayor: ÛÏThe...</td>\n",
              "      <td>1</td>\n",
              "    </tr>\n",
              "    <tr>\n",
              "      <th>132</th>\n",
              "      <td>191</td>\n",
              "      <td>aftershock</td>\n",
              "      <td>NaN</td>\n",
              "      <td>Aftershock back to school kick off was great. ...</td>\n",
              "      <td>0</td>\n",
              "    </tr>\n",
              "    <tr>\n",
              "      <th>6845</th>\n",
              "      <td>9810</td>\n",
              "      <td>trauma</td>\n",
              "      <td>Montgomery County, MD</td>\n",
              "      <td>in response to trauma Children of Addicts deve...</td>\n",
              "      <td>0</td>\n",
              "    </tr>\n",
              "  </tbody>\n",
              "</table>\n",
              "</div>"
            ],
            "text/plain": [
              "        id  ... target\n",
              "2644  3796  ...      1\n",
              "2227  3185  ...      0\n",
              "5448  7769  ...      1\n",
              "132    191  ...      0\n",
              "6845  9810  ...      0\n",
              "\n",
              "[5 rows x 5 columns]"
            ]
          },
          "metadata": {
            "tags": []
          },
          "execution_count": 6
        }
      ]
    },
    {
      "cell_type": "code",
      "metadata": {
        "colab": {
          "base_uri": "https://localhost:8080/",
          "height": 204
        },
        "id": "Wf5tQuYPPOI5",
        "outputId": "afcbbeb8-a199-4ee3-df94-334625af44f0"
      },
      "source": [
        "# What does the test dataframe look like?\n",
        "\n",
        "test_df.head()"
      ],
      "execution_count": 7,
      "outputs": [
        {
          "output_type": "execute_result",
          "data": {
            "text/html": [
              "<div>\n",
              "<style scoped>\n",
              "    .dataframe tbody tr th:only-of-type {\n",
              "        vertical-align: middle;\n",
              "    }\n",
              "\n",
              "    .dataframe tbody tr th {\n",
              "        vertical-align: top;\n",
              "    }\n",
              "\n",
              "    .dataframe thead th {\n",
              "        text-align: right;\n",
              "    }\n",
              "</style>\n",
              "<table border=\"1\" class=\"dataframe\">\n",
              "  <thead>\n",
              "    <tr style=\"text-align: right;\">\n",
              "      <th></th>\n",
              "      <th>id</th>\n",
              "      <th>keyword</th>\n",
              "      <th>location</th>\n",
              "      <th>text</th>\n",
              "    </tr>\n",
              "  </thead>\n",
              "  <tbody>\n",
              "    <tr>\n",
              "      <th>0</th>\n",
              "      <td>0</td>\n",
              "      <td>NaN</td>\n",
              "      <td>NaN</td>\n",
              "      <td>Just happened a terrible car crash</td>\n",
              "    </tr>\n",
              "    <tr>\n",
              "      <th>1</th>\n",
              "      <td>2</td>\n",
              "      <td>NaN</td>\n",
              "      <td>NaN</td>\n",
              "      <td>Heard about #earthquake is different cities, s...</td>\n",
              "    </tr>\n",
              "    <tr>\n",
              "      <th>2</th>\n",
              "      <td>3</td>\n",
              "      <td>NaN</td>\n",
              "      <td>NaN</td>\n",
              "      <td>there is a forest fire at spot pond, geese are...</td>\n",
              "    </tr>\n",
              "    <tr>\n",
              "      <th>3</th>\n",
              "      <td>9</td>\n",
              "      <td>NaN</td>\n",
              "      <td>NaN</td>\n",
              "      <td>Apocalypse lighting. #Spokane #wildfires</td>\n",
              "    </tr>\n",
              "    <tr>\n",
              "      <th>4</th>\n",
              "      <td>11</td>\n",
              "      <td>NaN</td>\n",
              "      <td>NaN</td>\n",
              "      <td>Typhoon Soudelor kills 28 in China and Taiwan</td>\n",
              "    </tr>\n",
              "  </tbody>\n",
              "</table>\n",
              "</div>"
            ],
            "text/plain": [
              "   id keyword location                                               text\n",
              "0   0     NaN      NaN                 Just happened a terrible car crash\n",
              "1   2     NaN      NaN  Heard about #earthquake is different cities, s...\n",
              "2   3     NaN      NaN  there is a forest fire at spot pond, geese are...\n",
              "3   9     NaN      NaN           Apocalypse lighting. #Spokane #wildfires\n",
              "4  11     NaN      NaN      Typhoon Soudelor kills 28 in China and Taiwan"
            ]
          },
          "metadata": {
            "tags": []
          },
          "execution_count": 7
        }
      ]
    },
    {
      "cell_type": "code",
      "metadata": {
        "colab": {
          "base_uri": "https://localhost:8080/"
        },
        "id": "85kR-NvnPYL5",
        "outputId": "b8d0d7ae-d22f-4239-c83a-6e4c7d758537"
      },
      "source": [
        "# How many examples of each class?\n",
        "train_df.target.value_counts()"
      ],
      "execution_count": 8,
      "outputs": [
        {
          "output_type": "execute_result",
          "data": {
            "text/plain": [
              "0    4342\n",
              "1    3271\n",
              "Name: target, dtype: int64"
            ]
          },
          "metadata": {
            "tags": []
          },
          "execution_count": 8
        }
      ]
    },
    {
      "cell_type": "code",
      "metadata": {
        "colab": {
          "base_uri": "https://localhost:8080/"
        },
        "id": "PNxPDFVsPjaE",
        "outputId": "587bc6e3-b806-4f0f-b781-114cb8f88eb3"
      },
      "source": [
        "# How many total samples?\n",
        "len(train_df), len(test_df)"
      ],
      "execution_count": 9,
      "outputs": [
        {
          "output_type": "execute_result",
          "data": {
            "text/plain": [
              "(7613, 3263)"
            ]
          },
          "metadata": {
            "tags": []
          },
          "execution_count": 9
        }
      ]
    },
    {
      "cell_type": "code",
      "metadata": {
        "colab": {
          "base_uri": "https://localhost:8080/"
        },
        "id": "YQBONc5XQB21",
        "outputId": "4a139126-f0af-49f1-ca34-040714905835"
      },
      "source": [
        "# Let's visualize some random training examples\n",
        "\n",
        "import random\n",
        "\n",
        "random_index = random.randint(0, len(train_df)-5) # create random indexes not higher than the total number of samples\n",
        "\n",
        "for row in train_df_shuffled[['text', 'target']][random_index: random_index + 5].itertuples():\n",
        "  _, text, target = row #gets rid of index\n",
        "  print(f\"Target: {target}\", \"(real disaster)\" if target > 0 else \"(not real disaster\")\n",
        "  print(f\"Text:\\n{text}\\n\")\n",
        "  print(\"---\\n\")"
      ],
      "execution_count": 10,
      "outputs": [
        {
          "output_type": "stream",
          "text": [
            "Target: 0 (not real disaster\n",
            "Text:\n",
            "New and now: Different (FNaF fanfiction): Trixie_drowned / 2 pagesHi my awesome proxies it's ... http://t.co/366NhTg3Tz #wattpad #promo\n",
            "\n",
            "---\n",
            "\n",
            "Target: 0 (not real disaster\n",
            "Text:\n",
            "Reddit updates content policy promises to quarantine Û÷extremely offensiveÛª communities http://t.co/KmTwA3n1Gf\n",
            "\n",
            "---\n",
            "\n",
            "Target: 0 (not real disaster\n",
            "Text:\n",
            "Don't think for one second I'm out to drown your memory. Baby you ain't worth the whiskey.\n",
            "\n",
            "---\n",
            "\n",
            "Target: 0 (not real disaster\n",
            "Text:\n",
            "Crackdown 3 Destruction Restricted to Multiplayer: Crackdown 3 impressed earlier this week with a demonstratio... http://t.co/LMWKjsYCgj\n",
            "\n",
            "---\n",
            "\n",
            "Target: 0 (not real disaster\n",
            "Text:\n",
            "NHS England announces new plan to meet emergency care targets http://t.co/0x2BIEqXPV\n",
            "\n",
            "---\n",
            "\n"
          ],
          "name": "stdout"
        }
      ]
    },
    {
      "cell_type": "markdown",
      "metadata": {
        "id": "7YOA44HYRFO4"
      },
      "source": [
        "### Split data into training and validation sets"
      ]
    },
    {
      "cell_type": "code",
      "metadata": {
        "id": "eLvaFplXVxYB"
      },
      "source": [
        "from sklearn.model_selection import train_test_split"
      ],
      "execution_count": 11,
      "outputs": []
    },
    {
      "cell_type": "code",
      "metadata": {
        "id": "T--31tdmV8-p"
      },
      "source": [
        "# Use train_test_split top split training data into training and validation sets\n",
        "\n",
        "train_sentences, val_sentences, train_labels, val_labels = train_test_split(train_df_shuffled['text'].to_numpy(), train_df_shuffled['target'].to_numpy(),\n",
        "                                                                            test_size = 0.1, random_state = 42)"
      ],
      "execution_count": 12,
      "outputs": []
    },
    {
      "cell_type": "code",
      "metadata": {
        "colab": {
          "base_uri": "https://localhost:8080/"
        },
        "id": "wMmCJhagWgrX",
        "outputId": "2428db68-1796-4c7a-872a-8986ee4d5455"
      },
      "source": [
        "# Check the lengths\n",
        "\n",
        "len(train_sentences), len(train_labels), len(val_sentences), len(val_labels)"
      ],
      "execution_count": 13,
      "outputs": [
        {
          "output_type": "execute_result",
          "data": {
            "text/plain": [
              "(6851, 6851, 762, 762)"
            ]
          },
          "metadata": {
            "tags": []
          },
          "execution_count": 13
        }
      ]
    },
    {
      "cell_type": "code",
      "metadata": {
        "colab": {
          "base_uri": "https://localhost:8080/"
        },
        "id": "n1IAOaMvWn1h",
        "outputId": "4975b26e-1da6-40c3-b333-bacf94b09c89"
      },
      "source": [
        "# Check the first 10 samples\n",
        "\n",
        "train_sentences[:10], train_labels[:10]"
      ],
      "execution_count": 14,
      "outputs": [
        {
          "output_type": "execute_result",
          "data": {
            "text/plain": [
              "(array(['@mogacola @zamtriossu i screamed after hitting tweet',\n",
              "        'Imagine getting flattened by Kurt Zouma',\n",
              "        '@Gurmeetramrahim #MSGDoing111WelfareWorks Green S welfare force ke appx 65000 members har time disaster victim ki help ke liye tyar hai....',\n",
              "        \"@shakjn @C7 @Magnums im shaking in fear he's gonna hack the planet\",\n",
              "        'Somehow find you and I collide http://t.co/Ee8RpOahPk',\n",
              "        '@EvaHanderek @MarleyKnysh great times until the bus driver held us hostage in the mall parking lot lmfao',\n",
              "        'destroy the free fandom honestly',\n",
              "        'Weapons stolen from National Guard Armory in New Albany still missing #Gunsense http://t.co/lKNU8902JE',\n",
              "        '@wfaaweather Pete when will the heat wave pass? Is it really going to be mid month? Frisco Boy Scouts have a canoe trip in Okla.',\n",
              "        'Patient-reported outcomes in long-term survivors of metastatic colorectal cancer - British Journal of Surgery http://t.co/5Yl4DC1Tqt'],\n",
              "       dtype=object), array([0, 0, 1, 0, 0, 1, 1, 0, 1, 1]))"
            ]
          },
          "metadata": {
            "tags": []
          },
          "execution_count": 14
        }
      ]
    },
    {
      "cell_type": "markdown",
      "metadata": {
        "id": "EBPYFbfpWxka"
      },
      "source": [
        "## Converting text into numbers\n",
        "\n",
        "When dealing with a text problem, one of the first things you'll have to do before you can build a midek is to convert your text to numbers.\n",
        "\n",
        "There are a few ways to do this, namely:\n",
        "* Tokenization - direct mapping of  token( a toke could be a word or a character) to number\n",
        "* embedding - create a matrix of feature vectors for each token the size of the feature vector can be defined and this embedding can be learned"
      ]
    },
    {
      "cell_type": "markdown",
      "metadata": {
        "id": "F418KsbgeMiz"
      },
      "source": [
        "### Text vectorization (tokenization)"
      ]
    },
    {
      "cell_type": "code",
      "metadata": {
        "colab": {
          "base_uri": "https://localhost:8080/"
        },
        "id": "XmDCHzgPeRPi",
        "outputId": "739f07af-10b1-469e-9ec8-74a4cfb4c0df"
      },
      "source": [
        "train_sentences[:5]"
      ],
      "execution_count": 15,
      "outputs": [
        {
          "output_type": "execute_result",
          "data": {
            "text/plain": [
              "array(['@mogacola @zamtriossu i screamed after hitting tweet',\n",
              "       'Imagine getting flattened by Kurt Zouma',\n",
              "       '@Gurmeetramrahim #MSGDoing111WelfareWorks Green S welfare force ke appx 65000 members har time disaster victim ki help ke liye tyar hai....',\n",
              "       \"@shakjn @C7 @Magnums im shaking in fear he's gonna hack the planet\",\n",
              "       'Somehow find you and I collide http://t.co/Ee8RpOahPk'],\n",
              "      dtype=object)"
            ]
          },
          "metadata": {
            "tags": []
          },
          "execution_count": 15
        }
      ]
    },
    {
      "cell_type": "code",
      "metadata": {
        "id": "3JMd2f1QeSkz"
      },
      "source": [
        "import tensorflow as tf\n",
        "from tensorflow.keras.layers.experimental.preprocessing import TextVectorization\n",
        "\n",
        "# Use the default TextVectorization parameters\n",
        "\n",
        "text_vectorizer = TextVectorization(max_tokens = None, # how many words in the vocab (automatically add <OOV>)\n",
        "                                    standardize = \"lower_and_strip_punctuation\",\n",
        "                                    split = \"whitespace\", \n",
        "                                    ngrams = None,\n",
        "                                    output_mode = \"int\", #how to map tokens to numbers\n",
        "                                    output_sequence_length = None, #pads each sequence to the logest sequence\n",
        "                                    pad_to_max_tokens = True)"
      ],
      "execution_count": 16,
      "outputs": []
    },
    {
      "cell_type": "code",
      "metadata": {
        "colab": {
          "base_uri": "https://localhost:8080/"
        },
        "id": "J2DSXz93fNcV",
        "outputId": "1a9b16cd-2bc2-4884-ab17-c8c7c2ce92cc"
      },
      "source": [
        "# Find the average number of tokens (words) in the training tweets\n",
        "\n",
        "round(sum(len(i.split()) for i in train_sentences)) / len(train_sentences)"
      ],
      "execution_count": 17,
      "outputs": [
        {
          "output_type": "execute_result",
          "data": {
            "text/plain": [
              "14.901036345059115"
            ]
          },
          "metadata": {
            "tags": []
          },
          "execution_count": 17
        }
      ]
    },
    {
      "cell_type": "code",
      "metadata": {
        "id": "1PyZrrwPhe4U"
      },
      "source": [
        "# Setup text vectorization variables\n",
        "\n",
        "max_vocab_length = 10000 #max num of words to have in our vocabulary\n",
        "max_length = 15 # max length our seuqences will be (how many words in a tweet, amodel would see)\n",
        "\n",
        "text_vectorizer = TextVectorization(max_tokens = max_vocab_length, output_mode= 'int', output_sequence_length = max_length)"
      ],
      "execution_count": 18,
      "outputs": []
    },
    {
      "cell_type": "code",
      "metadata": {
        "id": "tDVzTznLiDwm"
      },
      "source": [
        "#fit the text vectorier to the training text\n",
        "\n",
        "text_vectorizer.adapt(train_sentences)"
      ],
      "execution_count": 19,
      "outputs": []
    },
    {
      "cell_type": "code",
      "metadata": {
        "colab": {
          "base_uri": "https://localhost:8080/"
        },
        "id": "WKIukLPgmz5A",
        "outputId": "7f09828f-65d9-4b0f-a8bd-1a55aa01c6ef"
      },
      "source": [
        "# Create a sample sentence and tokenize it\n",
        "\n",
        "sample_sentence = \"Theres a flood in my street!\"\n",
        "\n",
        "text_vectorizer([sample_sentence])"
      ],
      "execution_count": 20,
      "outputs": [
        {
          "output_type": "execute_result",
          "data": {
            "text/plain": [
              "<tf.Tensor: shape=(1, 15), dtype=int64, numpy=\n",
              "array([[264,   3, 232,   4,  13, 698,   0,   0,   0,   0,   0,   0,   0,\n",
              "          0,   0]])>"
            ]
          },
          "metadata": {
            "tags": []
          },
          "execution_count": 20
        }
      ]
    },
    {
      "cell_type": "code",
      "metadata": {
        "colab": {
          "base_uri": "https://localhost:8080/"
        },
        "id": "6Td3xFgCnGfD",
        "outputId": "f96e31ef-e549-4387-91a6-10f29100842c"
      },
      "source": [
        "# Choose a random sentence from the training dataset and tokenize iot\n",
        "\n",
        "random_sentence = random.choice(train_sentences)\n",
        "print(f\"Original text:\\n {random_sentence}\\n\\nVectorized version:\")\n",
        "text_vectorizer([random_sentence])"
      ],
      "execution_count": 21,
      "outputs": [
        {
          "output_type": "stream",
          "text": [
            "Original text:\n",
            " #WorldWatchesFerguson #Florida @GovJayNixon @clairecmc How dare you turn our streets into a war zone -a war against CITIZENS?\n",
            "\n",
            "Vectorized version:\n"
          ],
          "name": "stdout"
        },
        {
          "output_type": "execute_result",
          "data": {
            "text/plain": [
              "<tf.Tensor: shape=(1, 15), dtype=int64, numpy=\n",
              "array([[6687, 2110,    1,    1,   62, 2503,   12,  916,  103, 1585,   66,\n",
              "           3,  122,  471,    3]])>"
            ]
          },
          "metadata": {
            "tags": []
          },
          "execution_count": 21
        }
      ]
    },
    {
      "cell_type": "code",
      "metadata": {
        "colab": {
          "base_uri": "https://localhost:8080/"
        },
        "id": "FjEI87-Mnpiw",
        "outputId": "9916861b-dcd4-4559-de3c-d5bf68c043e1"
      },
      "source": [
        "# Get the unique words in the vocabulary\n",
        "\n",
        "words_in_vocab = text_vectorizer.get_vocabulary() #get all of the unique words in the training data\n",
        "top_5_words = words_in_vocab[:5] # get the most common words\n",
        "bottom_5_words = words_in_vocab[-5:] #get the least common words\n",
        "print(f\"Number of words in vocab: {len(words_in_vocab)}\")\n",
        "print(f\"5 most comon words: {top_5_words}\")"
      ],
      "execution_count": 22,
      "outputs": [
        {
          "output_type": "stream",
          "text": [
            "Number of words in vocab: 10000\n",
            "5 most comon words: ['', '[UNK]', 'the', 'a', 'in']\n"
          ],
          "name": "stdout"
        }
      ]
    },
    {
      "cell_type": "markdown",
      "metadata": {
        "id": "DWW769H8pF-8"
      },
      "source": [
        "### Creating an Embedding using an Embedding Layer\n",
        "\n",
        "To make our embedding, we're going to use tensoflows embedding layer\n",
        "\n",
        "The parameters we actually care about:\n",
        "* `input_dim` = the size of our vocabulary\n",
        "* `output_dim` = the size of the output embedding vector, for example, a value of 100 would mean each token gets represented by a vecotr 100 long\n",
        "* `input_length` = length of the sequences being passed to the embedding layer"
      ]
    },
    {
      "cell_type": "code",
      "metadata": {
        "colab": {
          "base_uri": "https://localhost:8080/"
        },
        "id": "5B7iSg3Ep7iT",
        "outputId": "cc020584-ae22-4522-a6da-412113af067d"
      },
      "source": [
        "from tensorflow.keras import layers\n",
        "\n",
        "# in keras, wordks best when numbers are divisible by eight\n",
        "\n",
        "embedding = layers.Embedding(input_dim = max_vocab_length,\n",
        "                             output_dim = 128,\n",
        "                             input_length = max_length\n",
        "                             )\n",
        "embedding"
      ],
      "execution_count": 23,
      "outputs": [
        {
          "output_type": "execute_result",
          "data": {
            "text/plain": [
              "<tensorflow.python.keras.layers.embeddings.Embedding at 0x7f94e5b20890>"
            ]
          },
          "metadata": {
            "tags": []
          },
          "execution_count": 23
        }
      ]
    },
    {
      "cell_type": "code",
      "metadata": {
        "colab": {
          "base_uri": "https://localhost:8080/"
        },
        "id": "pbX5XRVfrNRv",
        "outputId": "3797cb6f-3d70-49fc-ebb7-f3e1d64c0f79"
      },
      "source": [
        "# Get a random sentence from the training set\n",
        "\n",
        "random_sentence = random.choice(train_sentences)\n",
        "print(f\"Original text:\\n {random_sentence}\\n\\nEmbedded version:\")\n",
        "\n",
        "# Embed the random sentence (turn into dense vecotrs of fixed size)\n",
        "sample_embed = embedding(text_vectorizer([random_sentence]))\n",
        "sample_embed"
      ],
      "execution_count": 24,
      "outputs": [
        {
          "output_type": "stream",
          "text": [
            "Original text:\n",
            " Mama I'm still thuggin the world is a war zone my homies is inmate and most of em dead wrong.\n",
            "\n",
            "Embedded version:\n"
          ],
          "name": "stdout"
        },
        {
          "output_type": "execute_result",
          "data": {
            "text/plain": [
              "<tf.Tensor: shape=(1, 15, 128), dtype=float32, numpy=\n",
              "array([[[ 0.04891508,  0.00133355,  0.03100068, ...,  0.03198076,\n",
              "          0.00771584,  0.02631621],\n",
              "        [ 0.00277073,  0.0330187 , -0.01406398, ...,  0.04356562,\n",
              "          0.04761452,  0.01171369],\n",
              "        [ 0.01120976,  0.04351958, -0.03408929, ..., -0.00014192,\n",
              "         -0.01995852,  0.00440411],\n",
              "        ...,\n",
              "        [ 0.02864448, -0.00498967, -0.0388552 , ...,  0.04233483,\n",
              "          0.03624347, -0.02076697],\n",
              "        [ 0.04883141,  0.03774257,  0.03691156, ...,  0.00495027,\n",
              "          0.02485862, -0.03939676],\n",
              "        [ 0.01949555,  0.00221227, -0.02516289, ...,  0.03136155,\n",
              "          0.04208573, -0.0192222 ]]], dtype=float32)>"
            ]
          },
          "metadata": {
            "tags": []
          },
          "execution_count": 24
        }
      ]
    },
    {
      "cell_type": "code",
      "metadata": {
        "colab": {
          "base_uri": "https://localhost:8080/"
        },
        "id": "atTvotyfryMA",
        "outputId": "ad7bae99-6dde-451a-bb81-e3aad6167d0a"
      },
      "source": [
        "# Chekc out a single token's embedding\n",
        "\n",
        "sample_embed[0][0], sample_embed[0][0].shape, random_sentence[0]"
      ],
      "execution_count": 25,
      "outputs": [
        {
          "output_type": "execute_result",
          "data": {
            "text/plain": [
              "(<tf.Tensor: shape=(128,), dtype=float32, numpy=\n",
              " array([ 0.04891508,  0.00133355,  0.03100068, -0.03917714, -0.0126339 ,\n",
              "         0.00683988, -0.03167924, -0.0190185 ,  0.02184613,  0.01456794,\n",
              "         0.0375105 , -0.03167715,  0.01725764, -0.04822215, -0.03084376,\n",
              "        -0.01439924, -0.00203819, -0.02878801,  0.01361526,  0.03360495,\n",
              "        -0.01007072, -0.02598574, -0.03436575,  0.04564662,  0.01442686,\n",
              "        -0.04291818,  0.04424231, -0.00349885,  0.03078785, -0.00618826,\n",
              "        -0.02684963,  0.02331573, -0.03868927, -0.00291923,  0.00551846,\n",
              "         0.02016873, -0.04412545, -0.01880571,  0.04986257,  0.00067301,\n",
              "        -0.03585313, -0.04664345,  0.02902726, -0.01204104, -0.00801116,\n",
              "         0.02623982,  0.03951974,  0.02932478, -0.04026133, -0.00529939,\n",
              "         0.04275315,  0.04648316, -0.01027902,  0.02210024, -0.03229425,\n",
              "         0.02128896, -0.03329878,  0.00099499, -0.01932708,  0.02794145,\n",
              "         0.04752203,  0.00350274, -0.0487613 , -0.03392165, -0.04370746,\n",
              "         0.01351026,  0.01726213,  0.04714962, -0.03085632, -0.03811766,\n",
              "         0.0409412 ,  0.00874672,  0.04435669,  0.03099556,  0.00335226,\n",
              "         0.04708784, -0.00123585, -0.00023965,  0.01959561,  0.01060992,\n",
              "        -0.03102822, -0.03129895, -0.04858078, -0.04014166,  0.02278358,\n",
              "         0.01404376, -0.03494822, -0.01105362,  0.04158875, -0.00118438,\n",
              "        -0.02059686, -0.04577461,  0.02750302, -0.00449506,  0.02685373,\n",
              "        -0.02677181, -0.04501228, -0.01421913,  0.01554194, -0.016025  ,\n",
              "        -0.02889879,  0.03758976, -0.03156479, -0.01257943, -0.00132576,\n",
              "        -0.03131714,  0.0222324 , -0.01433399, -0.02324973,  0.01055221,\n",
              "        -0.02632735, -0.00880712, -0.01102235,  0.01638467,  0.02309434,\n",
              "         0.037394  ,  0.04382377, -0.04207201,  0.04291699,  0.01880962,\n",
              "         0.02576616,  0.03968182, -0.00379456,  0.01830144,  0.02001298,\n",
              "         0.03198076,  0.00771584,  0.02631621], dtype=float32)>,\n",
              " TensorShape([128]),\n",
              " 'M')"
            ]
          },
          "metadata": {
            "tags": []
          },
          "execution_count": 25
        }
      ]
    },
    {
      "cell_type": "markdown",
      "metadata": {
        "id": "JtMpeo5YsY9x"
      },
      "source": [
        "## Modelling a text dataset (running a series of experiments)\n",
        "\n",
        "Now we're got a wat to turn our text srequences into numbers, it's time to start building a series of modelling experiments, start from a baseline and move on from there \n",
        "\n",
        "* Model 0: Naive Bayes (baseline)\n",
        "* Model 1: Feed-forward neual network (dense model)\n",
        "* Model 2: GRU model (RNN)\n",
        "* Model 4: Bidirectional-LSTM\n",
        "* Model 5: 1d Convolutional Neural Network (CNN)\n",
        "* Model 6: Tensorflow Hub Pretrained Geature Extractor (using transfer learning for NLP)\n",
        "* Model 7: Same as model 6 with 10% of training data\n",
        "\n",
        "How are we going to approach all of these?\n",
        "\n",
        "Use the standard steps in modelling with tensorflow:\n",
        "\n",
        "* Create a model\n",
        "* Build a model\n",
        "* Compile a model\n",
        "* Fit the model"
      ]
    },
    {
      "cell_type": "markdown",
      "metadata": {
        "id": "MRqK9DU2zyOB"
      },
      "source": [
        "### Model 0: Getting a baseline\n",
        "\n",
        "As with all machine learning modelling experiments it's important to create a baseline model so u got a benchmark for future experiments to build upon\n",
        "\n",
        "To create our baseline, we'll use SKlearns Multinomial Naive Bayes using the TF-IDF formula to convert our words to numbers\n",
        "\n",
        "> **Note:** It's common practive to use non-DL algorithms as a baseline because of their speed, then later using DL to improve"
      ]
    },
    {
      "cell_type": "code",
      "metadata": {
        "colab": {
          "base_uri": "https://localhost:8080/"
        },
        "id": "FXHA03tu11fw",
        "outputId": "fcc3a6e2-1bc4-4605-bd72-b6cab3df8e2f"
      },
      "source": [
        "\n",
        "from sklearn.feature_extraction.text import TfidfVectorizer\n",
        "from sklearn.naive_bayes import MultinomialNB\n",
        "from sklearn.pipeline import Pipeline\n",
        "\n",
        "# Create tokenization and modelling pipeline\n",
        "\n",
        "model_0 = Pipeline([\n",
        "                    (\"tfidf\", TfidfVectorizer()),\n",
        "                    (\"clf\", MultinomialNB())\n",
        "])\n",
        "\n",
        "# Fit the pipeline to the training data\n",
        "\n",
        "model_0.fit(train_sentences, train_labels)"
      ],
      "execution_count": 26,
      "outputs": [
        {
          "output_type": "execute_result",
          "data": {
            "text/plain": [
              "Pipeline(memory=None,\n",
              "         steps=[('tfidf',\n",
              "                 TfidfVectorizer(analyzer='word', binary=False,\n",
              "                                 decode_error='strict',\n",
              "                                 dtype=<class 'numpy.float64'>,\n",
              "                                 encoding='utf-8', input='content',\n",
              "                                 lowercase=True, max_df=1.0, max_features=None,\n",
              "                                 min_df=1, ngram_range=(1, 1), norm='l2',\n",
              "                                 preprocessor=None, smooth_idf=True,\n",
              "                                 stop_words=None, strip_accents=None,\n",
              "                                 sublinear_tf=False,\n",
              "                                 token_pattern='(?u)\\\\b\\\\w\\\\w+\\\\b',\n",
              "                                 tokenizer=None, use_idf=True,\n",
              "                                 vocabulary=None)),\n",
              "                ('clf',\n",
              "                 MultinomialNB(alpha=1.0, class_prior=None, fit_prior=True))],\n",
              "         verbose=False)"
            ]
          },
          "metadata": {
            "tags": []
          },
          "execution_count": 26
        }
      ]
    },
    {
      "cell_type": "code",
      "metadata": {
        "id": "B0pGO_Cu2nOz",
        "colab": {
          "base_uri": "https://localhost:8080/"
        },
        "outputId": "4f48acaa-5fd9-47b8-fd02-ca3e029fca04"
      },
      "source": [
        "# Evaluate our baseline model \n",
        "\n",
        "baseline_score = model_0.score(val_sentences, val_labels)\n",
        "print(f\"Our baseline model achieves an accuracy of: {baseline_score*100:.2f}%\")"
      ],
      "execution_count": 27,
      "outputs": [
        {
          "output_type": "stream",
          "text": [
            "Our baseline model achieves an accuracy of: 79.27%\n"
          ],
          "name": "stdout"
        }
      ]
    },
    {
      "cell_type": "code",
      "metadata": {
        "colab": {
          "base_uri": "https://localhost:8080/"
        },
        "id": "Sgfvxx5KM1Qi",
        "outputId": "55131b77-1a7e-42c2-c863-cfc2b11cc6f9"
      },
      "source": [
        "# Make predictions\n",
        "\n",
        "baseline_preds = model_0.predict(val_sentences)\n",
        "baseline_preds[:20]"
      ],
      "execution_count": 28,
      "outputs": [
        {
          "output_type": "execute_result",
          "data": {
            "text/plain": [
              "array([1, 1, 1, 0, 0, 1, 1, 1, 1, 0, 0, 1, 0, 0, 0, 0, 0, 0, 0, 1])"
            ]
          },
          "metadata": {
            "tags": []
          },
          "execution_count": 28
        }
      ]
    },
    {
      "cell_type": "markdown",
      "metadata": {
        "id": "pxtyEbMaM20B"
      },
      "source": [
        "### Creating an evaluation function for our model experiments\n",
        "\n",
        "We could evaluate model's predictin with different methods every time, but this could be cumbersome and could easily be fixed with a function\n",
        "\n",
        "Let's create one to compare our model's predictions with the truth labels using the following metrics:\n",
        "\n",
        "* Accuracy\n",
        "* Precision\n",
        "* Recall\n",
        "* F1-score"
      ]
    },
    {
      "cell_type": "code",
      "metadata": {
        "id": "Do39oLkhOEnq"
      },
      "source": [
        "# Function to evaluate: accuracty, precision, recall, f1-score\n",
        "\n",
        "from sklearn.metrics import accuracy_score, precision_recall_fscore_support\n",
        "\n",
        "def calculate_results(y_true, y_pred):\n",
        "  \"\"\"\n",
        "  Calulates model accuracy, precision, recall and f1 score of a binary classification model.\n",
        "  \"\"\"\n",
        "  #Calculate model accuracy\n",
        "  model_accuracy = accuracy_score(y_true, y_pred) * 100\n",
        "  #Calculate model precision, recall ,and f01 score using \"weighted\" average\n",
        "  model_precision, model_recall, model_f1, _ = precision_recall_fscore_support(y_true, y_pred, average = 'weighted')\n",
        "  model_results = {\"accuracy\": model_accuracy,\n",
        "                   \"precision\": model_precision,\n",
        "                   \"recall\": model_recall,\n",
        "                   \"f1\": model_f1}\n",
        "  return model_results"
      ],
      "execution_count": 29,
      "outputs": []
    },
    {
      "cell_type": "code",
      "metadata": {
        "colab": {
          "base_uri": "https://localhost:8080/"
        },
        "id": "dfl1-F8APlG3",
        "outputId": "fc1f5190-36f9-4825-ff55-85b9b7a3873c"
      },
      "source": [
        "baseline_results = calculate_results(y_true = val_labels, y_pred = baseline_preds)\n",
        "\n",
        "baseline_results"
      ],
      "execution_count": 30,
      "outputs": [
        {
          "output_type": "execute_result",
          "data": {
            "text/plain": [
              "{'accuracy': 79.26509186351706,\n",
              " 'f1': 0.7862189758049549,\n",
              " 'precision': 0.8111390004213173,\n",
              " 'recall': 0.7926509186351706}"
            ]
          },
          "metadata": {
            "tags": []
          },
          "execution_count": 30
        }
      ]
    },
    {
      "cell_type": "markdown",
      "metadata": {
        "id": "Fk1ExNgnPsj0"
      },
      "source": [
        "### Model 1: A simple dense model"
      ]
    },
    {
      "cell_type": "code",
      "metadata": {
        "id": "JoWkXelQSLHU"
      },
      "source": [
        "# Create a tensorboard callback (need to create a new one for each model)\n",
        "\n",
        "from helper_functions import create_tensorboard_callback\n",
        "\n",
        "# Create a directory to save TensorBoard logs\n",
        "\n",
        "SAVE_DIR = \"model_logs\""
      ],
      "execution_count": 31,
      "outputs": []
    },
    {
      "cell_type": "code",
      "metadata": {
        "id": "6-XbEZowS21l"
      },
      "source": [
        "from tensorflow.keras import layers\n",
        "\n",
        "inputs = layers.Input(shape = (1,), dtype = tf.string) # inputs are 1-dimensional\n",
        "x = text_vectorizer(inputs) # turn the input text into numbers\n",
        "x = embedding(x) # create an embedding of the numberized imputs\n",
        "x = layers.GlobalAveragePooling1D()(x) # condense the feature vector for each token to one vector\n",
        "#x = layers.GlobalMaxPool1D()(x)\n",
        "outputs = layers.Dense(1, activation = \"sigmoid\")(x) # Create the output layer, want binary output so use sigmoid\n",
        "\n",
        "model_1 = tf.keras.Model(inputs, outputs, name = \"model_1_dense\")"
      ],
      "execution_count": 32,
      "outputs": []
    },
    {
      "cell_type": "code",
      "metadata": {
        "colab": {
          "base_uri": "https://localhost:8080/"
        },
        "id": "3_cQ031LTiWo",
        "outputId": "bcfd1e12-ee2f-40fa-abd8-b8b9a3c21049"
      },
      "source": [
        "model_1.summary()"
      ],
      "execution_count": 33,
      "outputs": [
        {
          "output_type": "stream",
          "text": [
            "Model: \"model_1_dense\"\n",
            "_________________________________________________________________\n",
            "Layer (type)                 Output Shape              Param #   \n",
            "=================================================================\n",
            "input_1 (InputLayer)         [(None, 1)]               0         \n",
            "_________________________________________________________________\n",
            "text_vectorization_1 (TextVe (None, 15)                0         \n",
            "_________________________________________________________________\n",
            "embedding (Embedding)        (None, 15, 128)           1280000   \n",
            "_________________________________________________________________\n",
            "global_average_pooling1d (Gl (None, 128)               0         \n",
            "_________________________________________________________________\n",
            "dense (Dense)                (None, 1)                 129       \n",
            "=================================================================\n",
            "Total params: 1,280,129\n",
            "Trainable params: 1,280,129\n",
            "Non-trainable params: 0\n",
            "_________________________________________________________________\n"
          ],
          "name": "stdout"
        }
      ]
    },
    {
      "cell_type": "code",
      "metadata": {
        "id": "WSg-pNTrTnQI"
      },
      "source": [
        "# Compile mode\n",
        "\n",
        "model_1.compile(loss = \"binary_crossentropy\", optimizer = tf.keras.optimizers.Adam(), metrics = [\"accuracy\"])"
      ],
      "execution_count": 34,
      "outputs": []
    },
    {
      "cell_type": "code",
      "metadata": {
        "colab": {
          "base_uri": "https://localhost:8080/"
        },
        "id": "VuxtV74lUB3P",
        "outputId": "af5a4cf4-0953-4806-e0ff-7f50c197b271"
      },
      "source": [
        "# Fit the mode\n",
        "model_1_history = model_1.fit(x = train_sentences, y = train_labels, epochs = 15, validation_data = (val_sentences, val_labels),\n",
        "                              callbacks = [create_tensorboard_callback(dir_name = SAVE_DIR, experiment_name = \"model_1_dense\")])"
      ],
      "execution_count": 35,
      "outputs": [
        {
          "output_type": "stream",
          "text": [
            "Saving TensorBoard log files to: model_logs/model_1_dense/20210519-121143\n",
            "Epoch 1/15\n",
            "215/215 [==============================] - 7s 18ms/step - loss: 0.6553 - accuracy: 0.6289 - val_loss: 0.5369 - val_accuracy: 0.7559\n",
            "Epoch 2/15\n",
            "215/215 [==============================] - 3s 14ms/step - loss: 0.4602 - accuracy: 0.8094 - val_loss: 0.4733 - val_accuracy: 0.7835\n",
            "Epoch 3/15\n",
            "215/215 [==============================] - 3s 13ms/step - loss: 0.3540 - accuracy: 0.8571 - val_loss: 0.4591 - val_accuracy: 0.7940\n",
            "Epoch 4/15\n",
            "215/215 [==============================] - 3s 13ms/step - loss: 0.2829 - accuracy: 0.8922 - val_loss: 0.4651 - val_accuracy: 0.7900\n",
            "Epoch 5/15\n",
            "215/215 [==============================] - 3s 13ms/step - loss: 0.2294 - accuracy: 0.9152 - val_loss: 0.4760 - val_accuracy: 0.7874\n",
            "Epoch 6/15\n",
            "215/215 [==============================] - 3s 13ms/step - loss: 0.1955 - accuracy: 0.9314 - val_loss: 0.4983 - val_accuracy: 0.7887\n",
            "Epoch 7/15\n",
            "215/215 [==============================] - 3s 14ms/step - loss: 0.1711 - accuracy: 0.9407 - val_loss: 0.5306 - val_accuracy: 0.7822\n",
            "Epoch 8/15\n",
            "215/215 [==============================] - 3s 13ms/step - loss: 0.1448 - accuracy: 0.9525 - val_loss: 0.5495 - val_accuracy: 0.7782\n",
            "Epoch 9/15\n",
            "215/215 [==============================] - 3s 13ms/step - loss: 0.1261 - accuracy: 0.9562 - val_loss: 0.5750 - val_accuracy: 0.7822\n",
            "Epoch 10/15\n",
            "215/215 [==============================] - 3s 13ms/step - loss: 0.1116 - accuracy: 0.9638 - val_loss: 0.6048 - val_accuracy: 0.7782\n",
            "Epoch 11/15\n",
            "215/215 [==============================] - 3s 13ms/step - loss: 0.1002 - accuracy: 0.9681 - val_loss: 0.6455 - val_accuracy: 0.7769\n",
            "Epoch 12/15\n",
            "215/215 [==============================] - 3s 13ms/step - loss: 0.0889 - accuracy: 0.9703 - val_loss: 0.6768 - val_accuracy: 0.7743\n",
            "Epoch 13/15\n",
            "215/215 [==============================] - 3s 13ms/step - loss: 0.0801 - accuracy: 0.9763 - val_loss: 0.7109 - val_accuracy: 0.7730\n",
            "Epoch 14/15\n",
            "215/215 [==============================] - 3s 13ms/step - loss: 0.0757 - accuracy: 0.9753 - val_loss: 0.7373 - val_accuracy: 0.7690\n",
            "Epoch 15/15\n",
            "215/215 [==============================] - 3s 13ms/step - loss: 0.0653 - accuracy: 0.9796 - val_loss: 0.7620 - val_accuracy: 0.7677\n"
          ],
          "name": "stdout"
        }
      ]
    },
    {
      "cell_type": "code",
      "metadata": {
        "colab": {
          "base_uri": "https://localhost:8080/"
        },
        "id": "-rnWsIXiUqJH",
        "outputId": "3a51955e-69f1-43b7-dda0-d4ee10d53fb0"
      },
      "source": [
        "# Check the results\n",
        "\n",
        "model_1.evaluate(val_sentences, val_labels)"
      ],
      "execution_count": 36,
      "outputs": [
        {
          "output_type": "stream",
          "text": [
            "24/24 [==============================] - 0s 3ms/step - loss: 0.7620 - accuracy: 0.7677\n"
          ],
          "name": "stdout"
        },
        {
          "output_type": "execute_result",
          "data": {
            "text/plain": [
              "[0.7620409727096558, 0.7677165269851685]"
            ]
          },
          "metadata": {
            "tags": []
          },
          "execution_count": 36
        }
      ]
    },
    {
      "cell_type": "code",
      "metadata": {
        "colab": {
          "base_uri": "https://localhost:8080/"
        },
        "id": "nA2JFJFKVJKr",
        "outputId": "cacdfe5c-b3d2-47e7-92ec-0646cfe32b73"
      },
      "source": [
        "model_1_pred_probs = model_1.predict(val_sentences)\n",
        "model_1_pred_probs.shape"
      ],
      "execution_count": 37,
      "outputs": [
        {
          "output_type": "execute_result",
          "data": {
            "text/plain": [
              "(762, 1)"
            ]
          },
          "metadata": {
            "tags": []
          },
          "execution_count": 37
        }
      ]
    },
    {
      "cell_type": "code",
      "metadata": {
        "colab": {
          "base_uri": "https://localhost:8080/"
        },
        "id": "qSifuWJpVSX-",
        "outputId": "ae366198-8072-4cc8-a248-882ba1cf8a11"
      },
      "source": [
        "# look at a single prediction\n",
        "\n",
        "model_1_pred_probs[0] # anything below 0.5 = disaster, abouve = non-=disaster"
      ],
      "execution_count": 38,
      "outputs": [
        {
          "output_type": "execute_result",
          "data": {
            "text/plain": [
              "array([0.56189114], dtype=float32)"
            ]
          },
          "metadata": {
            "tags": []
          },
          "execution_count": 38
        }
      ]
    },
    {
      "cell_type": "code",
      "metadata": {
        "colab": {
          "base_uri": "https://localhost:8080/"
        },
        "id": "Q2rmcAjIVlOJ",
        "outputId": "cea0acb3-fd93-4a06-e590-23599ce134de"
      },
      "source": [
        "# look at the first 10 predictions\n",
        "\n",
        "model_1_pred_probs[:10]"
      ],
      "execution_count": 39,
      "outputs": [
        {
          "output_type": "execute_result",
          "data": {
            "text/plain": [
              "array([[0.56189114],\n",
              "       [0.60060275],\n",
              "       [0.99926096],\n",
              "       [0.0745422 ],\n",
              "       [0.00142469],\n",
              "       [0.9867089 ],\n",
              "       [0.8315361 ],\n",
              "       [0.99997866],\n",
              "       [0.9999453 ],\n",
              "       [0.6284906 ]], dtype=float32)"
            ]
          },
          "metadata": {
            "tags": []
          },
          "execution_count": 39
        }
      ]
    },
    {
      "cell_type": "code",
      "metadata": {
        "colab": {
          "base_uri": "https://localhost:8080/"
        },
        "id": "dwrMHbtGXwsm",
        "outputId": "41a97ab6-89af-4d84-ce45-c2e25e332fc3"
      },
      "source": [
        "# Convert model prediction probablilities to label format\n",
        "\n",
        "model_1_preds = tf.squeeze(tf.round(model_1_pred_probs))\n",
        "\n",
        "model_1_preds[:20]"
      ],
      "execution_count": 40,
      "outputs": [
        {
          "output_type": "execute_result",
          "data": {
            "text/plain": [
              "<tf.Tensor: shape=(20,), dtype=float32, numpy=\n",
              "array([1., 1., 1., 0., 0., 1., 1., 1., 1., 1., 0., 1., 0., 0., 0., 0., 0.,\n",
              "       0., 0., 1.], dtype=float32)>"
            ]
          },
          "metadata": {
            "tags": []
          },
          "execution_count": 40
        }
      ]
    },
    {
      "cell_type": "code",
      "metadata": {
        "colab": {
          "base_uri": "https://localhost:8080/"
        },
        "id": "-X-TB_QbXz17",
        "outputId": "1468f92e-44e3-4932-9f0d-8b48e4ab61dd"
      },
      "source": [
        "# calculate our model_1 results\n",
        "\n",
        "model_1_results = calculate_results(y_true = val_labels, y_pred = model_1_preds)\n",
        "\n",
        "model_1_results"
      ],
      "execution_count": 41,
      "outputs": [
        {
          "output_type": "execute_result",
          "data": {
            "text/plain": [
              "{'accuracy': 76.77165354330708,\n",
              " 'f1': 0.7662770891654436,\n",
              " 'precision': 0.7681410880728078,\n",
              " 'recall': 0.7677165354330708}"
            ]
          },
          "metadata": {
            "tags": []
          },
          "execution_count": 41
        }
      ]
    },
    {
      "cell_type": "code",
      "metadata": {
        "colab": {
          "base_uri": "https://localhost:8080/"
        },
        "id": "z2nYRPQaYP1Y",
        "outputId": "60428d58-ca7c-4d12-8bbc-36d666e47f2f"
      },
      "source": [
        "baseline_results"
      ],
      "execution_count": 42,
      "outputs": [
        {
          "output_type": "execute_result",
          "data": {
            "text/plain": [
              "{'accuracy': 79.26509186351706,\n",
              " 'f1': 0.7862189758049549,\n",
              " 'precision': 0.8111390004213173,\n",
              " 'recall': 0.7926509186351706}"
            ]
          },
          "metadata": {
            "tags": []
          },
          "execution_count": 42
        }
      ]
    },
    {
      "cell_type": "code",
      "metadata": {
        "colab": {
          "base_uri": "https://localhost:8080/"
        },
        "id": "hiA058ZOYZM8",
        "outputId": "68e88c32-f777-4a85-c42b-a8481b0b4127"
      },
      "source": [
        "import numpy as np\n",
        "\n",
        "np.array(list(model_1_results.values())) > np.array(list(baseline_results.values()))"
      ],
      "execution_count": 43,
      "outputs": [
        {
          "output_type": "execute_result",
          "data": {
            "text/plain": [
              "array([False, False, False, False])"
            ]
          },
          "metadata": {
            "tags": []
          },
          "execution_count": 43
        }
      ]
    },
    {
      "cell_type": "markdown",
      "metadata": {
        "id": "BjAm6su5Yg7P"
      },
      "source": [
        "# Visualizing learned embeddings\n"
      ]
    },
    {
      "cell_type": "code",
      "metadata": {
        "colab": {
          "base_uri": "https://localhost:8080/"
        },
        "id": "5lJJQMSjcoyn",
        "outputId": "b3a1eec1-ebce-4b5d-8b24-93b753c19d3d"
      },
      "source": [
        "# get the vocab from the text vecotrization layer\n",
        "\n",
        "words_in_vocab = text_vectorizer.get_vocabulary()\n",
        "len(words_in_vocab), words_in_vocab[:10]"
      ],
      "execution_count": 44,
      "outputs": [
        {
          "output_type": "execute_result",
          "data": {
            "text/plain": [
              "(10000, ['', '[UNK]', 'the', 'a', 'in', 'to', 'of', 'and', 'i', 'is'])"
            ]
          },
          "metadata": {
            "tags": []
          },
          "execution_count": 44
        }
      ]
    },
    {
      "cell_type": "code",
      "metadata": {
        "colab": {
          "base_uri": "https://localhost:8080/"
        },
        "id": "0zPleCXFc0tT",
        "outputId": "0185045d-330e-44ae-bcf0-97711a5a7768"
      },
      "source": [
        "# Model 1 summary\n",
        "\n",
        "model_1.summary()"
      ],
      "execution_count": 45,
      "outputs": [
        {
          "output_type": "stream",
          "text": [
            "Model: \"model_1_dense\"\n",
            "_________________________________________________________________\n",
            "Layer (type)                 Output Shape              Param #   \n",
            "=================================================================\n",
            "input_1 (InputLayer)         [(None, 1)]               0         \n",
            "_________________________________________________________________\n",
            "text_vectorization_1 (TextVe (None, 15)                0         \n",
            "_________________________________________________________________\n",
            "embedding (Embedding)        (None, 15, 128)           1280000   \n",
            "_________________________________________________________________\n",
            "global_average_pooling1d (Gl (None, 128)               0         \n",
            "_________________________________________________________________\n",
            "dense (Dense)                (None, 1)                 129       \n",
            "=================================================================\n",
            "Total params: 1,280,129\n",
            "Trainable params: 1,280,129\n",
            "Non-trainable params: 0\n",
            "_________________________________________________________________\n"
          ],
          "name": "stdout"
        }
      ]
    },
    {
      "cell_type": "code",
      "metadata": {
        "colab": {
          "base_uri": "https://localhost:8080/"
        },
        "id": "nXdj67FGc7uI",
        "outputId": "227fcf0d-00e7-4c06-b2e2-022bafaa0f94"
      },
      "source": [
        "# Get the wieght matrix of embedding layer\n",
        "# (these are the numerical representations of each token in our training data, which have been learned for 5 epocks)\n",
        "\n",
        "embed_weights = model_1.get_layer(\"embedding\").get_weights()[0]\n",
        "\n",
        "print(embed_weights.shape) # same size as vocab size and embedding dim (output dim of our embedding layer)"
      ],
      "execution_count": 46,
      "outputs": [
        {
          "output_type": "stream",
          "text": [
            "(10000, 128)\n"
          ],
          "name": "stdout"
        }
      ]
    },
    {
      "cell_type": "code",
      "metadata": {
        "colab": {
          "base_uri": "https://localhost:8080/"
        },
        "id": "3Qa_btGodOS2",
        "outputId": "acf8bf91-5d91-4b66-9b8c-04846dc310f5"
      },
      "source": [
        "embed_weights"
      ],
      "execution_count": 47,
      "outputs": [
        {
          "output_type": "execute_result",
          "data": {
            "text/plain": [
              "array([[ 0.00947826,  0.02020008, -0.05642007, ..., -0.05271576,\n",
              "         0.00851127,  0.01863865],\n",
              "       [ 0.05275297,  0.043735  ,  0.03914997, ...,  0.00748001,\n",
              "         0.02306955, -0.04305607],\n",
              "       [ 0.00529411, -0.05163547,  0.01382198, ..., -0.0560341 ,\n",
              "        -0.01192013,  0.00584223],\n",
              "       ...,\n",
              "       [ 0.0250824 ,  0.02571781, -0.00052166, ..., -0.03032793,\n",
              "         0.0107439 ,  0.02766773],\n",
              "       [-0.06780215, -0.01158283, -0.05338255, ..., -0.06787065,\n",
              "         0.0688256 ,  0.0052491 ],\n",
              "       [-0.14988258, -0.12228397, -0.14327033, ..., -0.15910704,\n",
              "         0.15513563,  0.16541485]], dtype=float32)"
            ]
          },
          "metadata": {
            "tags": []
          },
          "execution_count": 47
        }
      ]
    },
    {
      "cell_type": "code",
      "metadata": {
        "id": "_zn-KB6CeENH"
      },
      "source": [
        "# Create embedding files\n",
        "\n",
        "import io\n",
        "\n",
        "out_v = io.open('vectors.tsv', 'w', encoding='utf-8')\n",
        "out_m = io.open('metadata.tsv', 'w', encoding='utf-8')\n",
        "\n",
        "for index, word in enumerate(words_in_vocab):\n",
        "  #if index == 0:\n",
        "   # continue  # skip 0, it's padding.\n",
        "  vec = embed_weights[index]\n",
        "  out_v.write('\\t'.join([str(x) for x in vec]) + \"\\n\")\n",
        "  out_m.write(word + \"\\n\")\n",
        "out_v.close()\n",
        "out_m.close()"
      ],
      "execution_count": 48,
      "outputs": []
    },
    {
      "cell_type": "code",
      "metadata": {
        "colab": {
          "base_uri": "https://localhost:8080/",
          "height": 17
        },
        "id": "GlVDL_N6gJh0",
        "outputId": "099346a5-f3be-4b98-8812-6f7f4f87eed8"
      },
      "source": [
        "# Download files from Colab to upload to projector\n",
        "\n",
        "try:\n",
        "  from google.colab import files\n",
        "  files.download('vectors.tsv')\n",
        "  files.download('metadata.tsv')\n",
        "except Exception:\n",
        "  pass"
      ],
      "execution_count": 49,
      "outputs": [
        {
          "output_type": "display_data",
          "data": {
            "application/javascript": [
              "\n",
              "    async function download(id, filename, size) {\n",
              "      if (!google.colab.kernel.accessAllowed) {\n",
              "        return;\n",
              "      }\n",
              "      const div = document.createElement('div');\n",
              "      const label = document.createElement('label');\n",
              "      label.textContent = `Downloading \"${filename}\": `;\n",
              "      div.appendChild(label);\n",
              "      const progress = document.createElement('progress');\n",
              "      progress.max = size;\n",
              "      div.appendChild(progress);\n",
              "      document.body.appendChild(div);\n",
              "\n",
              "      const buffers = [];\n",
              "      let downloaded = 0;\n",
              "\n",
              "      const channel = await google.colab.kernel.comms.open(id);\n",
              "      // Send a message to notify the kernel that we're ready.\n",
              "      channel.send({})\n",
              "\n",
              "      for await (const message of channel.messages) {\n",
              "        // Send a message to notify the kernel that we're ready.\n",
              "        channel.send({})\n",
              "        if (message.buffers) {\n",
              "          for (const buffer of message.buffers) {\n",
              "            buffers.push(buffer);\n",
              "            downloaded += buffer.byteLength;\n",
              "            progress.value = downloaded;\n",
              "          }\n",
              "        }\n",
              "      }\n",
              "      const blob = new Blob(buffers, {type: 'application/binary'});\n",
              "      const a = document.createElement('a');\n",
              "      a.href = window.URL.createObjectURL(blob);\n",
              "      a.download = filename;\n",
              "      div.appendChild(a);\n",
              "      a.click();\n",
              "      div.remove();\n",
              "    }\n",
              "  "
            ],
            "text/plain": [
              "<IPython.core.display.Javascript object>"
            ]
          },
          "metadata": {
            "tags": []
          }
        },
        {
          "output_type": "display_data",
          "data": {
            "application/javascript": [
              "download(\"download_58223403-9d34-4bde-b8ed-cff74c6af58e\", \"vectors.tsv\", 15082365)"
            ],
            "text/plain": [
              "<IPython.core.display.Javascript object>"
            ]
          },
          "metadata": {
            "tags": []
          }
        },
        {
          "output_type": "display_data",
          "data": {
            "application/javascript": [
              "\n",
              "    async function download(id, filename, size) {\n",
              "      if (!google.colab.kernel.accessAllowed) {\n",
              "        return;\n",
              "      }\n",
              "      const div = document.createElement('div');\n",
              "      const label = document.createElement('label');\n",
              "      label.textContent = `Downloading \"${filename}\": `;\n",
              "      div.appendChild(label);\n",
              "      const progress = document.createElement('progress');\n",
              "      progress.max = size;\n",
              "      div.appendChild(progress);\n",
              "      document.body.appendChild(div);\n",
              "\n",
              "      const buffers = [];\n",
              "      let downloaded = 0;\n",
              "\n",
              "      const channel = await google.colab.kernel.comms.open(id);\n",
              "      // Send a message to notify the kernel that we're ready.\n",
              "      channel.send({})\n",
              "\n",
              "      for await (const message of channel.messages) {\n",
              "        // Send a message to notify the kernel that we're ready.\n",
              "        channel.send({})\n",
              "        if (message.buffers) {\n",
              "          for (const buffer of message.buffers) {\n",
              "            buffers.push(buffer);\n",
              "            downloaded += buffer.byteLength;\n",
              "            progress.value = downloaded;\n",
              "          }\n",
              "        }\n",
              "      }\n",
              "      const blob = new Blob(buffers, {type: 'application/binary'});\n",
              "      const a = document.createElement('a');\n",
              "      a.href = window.URL.createObjectURL(blob);\n",
              "      a.download = filename;\n",
              "      div.appendChild(a);\n",
              "      a.click();\n",
              "      div.remove();\n",
              "    }\n",
              "  "
            ],
            "text/plain": [
              "<IPython.core.display.Javascript object>"
            ]
          },
          "metadata": {
            "tags": []
          }
        },
        {
          "output_type": "display_data",
          "data": {
            "application/javascript": [
              "download(\"download_c32bcef9-d414-440b-b4d9-98ecb3ae4774\", \"metadata.tsv\", 80389)"
            ],
            "text/plain": [
              "<IPython.core.display.Javascript object>"
            ]
          },
          "metadata": {
            "tags": []
          }
        }
      ]
    },
    {
      "cell_type": "markdown",
      "metadata": {
        "id": "WQ_UVZS3h49-"
      },
      "source": [
        "## Recurrent Neural Networks (RNN's)\n",
        "\n",
        "RNN's are usefull for sequence data.\n",
        "\n",
        "The premise of a recurrent neural network is to use the representation of a previous input to aid the respresentation of a later input."
      ]
    },
    {
      "cell_type": "markdown",
      "metadata": {
        "id": "OG51RgqrkL_i"
      },
      "source": [
        "### Model 2: LSTM\n",
        "\n",
        "LSTM = ling short term memory (one of the most popular LSTM cells)\n",
        "\n",
        "Our structure of an RNN typically looks like this:\n",
        "\n",
        "'''\n",
        "Input (text) -> Tokenize -> EMbedding -> Layers (RNN's/dense) -> Output (label probability)\n",
        "'''"
      ]
    },
    {
      "cell_type": "code",
      "metadata": {
        "colab": {
          "base_uri": "https://localhost:8080/"
        },
        "id": "cETGrbncmi3S",
        "outputId": "ebbac8d7-8be7-4651-81d6-84a035dbc741"
      },
      "source": [
        "# Create an LSTM model\n",
        "\n",
        "from tensorflow.keras import layers\n",
        "\n",
        "inputs = layers.Input(shape = (1,), dtype = \"string\")\n",
        "x = text_vectorizer(inputs)\n",
        "x = embedding(x)\n",
        "print(x.shape)\n",
        "#x = layers.LSTM(64, return_sequences = True)(x)\n",
        "print(x.shape)\n",
        "x = layers.LSTM(64)(x) # when you're stacking RNN cells together, you need to return_sequences = true\n",
        "print(x.shape)\n",
        "#x = layers.Dense(64, activation = 'relu')(x)\n",
        "outputs = layers.Dense(1, activation = \"sigmoid\")(x)\n",
        "\n",
        "model_2 = tf.keras.Model(inputs, outputs, name = \"model_2_LSTM\")"
      ],
      "execution_count": 50,
      "outputs": [
        {
          "output_type": "stream",
          "text": [
            "(None, 15, 128)\n",
            "(None, 15, 128)\n",
            "(None, 64)\n"
          ],
          "name": "stdout"
        }
      ]
    },
    {
      "cell_type": "code",
      "metadata": {
        "id": "79605SQcnqeV"
      },
      "source": [
        "# Compile the model\n",
        "\n",
        "model_2.compile(loss = \"binary_crossentropy\", optimizer = tf.keras.optimizers.Adam(), metrics = [\"accuracy\"])"
      ],
      "execution_count": 51,
      "outputs": []
    },
    {
      "cell_type": "code",
      "metadata": {
        "colab": {
          "base_uri": "https://localhost:8080/"
        },
        "id": "yHXEu-0cp8zz",
        "outputId": "85181458-fcad-47d9-ee1f-e119b400de4d"
      },
      "source": [
        "model_2_history = model_2.fit(train_sentences, train_labels, epochs = 5, \n",
        "                              validation_data = (val_sentences, val_labels), callbacks = [create_tensorboard_callback(SAVE_DIR, \"model_2_LSTM\")])"
      ],
      "execution_count": 52,
      "outputs": [
        {
          "output_type": "stream",
          "text": [
            "Saving TensorBoard log files to: model_logs/model_2_LSTM/20210519-121232\n",
            "Epoch 1/5\n",
            "215/215 [==============================] - 34s 22ms/step - loss: 0.2051 - accuracy: 0.9505 - val_loss: 0.9209 - val_accuracy: 0.7717\n",
            "Epoch 2/5\n",
            "215/215 [==============================] - 3s 15ms/step - loss: 0.0680 - accuracy: 0.9749 - val_loss: 0.9988 - val_accuracy: 0.7717\n",
            "Epoch 3/5\n",
            "215/215 [==============================] - 3s 15ms/step - loss: 0.0539 - accuracy: 0.9784 - val_loss: 0.9518 - val_accuracy: 0.7664\n",
            "Epoch 4/5\n",
            "215/215 [==============================] - 3s 16ms/step - loss: 0.0560 - accuracy: 0.9756 - val_loss: 1.2406 - val_accuracy: 0.7677\n",
            "Epoch 5/5\n",
            "215/215 [==============================] - 3s 15ms/step - loss: 0.0474 - accuracy: 0.9798 - val_loss: 1.2484 - val_accuracy: 0.7638\n"
          ],
          "name": "stdout"
        }
      ]
    },
    {
      "cell_type": "code",
      "metadata": {
        "colab": {
          "base_uri": "https://localhost:8080/"
        },
        "id": "onlOd71jqSUk",
        "outputId": "9965d674-371f-4993-b8f6-e900fef0e3b1"
      },
      "source": [
        "# Make predictions with LSTM model\n",
        "\n",
        "model_2_pred_probs = model_2.predict(val_sentences)\n",
        "model_2_pred_probs[:10]\n"
      ],
      "execution_count": 53,
      "outputs": [
        {
          "output_type": "execute_result",
          "data": {
            "text/plain": [
              "array([[1.5445837e-01],\n",
              "       [5.1043099e-01],\n",
              "       [9.9955696e-01],\n",
              "       [1.7052971e-01],\n",
              "       [9.6745964e-05],\n",
              "       [9.9979120e-01],\n",
              "       [9.3679976e-01],\n",
              "       [9.9993873e-01],\n",
              "       [9.9992406e-01],\n",
              "       [9.9960285e-01]], dtype=float32)"
            ]
          },
          "metadata": {
            "tags": []
          },
          "execution_count": 53
        }
      ]
    },
    {
      "cell_type": "code",
      "metadata": {
        "colab": {
          "base_uri": "https://localhost:8080/"
        },
        "id": "ZN3iCEO1qgCv",
        "outputId": "874d050d-4f6e-483f-8d0b-9d0c80ada286"
      },
      "source": [
        "# Convert model 2 pred probs to labels\n",
        "\n",
        "model_2_preds = tf.squeeze(tf.round(model_2_pred_probs))\n",
        "model_2_preds[:10]"
      ],
      "execution_count": 54,
      "outputs": [
        {
          "output_type": "execute_result",
          "data": {
            "text/plain": [
              "<tf.Tensor: shape=(10,), dtype=float32, numpy=array([0., 1., 1., 0., 0., 1., 1., 1., 1., 1.], dtype=float32)>"
            ]
          },
          "metadata": {
            "tags": []
          },
          "execution_count": 54
        }
      ]
    },
    {
      "cell_type": "code",
      "metadata": {
        "colab": {
          "base_uri": "https://localhost:8080/"
        },
        "id": "iObNULydqupq",
        "outputId": "2fb901ec-5068-4bc2-be4f-8213d3fbdb63"
      },
      "source": [
        "model_2_results = calculate_results(y_true = val_labels, y_pred = model_2_preds)\n",
        "model_2_results"
      ],
      "execution_count": 55,
      "outputs": [
        {
          "output_type": "execute_result",
          "data": {
            "text/plain": [
              "{'accuracy': 76.37795275590551,\n",
              " 'f1': 0.7629812681164898,\n",
              " 'precision': 0.7634711836373635,\n",
              " 'recall': 0.7637795275590551}"
            ]
          },
          "metadata": {
            "tags": []
          },
          "execution_count": 55
        }
      ]
    },
    {
      "cell_type": "markdown",
      "metadata": {
        "id": "DD12TyWtq4aN"
      },
      "source": [
        "### Model 3: GRU\n",
        "\n",
        "Another poppular and effective RNN component is the GRU or gated recurrent unit.\n",
        "\n",
        "The GRU cell has similar features to an LSTM cell but has less parameters."
      ]
    },
    {
      "cell_type": "code",
      "metadata": {
        "id": "YJ8-3EqZZw1r"
      },
      "source": [
        "# Build an RNN using the GRU cell\n",
        "from tensorflow.keras import layers\n",
        "inputs = layers.Input(shape = (1,), dtype = tf.string)\n",
        "x = text_vectorizer(inputs)\n",
        "x = embedding(x)\n",
        "x = layers.GRU(64)(x)\n",
        "#x = layers.LSTM(64, return_sequences = True)(x)\n",
        "#print(x.shape)\n",
        "#x = layers.GRU(64)(x) # make sure return seuqences DOES NO equal true OR add a global average pooling layer instead\n",
        "#x = layers.Dense(64, activation = \"relu\")(x)\n",
        "outputs = layers.Dense(1, activation = \"sigmoid\")(x)\n",
        "\n",
        "\n",
        "model_3 = tf.keras.Model(inputs, outputs)"
      ],
      "execution_count": 56,
      "outputs": []
    },
    {
      "cell_type": "code",
      "metadata": {
        "colab": {
          "base_uri": "https://localhost:8080/"
        },
        "id": "d_sAuSwJayw0",
        "outputId": "c8b692a4-ba2e-4607-a5b4-9eb3d1d9b0e5"
      },
      "source": [
        " model_3.summary(\n",
        "     \n",
        " )"
      ],
      "execution_count": 57,
      "outputs": [
        {
          "output_type": "stream",
          "text": [
            "Model: \"model\"\n",
            "_________________________________________________________________\n",
            "Layer (type)                 Output Shape              Param #   \n",
            "=================================================================\n",
            "input_3 (InputLayer)         [(None, 1)]               0         \n",
            "_________________________________________________________________\n",
            "text_vectorization_1 (TextVe (None, 15)                0         \n",
            "_________________________________________________________________\n",
            "embedding (Embedding)        (None, 15, 128)           1280000   \n",
            "_________________________________________________________________\n",
            "gru (GRU)                    (None, 64)                37248     \n",
            "_________________________________________________________________\n",
            "dense_2 (Dense)              (None, 1)                 65        \n",
            "=================================================================\n",
            "Total params: 1,317,313\n",
            "Trainable params: 1,317,313\n",
            "Non-trainable params: 0\n",
            "_________________________________________________________________\n"
          ],
          "name": "stdout"
        }
      ]
    },
    {
      "cell_type": "code",
      "metadata": {
        "id": "jzKsHw9cdXIw"
      },
      "source": [
        "# COmpile the model\n",
        "\n",
        "model_3.compile(loss = \"binary_crossentropy\", optimizer= tf.keras.optimizers.Adam(), metrics = [\"accuracy\"])\n"
      ],
      "execution_count": 58,
      "outputs": []
    },
    {
      "cell_type": "code",
      "metadata": {
        "colab": {
          "base_uri": "https://localhost:8080/"
        },
        "id": "RSCbPYG6eN5s",
        "outputId": "977fa3da-778e-40c3-d751-d75d4ab74b0c"
      },
      "source": [
        "# Fit\n",
        "\n",
        "model_3_history = model_3.fit(train_sentences,\n",
        "                              train_labels, epochs = 10,\n",
        "                              validation_data = (val_sentences, val_labels),\n",
        "                              callbacks = [create_tensorboard_callback(SAVE_DIR, \"model_3_GRU\")])"
      ],
      "execution_count": 59,
      "outputs": [
        {
          "output_type": "stream",
          "text": [
            "Saving TensorBoard log files to: model_logs/model_3_GRU/20210519-121321\n",
            "Epoch 1/10\n",
            "215/215 [==============================] - 6s 20ms/step - loss: 0.2465 - accuracy: 0.8900 - val_loss: 0.8497 - val_accuracy: 0.7638\n",
            "Epoch 2/10\n",
            "215/215 [==============================] - 3s 15ms/step - loss: 0.0548 - accuracy: 0.9769 - val_loss: 0.9947 - val_accuracy: 0.7585\n",
            "Epoch 3/10\n",
            "215/215 [==============================] - 3s 15ms/step - loss: 0.0505 - accuracy: 0.9775 - val_loss: 1.0646 - val_accuracy: 0.7690\n",
            "Epoch 4/10\n",
            "215/215 [==============================] - 3s 15ms/step - loss: 0.0438 - accuracy: 0.9830 - val_loss: 0.9743 - val_accuracy: 0.7625\n",
            "Epoch 5/10\n",
            "215/215 [==============================] - 3s 15ms/step - loss: 0.0450 - accuracy: 0.9837 - val_loss: 1.1633 - val_accuracy: 0.7546\n",
            "Epoch 6/10\n",
            "215/215 [==============================] - 3s 15ms/step - loss: 0.0411 - accuracy: 0.9798 - val_loss: 1.0543 - val_accuracy: 0.7598\n",
            "Epoch 7/10\n",
            "215/215 [==============================] - 3s 15ms/step - loss: 0.0403 - accuracy: 0.9837 - val_loss: 1.5250 - val_accuracy: 0.7533\n",
            "Epoch 8/10\n",
            "215/215 [==============================] - 3s 15ms/step - loss: 0.0373 - accuracy: 0.9825 - val_loss: 1.2262 - val_accuracy: 0.7585\n",
            "Epoch 9/10\n",
            "215/215 [==============================] - 3s 15ms/step - loss: 0.0321 - accuracy: 0.9867 - val_loss: 1.4117 - val_accuracy: 0.7598\n",
            "Epoch 10/10\n",
            "215/215 [==============================] - 3s 15ms/step - loss: 0.0314 - accuracy: 0.9842 - val_loss: 1.5421 - val_accuracy: 0.7638\n"
          ],
          "name": "stdout"
        }
      ]
    },
    {
      "cell_type": "code",
      "metadata": {
        "colab": {
          "base_uri": "https://localhost:8080/"
        },
        "id": "qSkjpFQteet3",
        "outputId": "7c9a8f87-594e-4ef9-9c29-de2496ffff73"
      },
      "source": [
        "# Make some predictions with GRu model\n",
        "\n",
        "model_3_pred_probs = model_3.predict(val_sentences)\n",
        "model_3_pred_probs[:10]"
      ],
      "execution_count": 60,
      "outputs": [
        {
          "output_type": "execute_result",
          "data": {
            "text/plain": [
              "array([[3.20180407e-04],\n",
              "       [8.30139697e-01],\n",
              "       [9.99910474e-01],\n",
              "       [1.04569845e-01],\n",
              "       [6.91069363e-05],\n",
              "       [9.99902129e-01],\n",
              "       [9.79381144e-01],\n",
              "       [9.99981046e-01],\n",
              "       [9.99977231e-01],\n",
              "       [9.99872446e-01]], dtype=float32)"
            ]
          },
          "metadata": {
            "tags": []
          },
          "execution_count": 60
        }
      ]
    },
    {
      "cell_type": "code",
      "metadata": {
        "colab": {
          "base_uri": "https://localhost:8080/"
        },
        "id": "ghJcJReUe5tO",
        "outputId": "e1140190-90d9-479f-d811-50ed5816ca5b"
      },
      "source": [
        "model_3_preds = tf.squeeze(tf.round(model_3_pred_probs))\n",
        "model_3_preds[:10]"
      ],
      "execution_count": 61,
      "outputs": [
        {
          "output_type": "execute_result",
          "data": {
            "text/plain": [
              "<tf.Tensor: shape=(10,), dtype=float32, numpy=array([0., 1., 1., 0., 0., 1., 1., 1., 1., 1.], dtype=float32)>"
            ]
          },
          "metadata": {
            "tags": []
          },
          "execution_count": 61
        }
      ]
    },
    {
      "cell_type": "code",
      "metadata": {
        "colab": {
          "base_uri": "https://localhost:8080/"
        },
        "id": "4v5s_uv1fGQP",
        "outputId": "e6b770a7-6f1d-40aa-ad56-ff8956940e92"
      },
      "source": [
        "# Calculate model 3 results\n",
        "\n",
        "model_3_results = calculate_results(y_true = val_labels, y_pred = model_3_preds)\n",
        "model_3_results"
      ],
      "execution_count": 62,
      "outputs": [
        {
          "output_type": "execute_result",
          "data": {
            "text/plain": [
              "{'accuracy': 76.37795275590551,\n",
              " 'f1': 0.7626922180365151,\n",
              " 'precision': 0.76369847151459,\n",
              " 'recall': 0.7637795275590551}"
            ]
          },
          "metadata": {
            "tags": []
          },
          "execution_count": 62
        }
      ]
    },
    {
      "cell_type": "markdown",
      "metadata": {
        "id": "n1D746dtfSMl"
      },
      "source": [
        "### Model 4: Bidirectional RNN\n",
        "\n",
        "ormal RNN's go from left to right (just like you'd read an English sentence) however, a bidiractional RNN goes from right to left as well as left to right."
      ]
    },
    {
      "cell_type": "code",
      "metadata": {
        "colab": {
          "base_uri": "https://localhost:8080/"
        },
        "id": "CDlCN7e9Ngvm",
        "outputId": "701c5095-e459-4c63-a80d-bcaab0351fec"
      },
      "source": [
        "# Build a dirirectional RNN in Tensorflow\n",
        "\n",
        "from tensorflow.keras import layers\n",
        "\n",
        "inputs = layers.Input(shape = (1,), dtype = \"string\")\n",
        "x = text_vectorizer(inputs)\n",
        "x = embedding(x)\n",
        "#x = layers.Bidirectional(layers.LSTM(64, return_sequences = True))(x)\n",
        "#print(x.shape)\n",
        "x = layers.Bidirectional(layers.GRU(64))(x)\n",
        "print(x.shape)\n",
        "outputs = layers.Dense(1, activation = 'sigmoid')(x)\n",
        "model_4 = tf.keras.Model(inputs, outputs, name = \"model_4_bidirectional\")"
      ],
      "execution_count": 63,
      "outputs": [
        {
          "output_type": "stream",
          "text": [
            "(None, 128)\n"
          ],
          "name": "stdout"
        }
      ]
    },
    {
      "cell_type": "code",
      "metadata": {
        "colab": {
          "base_uri": "https://localhost:8080/"
        },
        "id": "9tTuzN-iP9zZ",
        "outputId": "ebc8477c-2d80-4aa1-dcaa-85e4295b6cdc"
      },
      "source": [
        "# Get a summary\n",
        "\n",
        "model_4.summary()"
      ],
      "execution_count": 64,
      "outputs": [
        {
          "output_type": "stream",
          "text": [
            "Model: \"model_4_bidirectional\"\n",
            "_________________________________________________________________\n",
            "Layer (type)                 Output Shape              Param #   \n",
            "=================================================================\n",
            "input_4 (InputLayer)         [(None, 1)]               0         \n",
            "_________________________________________________________________\n",
            "text_vectorization_1 (TextVe (None, 15)                0         \n",
            "_________________________________________________________________\n",
            "embedding (Embedding)        (None, 15, 128)           1280000   \n",
            "_________________________________________________________________\n",
            "bidirectional (Bidirectional (None, 128)               74496     \n",
            "_________________________________________________________________\n",
            "dense_3 (Dense)              (None, 1)                 129       \n",
            "=================================================================\n",
            "Total params: 1,354,625\n",
            "Trainable params: 1,354,625\n",
            "Non-trainable params: 0\n",
            "_________________________________________________________________\n"
          ],
          "name": "stdout"
        }
      ]
    },
    {
      "cell_type": "code",
      "metadata": {
        "id": "bYniEnRpQW0i"
      },
      "source": [
        "# Compile model\n",
        "\n",
        "model_4.compile(loss = \"binary_crossentropy\", optimizer = tf.keras.optimizers.Adam(), metrics = ['accuracy'])"
      ],
      "execution_count": 65,
      "outputs": []
    },
    {
      "cell_type": "code",
      "metadata": {
        "colab": {
          "base_uri": "https://localhost:8080/"
        },
        "id": "COZ8O0IjRGUS",
        "outputId": "4faffc38-e084-4ba9-e73c-0ac338d34392"
      },
      "source": [
        "model_4_history = model_4.fit(train_sentences, train_labels, epochs = 5, validation_data = (val_sentences, val_labels), callbacks = [create_tensorboard_callback(SAVE_DIR,\n",
        "                                                                                                                                                                 \"model_4_bidirectional\")])"
      ],
      "execution_count": 66,
      "outputs": [
        {
          "output_type": "stream",
          "text": [
            "Saving TensorBoard log files to: model_logs/model_4_bidirectional/20210519-121357\n",
            "Epoch 1/5\n",
            "215/215 [==============================] - 7s 23ms/step - loss: 0.1852 - accuracy: 0.9573 - val_loss: 0.9284 - val_accuracy: 0.7612\n",
            "Epoch 2/5\n",
            "215/215 [==============================] - 4s 17ms/step - loss: 0.0433 - accuracy: 0.9818 - val_loss: 1.2422 - val_accuracy: 0.7572\n",
            "Epoch 3/5\n",
            "215/215 [==============================] - 4s 17ms/step - loss: 0.0322 - accuracy: 0.9873 - val_loss: 1.3169 - val_accuracy: 0.7467\n",
            "Epoch 4/5\n",
            "215/215 [==============================] - 4s 17ms/step - loss: 0.0351 - accuracy: 0.9842 - val_loss: 1.4349 - val_accuracy: 0.7585\n",
            "Epoch 5/5\n",
            "215/215 [==============================] - 4s 17ms/step - loss: 0.0397 - accuracy: 0.9820 - val_loss: 1.6074 - val_accuracy: 0.7598\n"
          ],
          "name": "stdout"
        }
      ]
    },
    {
      "cell_type": "code",
      "metadata": {
        "colab": {
          "base_uri": "https://localhost:8080/"
        },
        "id": "OBQCoT6TRXt7",
        "outputId": "216d9130-5fae-46b6-9d47-5d55b0f652fe"
      },
      "source": [
        "# Make predictions with out bidiractional ,odel\n",
        " \n",
        "model_4_pred_probs = model_4.predict(val_sentences)\n",
        "model_4_pred_probs[:10]"
      ],
      "execution_count": 67,
      "outputs": [
        {
          "output_type": "execute_result",
          "data": {
            "text/plain": [
              "array([[3.0532331e-04],\n",
              "       [7.9093736e-01],\n",
              "       [9.9994552e-01],\n",
              "       [1.4294478e-01],\n",
              "       [1.1088872e-05],\n",
              "       [9.9972945e-01],\n",
              "       [9.9756324e-01],\n",
              "       [9.9999487e-01],\n",
              "       [9.9997950e-01],\n",
              "       [9.9977976e-01]], dtype=float32)"
            ]
          },
          "metadata": {
            "tags": []
          },
          "execution_count": 67
        }
      ]
    },
    {
      "cell_type": "code",
      "metadata": {
        "colab": {
          "base_uri": "https://localhost:8080/"
        },
        "id": "E64d_cojSdDk",
        "outputId": "8aaacd11-4f5e-4716-dbb2-9f542faa5e3d"
      },
      "source": [
        "# Convert\n",
        "\n",
        "model_4_pred = tf.squeeze(tf.round(model_4_pred_probs))\n",
        "model_4_pred[:10]"
      ],
      "execution_count": 68,
      "outputs": [
        {
          "output_type": "execute_result",
          "data": {
            "text/plain": [
              "<tf.Tensor: shape=(10,), dtype=float32, numpy=array([0., 1., 1., 0., 0., 1., 1., 1., 1., 1.], dtype=float32)>"
            ]
          },
          "metadata": {
            "tags": []
          },
          "execution_count": 68
        }
      ]
    },
    {
      "cell_type": "code",
      "metadata": {
        "colab": {
          "base_uri": "https://localhost:8080/"
        },
        "id": "lN1plTXBSupu",
        "outputId": "2b8b0c7d-a272-4153-b929-26c39179b8bf"
      },
      "source": [
        "# Calculate the results of our bidiractional model\n",
        "\n",
        "model_4_results = calculate_results(y_true = val_labels, y_pred = model_4_pred )\n",
        "model_4_results"
      ],
      "execution_count": 69,
      "outputs": [
        {
          "output_type": "execute_result",
          "data": {
            "text/plain": [
              "{'accuracy': 75.98425196850394,\n",
              " 'f1': 0.7583542786286791,\n",
              " 'precision': 0.7601337255372377,\n",
              " 'recall': 0.7598425196850394}"
            ]
          },
          "metadata": {
            "tags": []
          },
          "execution_count": 69
        }
      ]
    },
    {
      "cell_type": "markdown",
      "metadata": {
        "id": "JuhkIab5TCzL"
      },
      "source": [
        "### Model 5: Conv1D \n",
        "\n",
        "We've used CNNs for images but images are typically 2D (hegith x width)...however, our text data is 1d.\n",
        "\n",
        "The typical structure of a Conv1D model for sequen ces (in our case, text):\n",
        "\n",
        "```\n",
        "Inputs(test -> Tokenization -> Embedding -> Cpmv1D -> Pool -> Outputs (class probs)\n",
        "```"
      ]
    },
    {
      "cell_type": "code",
      "metadata": {
        "id": "WpkmmIYJgzkP"
      },
      "source": [
        "from tensorflow.keras import layers\n",
        "\n",
        "input = layers.Input(shape = (1,), dtype = \"string\")\n",
        "x = text_vectorizer(input)\n",
        "x = embedding(x)\n",
        "x = layers.Conv1D(32, 6, activation = 'relu')(x) #kernal size is reffered to as n-gram side (strides rn is 1, but can change to hop) #padding = 'valid' (some words mised) output is smaller 'same' = smae size\n",
        "x = layers.GlobalMaxPooling1D()(x)\n",
        "output = layers.Dense(1, activation = \"sigmoid\")(x)\n",
        "\n",
        "model_5 = tf.keras.Model(input, output, name = \"model_5_conv\")\n"
      ],
      "execution_count": 70,
      "outputs": []
    },
    {
      "cell_type": "code",
      "metadata": {
        "colab": {
          "base_uri": "https://localhost:8080/"
        },
        "id": "gZtHFSyOhZHC",
        "outputId": "d7f685e9-f5ea-48ea-e902-78dc3e570f38"
      },
      "source": [
        "model_5.summary()"
      ],
      "execution_count": 71,
      "outputs": [
        {
          "output_type": "stream",
          "text": [
            "Model: \"model_5_conv\"\n",
            "_________________________________________________________________\n",
            "Layer (type)                 Output Shape              Param #   \n",
            "=================================================================\n",
            "input_5 (InputLayer)         [(None, 1)]               0         \n",
            "_________________________________________________________________\n",
            "text_vectorization_1 (TextVe (None, 15)                0         \n",
            "_________________________________________________________________\n",
            "embedding (Embedding)        (None, 15, 128)           1280000   \n",
            "_________________________________________________________________\n",
            "conv1d (Conv1D)              (None, 10, 32)            24608     \n",
            "_________________________________________________________________\n",
            "global_max_pooling1d (Global (None, 32)                0         \n",
            "_________________________________________________________________\n",
            "dense_4 (Dense)              (None, 1)                 33        \n",
            "=================================================================\n",
            "Total params: 1,304,641\n",
            "Trainable params: 1,304,641\n",
            "Non-trainable params: 0\n",
            "_________________________________________________________________\n"
          ],
          "name": "stdout"
        }
      ]
    },
    {
      "cell_type": "code",
      "metadata": {
        "id": "BPkWqHezhad-"
      },
      "source": [
        "# Compiling the model\n",
        "\n",
        "model_5.compile(loss = 'binary_crossentropy', optimizer = tf.keras.optimizers.Adam(), metrics = ['accuracy'])\n",
        "\n"
      ],
      "execution_count": 72,
      "outputs": []
    },
    {
      "cell_type": "code",
      "metadata": {
        "colab": {
          "base_uri": "https://localhost:8080/"
        },
        "id": "-SHFzy1JiXNo",
        "outputId": "b7085ca3-dd4c-45f9-905f-068f2db3fbac"
      },
      "source": [
        "# Fitting the model\n",
        "\n",
        "model_5_history = model_5.fit(train_sentences, train_labels, epochs = 10, \n",
        "                              validation_data = (val_sentences, val_labels), callbacks = [create_tensorboard_callback(SAVE_DIR, \"model_5_conv\")])"
      ],
      "execution_count": 73,
      "outputs": [
        {
          "output_type": "stream",
          "text": [
            "Saving TensorBoard log files to: model_logs/model_5_conv/20210519-121421\n",
            "Epoch 1/10\n",
            "215/215 [==============================] - 6s 19ms/step - loss: 0.1635 - accuracy: 0.9564 - val_loss: 1.0051 - val_accuracy: 0.7533\n",
            "Epoch 2/10\n",
            "215/215 [==============================] - 3s 15ms/step - loss: 0.0568 - accuracy: 0.9792 - val_loss: 1.1363 - val_accuracy: 0.7546\n",
            "Epoch 3/10\n",
            "215/215 [==============================] - 3s 14ms/step - loss: 0.0489 - accuracy: 0.9782 - val_loss: 1.2259 - val_accuracy: 0.7546\n",
            "Epoch 4/10\n",
            "215/215 [==============================] - 3s 14ms/step - loss: 0.0423 - accuracy: 0.9810 - val_loss: 1.3045 - val_accuracy: 0.7546\n",
            "Epoch 5/10\n",
            "215/215 [==============================] - 3s 15ms/step - loss: 0.0401 - accuracy: 0.9822 - val_loss: 1.3716 - val_accuracy: 0.7480\n",
            "Epoch 6/10\n",
            "215/215 [==============================] - 3s 14ms/step - loss: 0.0388 - accuracy: 0.9828 - val_loss: 1.3852 - val_accuracy: 0.7467\n",
            "Epoch 7/10\n",
            "215/215 [==============================] - 3s 14ms/step - loss: 0.0401 - accuracy: 0.9816 - val_loss: 1.3787 - val_accuracy: 0.7546\n",
            "Epoch 8/10\n",
            "215/215 [==============================] - 3s 14ms/step - loss: 0.0398 - accuracy: 0.9818 - val_loss: 1.3959 - val_accuracy: 0.7454\n",
            "Epoch 9/10\n",
            "215/215 [==============================] - 3s 14ms/step - loss: 0.0333 - accuracy: 0.9848 - val_loss: 1.3813 - val_accuracy: 0.7493\n",
            "Epoch 10/10\n",
            "215/215 [==============================] - 3s 14ms/step - loss: 0.0320 - accuracy: 0.9864 - val_loss: 1.3619 - val_accuracy: 0.7349\n"
          ],
          "name": "stdout"
        }
      ]
    },
    {
      "cell_type": "code",
      "metadata": {
        "colab": {
          "base_uri": "https://localhost:8080/"
        },
        "id": "yXD2dzsVitE8",
        "outputId": "14e0dd55-cae8-4ecf-fdf0-ef607117c10a"
      },
      "source": [
        "from tensorflow.keras import layers\n",
        "inputs = layers.Input(shape = (1,), dtype = tf.string)\n",
        "x = text_vectorizer(inputs)\n",
        "x = embedding(x)\n",
        "x = layers.Conv1D(filters = 64, kernel_size = 5, activation = \"relu\")(x)\n",
        "x = layers.GlobalMaxPool1D()(x)\n",
        "#x = layers.Dense(64, activation = \"relu\")(x)\n",
        "outputs = layers.Dense(1, activation = \"sigmoid\")(x)\n",
        "model_6 = tf.keras.Model(inputs, outputs, name = \"model_6_Conv1D\")\n",
        "\n",
        "model_6.compile(loss = \"binary_crossentropy\", optimizer = tf.keras.optimizers.Adam(), metrics = ['accuracy'])\n",
        "\n",
        "model_6.summary()"
      ],
      "execution_count": 74,
      "outputs": [
        {
          "output_type": "stream",
          "text": [
            "Model: \"model_6_Conv1D\"\n",
            "_________________________________________________________________\n",
            "Layer (type)                 Output Shape              Param #   \n",
            "=================================================================\n",
            "input_6 (InputLayer)         [(None, 1)]               0         \n",
            "_________________________________________________________________\n",
            "text_vectorization_1 (TextVe (None, 15)                0         \n",
            "_________________________________________________________________\n",
            "embedding (Embedding)        (None, 15, 128)           1280000   \n",
            "_________________________________________________________________\n",
            "conv1d_1 (Conv1D)            (None, 11, 64)            41024     \n",
            "_________________________________________________________________\n",
            "global_max_pooling1d_1 (Glob (None, 64)                0         \n",
            "_________________________________________________________________\n",
            "dense_5 (Dense)              (None, 1)                 65        \n",
            "=================================================================\n",
            "Total params: 1,321,089\n",
            "Trainable params: 1,321,089\n",
            "Non-trainable params: 0\n",
            "_________________________________________________________________\n"
          ],
          "name": "stdout"
        }
      ]
    },
    {
      "cell_type": "code",
      "metadata": {
        "colab": {
          "base_uri": "https://localhost:8080/"
        },
        "id": "CJ4us1g0acR2",
        "outputId": "1f8480d7-5ec1-4d8a-b12f-1a310b90aefe"
      },
      "source": [
        "# Fit the model\n",
        "\n",
        "model_6_history = model_6.fit(train_sentences, train_labels, epochs = 5,\n",
        "                              validation_data = (val_sentences, val_labels), callbacks = [create_tensorboard_callback(SAVE_DIR, \"Conv1D\")])"
      ],
      "execution_count": 75,
      "outputs": [
        {
          "output_type": "stream",
          "text": [
            "Saving TensorBoard log files to: model_logs/Conv1D/20210519-121455\n",
            "Epoch 1/5\n",
            "215/215 [==============================] - 5s 18ms/step - loss: 0.1195 - accuracy: 0.9712 - val_loss: 1.1440 - val_accuracy: 0.7533\n",
            "Epoch 2/5\n",
            "215/215 [==============================] - 3s 14ms/step - loss: 0.0436 - accuracy: 0.9827 - val_loss: 1.2477 - val_accuracy: 0.7415\n",
            "Epoch 3/5\n",
            "215/215 [==============================] - 3s 14ms/step - loss: 0.0396 - accuracy: 0.9828 - val_loss: 1.3661 - val_accuracy: 0.7428\n",
            "Epoch 4/5\n",
            "215/215 [==============================] - 3s 14ms/step - loss: 0.0416 - accuracy: 0.9798 - val_loss: 1.3925 - val_accuracy: 0.7454\n",
            "Epoch 5/5\n",
            "215/215 [==============================] - 3s 14ms/step - loss: 0.0380 - accuracy: 0.9821 - val_loss: 1.4530 - val_accuracy: 0.7428\n"
          ],
          "name": "stdout"
        }
      ]
    },
    {
      "cell_type": "code",
      "metadata": {
        "colab": {
          "base_uri": "https://localhost:8080/"
        },
        "id": "gnQz5HN3bFC_",
        "outputId": "56b2b0b2-11db-4137-eb0f-f11e146aa996"
      },
      "source": [
        "# Make some prediction with our Conv1D model\n",
        "\n",
        "model_6_pred_probs = model_6.predict(val_sentences)\n",
        "model_6_pred = tf.squeeze(tf.round(model_6_pred_probs))\n",
        "model_6_pred[:10]"
      ],
      "execution_count": 76,
      "outputs": [
        {
          "output_type": "execute_result",
          "data": {
            "text/plain": [
              "<tf.Tensor: shape=(10,), dtype=float32, numpy=array([0., 0., 1., 0., 0., 1., 1., 1., 1., 1.], dtype=float32)>"
            ]
          },
          "metadata": {
            "tags": []
          },
          "execution_count": 76
        }
      ]
    },
    {
      "cell_type": "code",
      "metadata": {
        "colab": {
          "base_uri": "https://localhost:8080/"
        },
        "id": "RTgk7hA_bc3P",
        "outputId": "1d4a1435-edc9-4a9f-8bad-80c1abc472c0"
      },
      "source": [
        "model_6_results = calculate_results(y_true = val_labels, y_pred = model_6_pred)\n",
        "model_6_results"
      ],
      "execution_count": 77,
      "outputs": [
        {
          "output_type": "execute_result",
          "data": {
            "text/plain": [
              "{'accuracy': 74.2782152230971,\n",
              " 'f1': 0.7407315702114267,\n",
              " 'precision': 0.7432964552031615,\n",
              " 'recall': 0.7427821522309711}"
            ]
          },
          "metadata": {
            "tags": []
          },
          "execution_count": 77
        }
      ]
    },
    {
      "cell_type": "markdown",
      "metadata": {
        "id": "ppsrzXjOblG2"
      },
      "source": [
        "## Model6: Tensorflow Hub Pretrained Sentence Encoder\n",
        "\n",
        "Using transfer learning for NLP"
      ]
    },
    {
      "cell_type": "code",
      "metadata": {
        "colab": {
          "base_uri": "https://localhost:8080/"
        },
        "id": "nBYSG30aj5VG",
        "outputId": "a8579cdb-faaf-48e3-a878-a0fe9bae0b8a"
      },
      "source": [
        "import tensorflow_hub as hub\n",
        "\n",
        "embed = hub.load(\"https://tfhub.dev/google/universal-sentence-encoder/4\")\n",
        "embed_samples = embed([sample_sentence, \"When you call the use on a sentence, it utrns it into numbers\"])\n",
        "\n",
        "print(embed_samples[0][:50])"
      ],
      "execution_count": 78,
      "outputs": [
        {
          "output_type": "stream",
          "text": [
            "tf.Tensor(\n",
            "[-0.01157027  0.02485911  0.02878048 -0.012715    0.03971538  0.08827761\n",
            "  0.02680985  0.05589839 -0.01068729 -0.00597292  0.00639323 -0.0181952\n",
            "  0.00030814  0.09105889  0.05874645 -0.03180628  0.01512474 -0.05162929\n",
            "  0.00991367 -0.06865346 -0.04209306  0.02678981  0.03011008  0.00321069\n",
            " -0.00337971 -0.04787357  0.02266719 -0.00985925 -0.04063613 -0.01292093\n",
            " -0.04666385  0.056303   -0.03949255  0.00517688  0.02495828 -0.07014441\n",
            "  0.02871509  0.04947684 -0.00633978 -0.08960193  0.02807117 -0.00808362\n",
            " -0.01360601  0.0599865  -0.10361787 -0.05195374  0.00232955 -0.0233253\n",
            " -0.03758106  0.0332773 ], shape=(50,), dtype=float32)\n"
          ],
          "name": "stdout"
        }
      ]
    },
    {
      "cell_type": "code",
      "metadata": {
        "id": "5w7iBrEokUJE"
      },
      "source": [
        "# transforms THE WHOLE sentence into a 512 dimensional vector"
      ],
      "execution_count": 80,
      "outputs": []
    },
    {
      "cell_type": "code",
      "metadata": {
        "id": "oh5lPd1dkiw2"
      },
      "source": [
        "# Create Keras Layer using the USE pretrained layer from tensorflow hub\n",
        "\n",
        "sentence_encoder_layer = hub.KerasLayer(\"https://tfhub.dev/google/universal-sentence-encoder/4\",\n",
        "                                        input_shape = [],\n",
        "                                        dtype = tf.string,\n",
        "                                        trainable = False,\n",
        "                                        name = \"USE\")"
      ],
      "execution_count": 81,
      "outputs": []
    },
    {
      "cell_type": "code",
      "metadata": {
        "colab": {
          "base_uri": "https://localhost:8080/"
        },
        "id": "7tq3xaldlzkI",
        "outputId": "14650c3b-6d6e-4c1c-f145-569a12253914"
      },
      "source": [
        "# Create model using the sequenctial API\n",
        "\n",
        "model_7 = tf.keras.Sequential([\n",
        "    sentence_encoder_layer,\n",
        "    layers.Dense(64, activation = \"relu\"),\n",
        "    layers.Dense(1, activation = 'sigmoid', name = 'output_layer')\n",
        "], name = \"model_7_USE\")\n",
        "\n",
        "# Compile\n",
        "\n",
        "model_7.compile(loss = 'binary_crossentropy', optimizer = \n",
        "                tf.keras.optimizers.Adam(), metrics = ['accuracy'])\n",
        "\n",
        "model_7.summary()"
      ],
      "execution_count": 97,
      "outputs": [
        {
          "output_type": "stream",
          "text": [
            "Model: \"model_7_USE\"\n",
            "_________________________________________________________________\n",
            "Layer (type)                 Output Shape              Param #   \n",
            "=================================================================\n",
            "USE (KerasLayer)             (None, 512)               256797824 \n",
            "_________________________________________________________________\n",
            "dense_16 (Dense)             (None, 64)                32832     \n",
            "_________________________________________________________________\n",
            "output_layer (Dense)         (None, 1)                 65        \n",
            "=================================================================\n",
            "Total params: 256,830,721\n",
            "Trainable params: 32,897\n",
            "Non-trainable params: 256,797,824\n",
            "_________________________________________________________________\n"
          ],
          "name": "stdout"
        }
      ]
    },
    {
      "cell_type": "code",
      "metadata": {
        "colab": {
          "base_uri": "https://localhost:8080/"
        },
        "id": "I8Ex63gMmVJY",
        "outputId": "0b1efc8b-2bbd-4521-dead-f897e446cc19"
      },
      "source": [
        "# Train a classifier on top of USE pretrained embeddings\n",
        "\n",
        "model_7_history = model_7.fit(train_sentences, train_labels, epochs = 15,\n",
        "                              validation_data = (val_sentences, val_labels), callbacks = [create_tensorboard_callback(SAVE_DIR, \"model_7_use\")])"
      ],
      "execution_count": 98,
      "outputs": [
        {
          "output_type": "stream",
          "text": [
            "Saving TensorBoard log files to: model_logs/model_7_use/20210519-124748\n",
            "Epoch 1/15\n",
            "215/215 [==============================] - 4s 16ms/step - loss: 0.5813 - accuracy: 0.7352 - val_loss: 0.4496 - val_accuracy: 0.7979\n",
            "Epoch 2/15\n",
            "215/215 [==============================] - 2s 10ms/step - loss: 0.4161 - accuracy: 0.8144 - val_loss: 0.4367 - val_accuracy: 0.8123\n",
            "Epoch 3/15\n",
            "215/215 [==============================] - 2s 10ms/step - loss: 0.4007 - accuracy: 0.8173 - val_loss: 0.4320 - val_accuracy: 0.8163\n",
            "Epoch 4/15\n",
            "215/215 [==============================] - 2s 10ms/step - loss: 0.3902 - accuracy: 0.8309 - val_loss: 0.4288 - val_accuracy: 0.8123\n",
            "Epoch 5/15\n",
            "215/215 [==============================] - 2s 10ms/step - loss: 0.3794 - accuracy: 0.8331 - val_loss: 0.4247 - val_accuracy: 0.8215\n",
            "Epoch 6/15\n",
            "215/215 [==============================] - 2s 10ms/step - loss: 0.3758 - accuracy: 0.8360 - val_loss: 0.4262 - val_accuracy: 0.8228\n",
            "Epoch 7/15\n",
            "215/215 [==============================] - 2s 10ms/step - loss: 0.3562 - accuracy: 0.8448 - val_loss: 0.4224 - val_accuracy: 0.8189\n",
            "Epoch 8/15\n",
            "215/215 [==============================] - 2s 10ms/step - loss: 0.3623 - accuracy: 0.8410 - val_loss: 0.4207 - val_accuracy: 0.8228\n",
            "Epoch 9/15\n",
            "215/215 [==============================] - 2s 10ms/step - loss: 0.3522 - accuracy: 0.8501 - val_loss: 0.4232 - val_accuracy: 0.8268\n",
            "Epoch 10/15\n",
            "215/215 [==============================] - 2s 10ms/step - loss: 0.3427 - accuracy: 0.8527 - val_loss: 0.4255 - val_accuracy: 0.8255\n",
            "Epoch 11/15\n",
            "215/215 [==============================] - 2s 10ms/step - loss: 0.3329 - accuracy: 0.8558 - val_loss: 0.4249 - val_accuracy: 0.8241\n",
            "Epoch 12/15\n",
            "215/215 [==============================] - 2s 10ms/step - loss: 0.3265 - accuracy: 0.8623 - val_loss: 0.4315 - val_accuracy: 0.8136\n",
            "Epoch 13/15\n",
            "215/215 [==============================] - 2s 10ms/step - loss: 0.3134 - accuracy: 0.8686 - val_loss: 0.4298 - val_accuracy: 0.8228\n",
            "Epoch 14/15\n",
            "215/215 [==============================] - 2s 10ms/step - loss: 0.2939 - accuracy: 0.8777 - val_loss: 0.4303 - val_accuracy: 0.8281\n",
            "Epoch 15/15\n",
            "215/215 [==============================] - 2s 10ms/step - loss: 0.2980 - accuracy: 0.8779 - val_loss: 0.4355 - val_accuracy: 0.8281\n"
          ],
          "name": "stdout"
        }
      ]
    },
    {
      "cell_type": "code",
      "metadata": {
        "colab": {
          "base_uri": "https://localhost:8080/"
        },
        "id": "07_q7_SwnPn4",
        "outputId": "7fee6096-d4ae-4369-c858-f928d1e440ea"
      },
      "source": [
        "model_7_pred_probs = model_7.predict(val_sentences)\n",
        "model_7_preds = tf.squeeze(tf.round(model_7_pred_probs))\n",
        "results = calculate_results(val_labels, model_7_preds)\n",
        "results"
      ],
      "execution_count": 99,
      "outputs": [
        {
          "output_type": "execute_result",
          "data": {
            "text/plain": [
              "{'accuracy': 82.80839895013123,\n",
              " 'f1': 0.8271790179159411,\n",
              " 'precision': 0.8290723185352373,\n",
              " 'recall': 0.8280839895013123}"
            ]
          },
          "metadata": {
            "tags": []
          },
          "execution_count": 99
        }
      ]
    },
    {
      "cell_type": "code",
      "metadata": {
        "id": "jJ9Bej99oVc8"
      },
      "source": [
        ""
      ],
      "execution_count": null,
      "outputs": []
    }
  ]
}