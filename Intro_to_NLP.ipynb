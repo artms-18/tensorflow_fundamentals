{
  "nbformat": 4,
  "nbformat_minor": 0,
  "metadata": {
    "accelerator": "GPU",
    "colab": {
      "name": "Intro_to_NLP.ipynb",
      "provenance": [],
      "collapsed_sections": [],
      "toc_visible": true,
      "authorship_tag": "ABX9TyN3ZtYZoPHjua60KFlut6l2",
      "include_colab_link": true
    },
    "kernelspec": {
      "display_name": "Python 3",
      "name": "python3"
    },
    "language_info": {
      "name": "python"
    }
  },
  "cells": [
    {
      "cell_type": "markdown",
      "metadata": {
        "id": "view-in-github",
        "colab_type": "text"
      },
      "source": [
        "<a href=\"https://colab.research.google.com/github/artms-18/tensorflow_fundamentals/blob/main/Intro_to_NLP.ipynb\" target=\"_parent\"><img src=\"https://colab.research.google.com/assets/colab-badge.svg\" alt=\"Open In Colab\"/></a>"
      ]
    },
    {
      "cell_type": "markdown",
      "metadata": {
        "id": "V2YYd-dzOCzO"
      },
      "source": [
        "# Introduction to NLP Fundamentals in Tensorflow\n",
        "\n",
        "NLP has the goal of deriving information out of natural language (could be sequences text or speech).\n",
        "\n",
        "Another common term for NLP problems is sequence to sequence problems (seq2seq)"
      ]
    },
    {
      "cell_type": "markdown",
      "metadata": {
        "id": "wwL6eAuxOez1"
      },
      "source": [
        "## Check for GPU"
      ]
    },
    {
      "cell_type": "code",
      "metadata": {
        "colab": {
          "base_uri": "https://localhost:8080/"
        },
        "id": "7NmbUEodOibH",
        "outputId": "91c191ac-c3ca-45c4-ae5d-c4c07beac5a7"
      },
      "source": [
        "!nvidia-smi -L"
      ],
      "execution_count": 1,
      "outputs": [
        {
          "output_type": "stream",
          "text": [
            "GPU 0: Tesla T4 (UUID: GPU-81ae9ec0-46b1-3ebe-5bdd-4d33dafa5eb8)\n"
          ],
          "name": "stdout"
        }
      ]
    },
    {
      "cell_type": "markdown",
      "metadata": {
        "id": "zXRui5LaOmC1"
      },
      "source": [
        "## Get helper functions"
      ]
    },
    {
      "cell_type": "code",
      "metadata": {
        "colab": {
          "base_uri": "https://localhost:8080/"
        },
        "id": "1EKDbxTLOta0",
        "outputId": "1777e96c-ccd7-45a2-b881-2e56d1a54dd7"
      },
      "source": [
        "!wget https://raw.githubusercontent.com/mrdbourke/tensorflow-deep-learning/main/extras/helper_functions.py\n",
        "\n",
        "# Import a series of helper function for the notebook\n",
        "\n",
        "from helper_functions import unzip_data, create_tensorboard_callback, plot_loss_curves, compare_historys"
      ],
      "execution_count": 2,
      "outputs": [
        {
          "output_type": "stream",
          "text": [
            "--2021-05-25 12:08:23--  https://raw.githubusercontent.com/mrdbourke/tensorflow-deep-learning/main/extras/helper_functions.py\n",
            "Resolving raw.githubusercontent.com (raw.githubusercontent.com)... 185.199.108.133, 185.199.109.133, 185.199.110.133, ...\n",
            "Connecting to raw.githubusercontent.com (raw.githubusercontent.com)|185.199.108.133|:443... connected.\n",
            "HTTP request sent, awaiting response... 200 OK\n",
            "Length: 10246 (10K) [text/plain]\n",
            "Saving to: ‘helper_functions.py’\n",
            "\n",
            "helper_functions.py 100%[===================>]  10.01K  --.-KB/s    in 0s      \n",
            "\n",
            "2021-05-25 12:08:23 (76.7 MB/s) - ‘helper_functions.py’ saved [10246/10246]\n",
            "\n"
          ],
          "name": "stdout"
        }
      ]
    },
    {
      "cell_type": "markdown",
      "metadata": {
        "id": "NFOGPIupPDFD"
      },
      "source": [
        "## Get a text dataaset\n",
        "\n",
        "The dataset we're going to be using is Kaggle's introduction to NLP dataset"
      ]
    },
    {
      "cell_type": "code",
      "metadata": {
        "colab": {
          "base_uri": "https://localhost:8080/"
        },
        "id": "n07wcR_vPax1",
        "outputId": "4c6443af-a716-47ac-9af6-bc0bd76ebb40"
      },
      "source": [
        "!wget https://storage.googleapis.com/ztm_tf_course/nlp_getting_started.zip\n",
        "\n",
        "unzip_data(\"nlp_getting_started.zip\")"
      ],
      "execution_count": 3,
      "outputs": [
        {
          "output_type": "stream",
          "text": [
            "--2021-05-25 12:08:25--  https://storage.googleapis.com/ztm_tf_course/nlp_getting_started.zip\n",
            "Resolving storage.googleapis.com (storage.googleapis.com)... 74.125.142.128, 74.125.195.128, 172.253.117.128, ...\n",
            "Connecting to storage.googleapis.com (storage.googleapis.com)|74.125.142.128|:443... connected.\n",
            "HTTP request sent, awaiting response... 200 OK\n",
            "Length: 607343 (593K) [application/zip]\n",
            "Saving to: ‘nlp_getting_started.zip’\n",
            "\n",
            "\rnlp_getting_started   0%[                    ]       0  --.-KB/s               \rnlp_getting_started 100%[===================>] 593.11K  --.-KB/s    in 0.006s  \n",
            "\n",
            "2021-05-25 12:08:26 (104 MB/s) - ‘nlp_getting_started.zip’ saved [607343/607343]\n",
            "\n"
          ],
          "name": "stdout"
        }
      ]
    },
    {
      "cell_type": "markdown",
      "metadata": {
        "id": "U3ncZHW9NfqH"
      },
      "source": [
        "## Visualizing a text dataset\n",
        "\n",
        "To visualie our text samples, we first have to read them in, one way to do so would be to use Python: \n",
        "\n",
        "Another way to do this is to use pandas.\n",
        "\n",
        "(If text dataset is very large, cannot ise pandas (will tkaes of to much RAM).\n",
        "\n"
      ]
    },
    {
      "cell_type": "code",
      "metadata": {
        "colab": {
          "base_uri": "https://localhost:8080/",
          "height": 204
        },
        "id": "pMSX-pP6N4ZP",
        "outputId": "e240e070-3b70-447b-ffdd-4523df898b61"
      },
      "source": [
        "import pandas as pd\n",
        "\n",
        "train_df = pd.read_csv(\"train.csv\")\n",
        "test_df = pd.read_csv('test.csv')\n",
        "\n",
        "train_df.head()"
      ],
      "execution_count": 4,
      "outputs": [
        {
          "output_type": "execute_result",
          "data": {
            "text/html": [
              "<div>\n",
              "<style scoped>\n",
              "    .dataframe tbody tr th:only-of-type {\n",
              "        vertical-align: middle;\n",
              "    }\n",
              "\n",
              "    .dataframe tbody tr th {\n",
              "        vertical-align: top;\n",
              "    }\n",
              "\n",
              "    .dataframe thead th {\n",
              "        text-align: right;\n",
              "    }\n",
              "</style>\n",
              "<table border=\"1\" class=\"dataframe\">\n",
              "  <thead>\n",
              "    <tr style=\"text-align: right;\">\n",
              "      <th></th>\n",
              "      <th>id</th>\n",
              "      <th>keyword</th>\n",
              "      <th>location</th>\n",
              "      <th>text</th>\n",
              "      <th>target</th>\n",
              "    </tr>\n",
              "  </thead>\n",
              "  <tbody>\n",
              "    <tr>\n",
              "      <th>0</th>\n",
              "      <td>1</td>\n",
              "      <td>NaN</td>\n",
              "      <td>NaN</td>\n",
              "      <td>Our Deeds are the Reason of this #earthquake M...</td>\n",
              "      <td>1</td>\n",
              "    </tr>\n",
              "    <tr>\n",
              "      <th>1</th>\n",
              "      <td>4</td>\n",
              "      <td>NaN</td>\n",
              "      <td>NaN</td>\n",
              "      <td>Forest fire near La Ronge Sask. Canada</td>\n",
              "      <td>1</td>\n",
              "    </tr>\n",
              "    <tr>\n",
              "      <th>2</th>\n",
              "      <td>5</td>\n",
              "      <td>NaN</td>\n",
              "      <td>NaN</td>\n",
              "      <td>All residents asked to 'shelter in place' are ...</td>\n",
              "      <td>1</td>\n",
              "    </tr>\n",
              "    <tr>\n",
              "      <th>3</th>\n",
              "      <td>6</td>\n",
              "      <td>NaN</td>\n",
              "      <td>NaN</td>\n",
              "      <td>13,000 people receive #wildfires evacuation or...</td>\n",
              "      <td>1</td>\n",
              "    </tr>\n",
              "    <tr>\n",
              "      <th>4</th>\n",
              "      <td>7</td>\n",
              "      <td>NaN</td>\n",
              "      <td>NaN</td>\n",
              "      <td>Just got sent this photo from Ruby #Alaska as ...</td>\n",
              "      <td>1</td>\n",
              "    </tr>\n",
              "  </tbody>\n",
              "</table>\n",
              "</div>"
            ],
            "text/plain": [
              "   id keyword  ...                                               text target\n",
              "0   1     NaN  ...  Our Deeds are the Reason of this #earthquake M...      1\n",
              "1   4     NaN  ...             Forest fire near La Ronge Sask. Canada      1\n",
              "2   5     NaN  ...  All residents asked to 'shelter in place' are ...      1\n",
              "3   6     NaN  ...  13,000 people receive #wildfires evacuation or...      1\n",
              "4   7     NaN  ...  Just got sent this photo from Ruby #Alaska as ...      1\n",
              "\n",
              "[5 rows x 5 columns]"
            ]
          },
          "metadata": {
            "tags": []
          },
          "execution_count": 4
        }
      ]
    },
    {
      "cell_type": "code",
      "metadata": {
        "colab": {
          "base_uri": "https://localhost:8080/",
          "height": 35
        },
        "id": "6wEgvLPWOq38",
        "outputId": "ee58169d-6013-4f70-99bf-0a5e2b33f0d9"
      },
      "source": [
        "train_df['text'][0]"
      ],
      "execution_count": 5,
      "outputs": [
        {
          "output_type": "execute_result",
          "data": {
            "application/vnd.google.colaboratory.intrinsic+json": {
              "type": "string"
            },
            "text/plain": [
              "'Our Deeds are the Reason of this #earthquake May ALLAH Forgive us all'"
            ]
          },
          "metadata": {
            "tags": []
          },
          "execution_count": 5
        }
      ]
    },
    {
      "cell_type": "code",
      "metadata": {
        "colab": {
          "base_uri": "https://localhost:8080/",
          "height": 204
        },
        "id": "GMJJNtQQOzCx",
        "outputId": "2bb3f24b-3a33-48a9-d7a3-02c63fd0c739"
      },
      "source": [
        "# Shuffle training dataframe\n",
        "\n",
        "train_df_shuffled = train_df.sample(frac = 1, random_state = 42)\n",
        "train_df_shuffled.head()"
      ],
      "execution_count": 6,
      "outputs": [
        {
          "output_type": "execute_result",
          "data": {
            "text/html": [
              "<div>\n",
              "<style scoped>\n",
              "    .dataframe tbody tr th:only-of-type {\n",
              "        vertical-align: middle;\n",
              "    }\n",
              "\n",
              "    .dataframe tbody tr th {\n",
              "        vertical-align: top;\n",
              "    }\n",
              "\n",
              "    .dataframe thead th {\n",
              "        text-align: right;\n",
              "    }\n",
              "</style>\n",
              "<table border=\"1\" class=\"dataframe\">\n",
              "  <thead>\n",
              "    <tr style=\"text-align: right;\">\n",
              "      <th></th>\n",
              "      <th>id</th>\n",
              "      <th>keyword</th>\n",
              "      <th>location</th>\n",
              "      <th>text</th>\n",
              "      <th>target</th>\n",
              "    </tr>\n",
              "  </thead>\n",
              "  <tbody>\n",
              "    <tr>\n",
              "      <th>2644</th>\n",
              "      <td>3796</td>\n",
              "      <td>destruction</td>\n",
              "      <td>NaN</td>\n",
              "      <td>So you have a new weapon that can cause un-ima...</td>\n",
              "      <td>1</td>\n",
              "    </tr>\n",
              "    <tr>\n",
              "      <th>2227</th>\n",
              "      <td>3185</td>\n",
              "      <td>deluge</td>\n",
              "      <td>NaN</td>\n",
              "      <td>The f$&amp;amp;@ing things I do for #GISHWHES Just...</td>\n",
              "      <td>0</td>\n",
              "    </tr>\n",
              "    <tr>\n",
              "      <th>5448</th>\n",
              "      <td>7769</td>\n",
              "      <td>police</td>\n",
              "      <td>UK</td>\n",
              "      <td>DT @georgegalloway: RT @Galloway4Mayor: ÛÏThe...</td>\n",
              "      <td>1</td>\n",
              "    </tr>\n",
              "    <tr>\n",
              "      <th>132</th>\n",
              "      <td>191</td>\n",
              "      <td>aftershock</td>\n",
              "      <td>NaN</td>\n",
              "      <td>Aftershock back to school kick off was great. ...</td>\n",
              "      <td>0</td>\n",
              "    </tr>\n",
              "    <tr>\n",
              "      <th>6845</th>\n",
              "      <td>9810</td>\n",
              "      <td>trauma</td>\n",
              "      <td>Montgomery County, MD</td>\n",
              "      <td>in response to trauma Children of Addicts deve...</td>\n",
              "      <td>0</td>\n",
              "    </tr>\n",
              "  </tbody>\n",
              "</table>\n",
              "</div>"
            ],
            "text/plain": [
              "        id  ... target\n",
              "2644  3796  ...      1\n",
              "2227  3185  ...      0\n",
              "5448  7769  ...      1\n",
              "132    191  ...      0\n",
              "6845  9810  ...      0\n",
              "\n",
              "[5 rows x 5 columns]"
            ]
          },
          "metadata": {
            "tags": []
          },
          "execution_count": 6
        }
      ]
    },
    {
      "cell_type": "code",
      "metadata": {
        "colab": {
          "base_uri": "https://localhost:8080/",
          "height": 204
        },
        "id": "Wf5tQuYPPOI5",
        "outputId": "6810f424-7602-400b-f2c4-6fa05e001b4e"
      },
      "source": [
        "# What does the test dataframe look like?\n",
        "\n",
        "test_df.head()"
      ],
      "execution_count": 7,
      "outputs": [
        {
          "output_type": "execute_result",
          "data": {
            "text/html": [
              "<div>\n",
              "<style scoped>\n",
              "    .dataframe tbody tr th:only-of-type {\n",
              "        vertical-align: middle;\n",
              "    }\n",
              "\n",
              "    .dataframe tbody tr th {\n",
              "        vertical-align: top;\n",
              "    }\n",
              "\n",
              "    .dataframe thead th {\n",
              "        text-align: right;\n",
              "    }\n",
              "</style>\n",
              "<table border=\"1\" class=\"dataframe\">\n",
              "  <thead>\n",
              "    <tr style=\"text-align: right;\">\n",
              "      <th></th>\n",
              "      <th>id</th>\n",
              "      <th>keyword</th>\n",
              "      <th>location</th>\n",
              "      <th>text</th>\n",
              "    </tr>\n",
              "  </thead>\n",
              "  <tbody>\n",
              "    <tr>\n",
              "      <th>0</th>\n",
              "      <td>0</td>\n",
              "      <td>NaN</td>\n",
              "      <td>NaN</td>\n",
              "      <td>Just happened a terrible car crash</td>\n",
              "    </tr>\n",
              "    <tr>\n",
              "      <th>1</th>\n",
              "      <td>2</td>\n",
              "      <td>NaN</td>\n",
              "      <td>NaN</td>\n",
              "      <td>Heard about #earthquake is different cities, s...</td>\n",
              "    </tr>\n",
              "    <tr>\n",
              "      <th>2</th>\n",
              "      <td>3</td>\n",
              "      <td>NaN</td>\n",
              "      <td>NaN</td>\n",
              "      <td>there is a forest fire at spot pond, geese are...</td>\n",
              "    </tr>\n",
              "    <tr>\n",
              "      <th>3</th>\n",
              "      <td>9</td>\n",
              "      <td>NaN</td>\n",
              "      <td>NaN</td>\n",
              "      <td>Apocalypse lighting. #Spokane #wildfires</td>\n",
              "    </tr>\n",
              "    <tr>\n",
              "      <th>4</th>\n",
              "      <td>11</td>\n",
              "      <td>NaN</td>\n",
              "      <td>NaN</td>\n",
              "      <td>Typhoon Soudelor kills 28 in China and Taiwan</td>\n",
              "    </tr>\n",
              "  </tbody>\n",
              "</table>\n",
              "</div>"
            ],
            "text/plain": [
              "   id keyword location                                               text\n",
              "0   0     NaN      NaN                 Just happened a terrible car crash\n",
              "1   2     NaN      NaN  Heard about #earthquake is different cities, s...\n",
              "2   3     NaN      NaN  there is a forest fire at spot pond, geese are...\n",
              "3   9     NaN      NaN           Apocalypse lighting. #Spokane #wildfires\n",
              "4  11     NaN      NaN      Typhoon Soudelor kills 28 in China and Taiwan"
            ]
          },
          "metadata": {
            "tags": []
          },
          "execution_count": 7
        }
      ]
    },
    {
      "cell_type": "code",
      "metadata": {
        "colab": {
          "base_uri": "https://localhost:8080/"
        },
        "id": "85kR-NvnPYL5",
        "outputId": "5a9545ed-9c2d-4055-ee28-a1589f391311"
      },
      "source": [
        "# How many examples of each class?\n",
        "train_df.target.value_counts()"
      ],
      "execution_count": 8,
      "outputs": [
        {
          "output_type": "execute_result",
          "data": {
            "text/plain": [
              "0    4342\n",
              "1    3271\n",
              "Name: target, dtype: int64"
            ]
          },
          "metadata": {
            "tags": []
          },
          "execution_count": 8
        }
      ]
    },
    {
      "cell_type": "code",
      "metadata": {
        "colab": {
          "base_uri": "https://localhost:8080/"
        },
        "id": "PNxPDFVsPjaE",
        "outputId": "623d4013-6e72-4622-f668-72c16227ecc3"
      },
      "source": [
        "# How many total samples?\n",
        "len(train_df), len(test_df)"
      ],
      "execution_count": 9,
      "outputs": [
        {
          "output_type": "execute_result",
          "data": {
            "text/plain": [
              "(7613, 3263)"
            ]
          },
          "metadata": {
            "tags": []
          },
          "execution_count": 9
        }
      ]
    },
    {
      "cell_type": "code",
      "metadata": {
        "colab": {
          "base_uri": "https://localhost:8080/"
        },
        "id": "YQBONc5XQB21",
        "outputId": "2566e3e3-baa1-490a-d41b-87a92157af47"
      },
      "source": [
        "# Let's visualize some random training examples\n",
        "\n",
        "import random\n",
        "\n",
        "random_index = random.randint(0, len(train_df)-5) # create random indexes not higher than the total number of samples\n",
        "\n",
        "for row in train_df_shuffled[['text', 'target']][random_index: random_index + 5].itertuples():\n",
        "  _, text, target = row #gets rid of index\n",
        "  print(f\"Target: {target}\", \"(real disaster)\" if target > 0 else \"(not real disaster\")\n",
        "  print(f\"Text:\\n{text}\\n\")\n",
        "  print(\"---\\n\")"
      ],
      "execution_count": 10,
      "outputs": [
        {
          "output_type": "stream",
          "text": [
            "Target: 0 (not real disaster\n",
            "Text:\n",
            "Dead Space - Obliteration Imminent [2/2]: http://t.co/XJB0dCAaHf via @YouTube\n",
            "\n",
            "---\n",
            "\n",
            "Target: 0 (not real disaster\n",
            "Text:\n",
            "She just said does he have a curfew 'nope'??\n",
            "\n",
            "---\n",
            "\n",
            "Target: 1 (real disaster)\n",
            "Text:\n",
            "Dr. Bengston on #wildfire management: ÛÏnumbers and size of fires areas affected and costs of fighting them all show upward trend.Û #smem\n",
            "\n",
            "---\n",
            "\n",
            "Target: 1 (real disaster)\n",
            "Text:\n",
            "#Glimpses: Hyderabad deluged by heavy rainfall | http://t.co/DctV1uJLHc http://t.co/QOx1jNQSAU\n",
            "\n",
            "---\n",
            "\n",
            "Target: 0 (not real disaster\n",
            "Text:\n",
            "Worked at a fast food joint. Poured burnt hot oil down the sink. It hit the water in the trap and exploded.  @FallonTonight #WORSTSUMMERJOB\n",
            "\n",
            "---\n",
            "\n"
          ],
          "name": "stdout"
        }
      ]
    },
    {
      "cell_type": "markdown",
      "metadata": {
        "id": "7YOA44HYRFO4"
      },
      "source": [
        "### Split data into training and validation sets"
      ]
    },
    {
      "cell_type": "code",
      "metadata": {
        "id": "eLvaFplXVxYB"
      },
      "source": [
        "from sklearn.model_selection import train_test_split"
      ],
      "execution_count": 11,
      "outputs": []
    },
    {
      "cell_type": "code",
      "metadata": {
        "id": "T--31tdmV8-p"
      },
      "source": [
        "# Use train_test_split top split training data into training and validation sets\n",
        "\n",
        "train_sentences, val_sentences, train_labels, val_labels = train_test_split(train_df_shuffled['text'].to_numpy(), train_df_shuffled['target'].to_numpy(),\n",
        "                                                                            test_size = 0.1, random_state = 42)"
      ],
      "execution_count": 12,
      "outputs": []
    },
    {
      "cell_type": "code",
      "metadata": {
        "colab": {
          "base_uri": "https://localhost:8080/"
        },
        "id": "wMmCJhagWgrX",
        "outputId": "80a0df6a-397a-4dc4-8a82-8f455d48deb3"
      },
      "source": [
        "# Check the lengths\n",
        "\n",
        "len(train_sentences), len(train_labels), len(val_sentences), len(val_labels)"
      ],
      "execution_count": 13,
      "outputs": [
        {
          "output_type": "execute_result",
          "data": {
            "text/plain": [
              "(6851, 6851, 762, 762)"
            ]
          },
          "metadata": {
            "tags": []
          },
          "execution_count": 13
        }
      ]
    },
    {
      "cell_type": "code",
      "metadata": {
        "colab": {
          "base_uri": "https://localhost:8080/"
        },
        "id": "n1IAOaMvWn1h",
        "outputId": "be46cfdc-766b-4bc4-a23e-4b31b656f144"
      },
      "source": [
        "# Check the first 10 samples\n",
        "\n",
        "train_sentences[:10], train_labels[:10]"
      ],
      "execution_count": 14,
      "outputs": [
        {
          "output_type": "execute_result",
          "data": {
            "text/plain": [
              "(array(['@mogacola @zamtriossu i screamed after hitting tweet',\n",
              "        'Imagine getting flattened by Kurt Zouma',\n",
              "        '@Gurmeetramrahim #MSGDoing111WelfareWorks Green S welfare force ke appx 65000 members har time disaster victim ki help ke liye tyar hai....',\n",
              "        \"@shakjn @C7 @Magnums im shaking in fear he's gonna hack the planet\",\n",
              "        'Somehow find you and I collide http://t.co/Ee8RpOahPk',\n",
              "        '@EvaHanderek @MarleyKnysh great times until the bus driver held us hostage in the mall parking lot lmfao',\n",
              "        'destroy the free fandom honestly',\n",
              "        'Weapons stolen from National Guard Armory in New Albany still missing #Gunsense http://t.co/lKNU8902JE',\n",
              "        '@wfaaweather Pete when will the heat wave pass? Is it really going to be mid month? Frisco Boy Scouts have a canoe trip in Okla.',\n",
              "        'Patient-reported outcomes in long-term survivors of metastatic colorectal cancer - British Journal of Surgery http://t.co/5Yl4DC1Tqt'],\n",
              "       dtype=object), array([0, 0, 1, 0, 0, 1, 1, 0, 1, 1]))"
            ]
          },
          "metadata": {
            "tags": []
          },
          "execution_count": 14
        }
      ]
    },
    {
      "cell_type": "markdown",
      "metadata": {
        "id": "EBPYFbfpWxka"
      },
      "source": [
        "## Converting text into numbers\n",
        "\n",
        "When dealing with a text problem, one of the first things you'll have to do before you can build a midek is to convert your text to numbers.\n",
        "\n",
        "There are a few ways to do this, namely:\n",
        "* Tokenization - direct mapping of  token( a toke could be a word or a character) to number\n",
        "* embedding - create a matrix of feature vectors for each token the size of the feature vector can be defined and this embedding can be learned"
      ]
    },
    {
      "cell_type": "markdown",
      "metadata": {
        "id": "F418KsbgeMiz"
      },
      "source": [
        "### Text vectorization (tokenization)"
      ]
    },
    {
      "cell_type": "code",
      "metadata": {
        "colab": {
          "base_uri": "https://localhost:8080/"
        },
        "id": "XmDCHzgPeRPi",
        "outputId": "9c102f83-9d50-46e1-9844-5f1a9d79e9e8"
      },
      "source": [
        "train_sentences[:5]"
      ],
      "execution_count": 15,
      "outputs": [
        {
          "output_type": "execute_result",
          "data": {
            "text/plain": [
              "array(['@mogacola @zamtriossu i screamed after hitting tweet',\n",
              "       'Imagine getting flattened by Kurt Zouma',\n",
              "       '@Gurmeetramrahim #MSGDoing111WelfareWorks Green S welfare force ke appx 65000 members har time disaster victim ki help ke liye tyar hai....',\n",
              "       \"@shakjn @C7 @Magnums im shaking in fear he's gonna hack the planet\",\n",
              "       'Somehow find you and I collide http://t.co/Ee8RpOahPk'],\n",
              "      dtype=object)"
            ]
          },
          "metadata": {
            "tags": []
          },
          "execution_count": 15
        }
      ]
    },
    {
      "cell_type": "code",
      "metadata": {
        "id": "3JMd2f1QeSkz"
      },
      "source": [
        "import tensorflow as tf\n",
        "from tensorflow.keras.layers.experimental.preprocessing import TextVectorization\n",
        "\n",
        "# Use the default TextVectorization parameters\n",
        "\n",
        "text_vectorizer = TextVectorization(max_tokens = None, # how many words in the vocab (automatically add <OOV>)\n",
        "                                    standardize = \"lower_and_strip_punctuation\",\n",
        "                                    split = \"whitespace\", \n",
        "                                    ngrams = None,\n",
        "                                    output_mode = \"int\", #how to map tokens to numbers\n",
        "                                    output_sequence_length = None, #pads each sequence to the logest sequence\n",
        "                                    pad_to_max_tokens = True)"
      ],
      "execution_count": 16,
      "outputs": []
    },
    {
      "cell_type": "code",
      "metadata": {
        "colab": {
          "base_uri": "https://localhost:8080/"
        },
        "id": "J2DSXz93fNcV",
        "outputId": "7387b8d7-6f30-4ad0-9ab3-0c3998ed674e"
      },
      "source": [
        "# Find the average number of tokens (words) in the training tweets\n",
        "\n",
        "round(sum(len(i.split()) for i in train_sentences)) / len(train_sentences)"
      ],
      "execution_count": 17,
      "outputs": [
        {
          "output_type": "execute_result",
          "data": {
            "text/plain": [
              "14.901036345059115"
            ]
          },
          "metadata": {
            "tags": []
          },
          "execution_count": 17
        }
      ]
    },
    {
      "cell_type": "code",
      "metadata": {
        "id": "1PyZrrwPhe4U"
      },
      "source": [
        "# Setup text vectorization variables\n",
        "\n",
        "max_vocab_length = 10000 #max num of words to have in our vocabulary\n",
        "max_length = 15 # max length our seuqences will be (how many words in a tweet, amodel would see)\n",
        "\n",
        "text_vectorizer = TextVectorization(max_tokens = max_vocab_length, output_mode= 'int', output_sequence_length = max_length)"
      ],
      "execution_count": 18,
      "outputs": []
    },
    {
      "cell_type": "code",
      "metadata": {
        "id": "tDVzTznLiDwm"
      },
      "source": [
        "#fit the text vectorier to the training text\n",
        "\n",
        "text_vectorizer.adapt(train_sentences)"
      ],
      "execution_count": 19,
      "outputs": []
    },
    {
      "cell_type": "code",
      "metadata": {
        "colab": {
          "base_uri": "https://localhost:8080/"
        },
        "id": "WKIukLPgmz5A",
        "outputId": "d77a5171-b822-4822-aeae-eceed295e829"
      },
      "source": [
        "# Create a sample sentence and tokenize it\n",
        "\n",
        "sample_sentence = \"Theres a flood in my street!\"\n",
        "\n",
        "text_vectorizer([sample_sentence])"
      ],
      "execution_count": 20,
      "outputs": [
        {
          "output_type": "execute_result",
          "data": {
            "text/plain": [
              "<tf.Tensor: shape=(1, 15), dtype=int64, numpy=\n",
              "array([[264,   3, 232,   4,  13, 698,   0,   0,   0,   0,   0,   0,   0,\n",
              "          0,   0]])>"
            ]
          },
          "metadata": {
            "tags": []
          },
          "execution_count": 20
        }
      ]
    },
    {
      "cell_type": "code",
      "metadata": {
        "colab": {
          "base_uri": "https://localhost:8080/"
        },
        "id": "6Td3xFgCnGfD",
        "outputId": "7f5b71a5-2d1a-42ae-aaf4-a098520b996d"
      },
      "source": [
        "# Choose a random sentence from the training dataset and tokenize iot\n",
        "\n",
        "random_sentence = random.choice(train_sentences)\n",
        "print(f\"Original text:\\n {random_sentence}\\n\\nVectorized version:\")\n",
        "text_vectorizer([random_sentence])"
      ],
      "execution_count": 21,
      "outputs": [
        {
          "output_type": "stream",
          "text": [
            "Original text:\n",
            " Driver rams car into Israeli soldiers wounds 3: military: A driver rammed a car into a group of Israeli soldi... http://t.co/oBSZ45ybAJ\n",
            "\n",
            "Vectorized version:\n"
          ],
          "name": "stdout"
        },
        {
          "output_type": "execute_result",
          "data": {
            "text/plain": [
              "<tf.Tensor: shape=(1, 15), dtype=int64, numpy=\n",
              "array([[ 900, 9366,  127,   66,  602, 1362,  523,  118,  223,    3,  900,\n",
              "        4808,    3,  127,   66]])>"
            ]
          },
          "metadata": {
            "tags": []
          },
          "execution_count": 21
        }
      ]
    },
    {
      "cell_type": "code",
      "metadata": {
        "colab": {
          "base_uri": "https://localhost:8080/"
        },
        "id": "FjEI87-Mnpiw",
        "outputId": "39b15473-e05e-4695-c804-4afcfe29e0e0"
      },
      "source": [
        "# Get the unique words in the vocabulary\n",
        "\n",
        "words_in_vocab = text_vectorizer.get_vocabulary() #get all of the unique words in the training data\n",
        "top_5_words = words_in_vocab[:5] # get the most common words\n",
        "bottom_5_words = words_in_vocab[-5:] #get the least common words\n",
        "print(f\"Number of words in vocab: {len(words_in_vocab)}\")\n",
        "print(f\"5 most comon words: {top_5_words}\")"
      ],
      "execution_count": 22,
      "outputs": [
        {
          "output_type": "stream",
          "text": [
            "Number of words in vocab: 10000\n",
            "5 most comon words: ['', '[UNK]', 'the', 'a', 'in']\n"
          ],
          "name": "stdout"
        }
      ]
    },
    {
      "cell_type": "markdown",
      "metadata": {
        "id": "DWW769H8pF-8"
      },
      "source": [
        "### Creating an Embedding using an Embedding Layer\n",
        "\n",
        "To make our embedding, we're going to use tensoflows embedding layer\n",
        "\n",
        "The parameters we actually care about:\n",
        "* `input_dim` = the size of our vocabulary\n",
        "* `output_dim` = the size of the output embedding vector, for example, a value of 100 would mean each token gets represented by a vecotr 100 long\n",
        "* `input_length` = length of the sequences being passed to the embedding layer"
      ]
    },
    {
      "cell_type": "code",
      "metadata": {
        "colab": {
          "base_uri": "https://localhost:8080/"
        },
        "id": "5B7iSg3Ep7iT",
        "outputId": "d51bb0cc-8e0f-4597-f060-2b7d1a94f3dc"
      },
      "source": [
        "from tensorflow.keras import layers\n",
        "\n",
        "# in keras, wordks best when numbers are divisible by eight\n",
        "\n",
        "embedding = layers.Embedding(input_dim = max_vocab_length,\n",
        "                             output_dim = 128,\n",
        "                             input_length = max_length\n",
        "                             )\n",
        "embedding"
      ],
      "execution_count": 23,
      "outputs": [
        {
          "output_type": "execute_result",
          "data": {
            "text/plain": [
              "<tensorflow.python.keras.layers.embeddings.Embedding at 0x7fd21c337e90>"
            ]
          },
          "metadata": {
            "tags": []
          },
          "execution_count": 23
        }
      ]
    },
    {
      "cell_type": "code",
      "metadata": {
        "colab": {
          "base_uri": "https://localhost:8080/"
        },
        "id": "pbX5XRVfrNRv",
        "outputId": "d23c4dda-efb5-48ea-c4af-ba56024963bc"
      },
      "source": [
        "# Get a random sentence from the training set\n",
        "\n",
        "random_sentence = random.choice(train_sentences)\n",
        "print(f\"Original text:\\n {random_sentence}\\n\\nEmbedded version:\")\n",
        "\n",
        "# Embed the random sentence (turn into dense vecotrs of fixed size)\n",
        "sample_embed = embedding(text_vectorizer([random_sentence]))\n",
        "sample_embed"
      ],
      "execution_count": 24,
      "outputs": [
        {
          "output_type": "stream",
          "text": [
            "Original text:\n",
            " http://t.co/eHKLp12yiP Paci?c Media Centre | articles: AUSTRALIA: RSF protests over new security gag over reporting on...\n",
            "\n",
            "Embedded version:\n"
          ],
          "name": "stdout"
        },
        {
          "output_type": "execute_result",
          "data": {
            "text/plain": [
              "<tf.Tensor: shape=(1, 15, 128), dtype=float32, numpy=\n",
              "array([[[ 0.04794755, -0.02298006,  0.04445425, ..., -0.00928714,\n",
              "         -0.00892459, -0.02337693],\n",
              "        [ 0.04794755, -0.02298006,  0.04445425, ..., -0.00928714,\n",
              "         -0.00892459, -0.02337693],\n",
              "        [-0.00561165, -0.04215204,  0.04899217, ..., -0.02823051,\n",
              "          0.03362048,  0.02974412],\n",
              "        ...,\n",
              "        [-0.03155226,  0.04727731, -0.01535205, ...,  0.00238422,\n",
              "          0.03769321,  0.02143246],\n",
              "        [-0.01056764, -0.03080753, -0.04830956, ..., -0.02159681,\n",
              "          0.02547295,  0.04991187],\n",
              "        [-0.00074872, -0.03843345,  0.01336229, ..., -0.01739439,\n",
              "          0.01713463,  0.01674726]]], dtype=float32)>"
            ]
          },
          "metadata": {
            "tags": []
          },
          "execution_count": 24
        }
      ]
    },
    {
      "cell_type": "code",
      "metadata": {
        "colab": {
          "base_uri": "https://localhost:8080/"
        },
        "id": "atTvotyfryMA",
        "outputId": "b62391b3-5837-4b2a-817e-5fe9245a6920"
      },
      "source": [
        "# Chekc out a single token's embedding\n",
        "\n",
        "sample_embed[0][0], sample_embed[0][0].shape, random_sentence[0]"
      ],
      "execution_count": 25,
      "outputs": [
        {
          "output_type": "execute_result",
          "data": {
            "text/plain": [
              "(<tf.Tensor: shape=(128,), dtype=float32, numpy=\n",
              " array([ 0.04794755, -0.02298006,  0.04445425,  0.02801175, -0.00493209,\n",
              "         0.00407755,  0.01126187,  0.02828297, -0.02486614, -0.02081866,\n",
              "        -0.00411118, -0.04539023,  0.02249254, -0.01828203, -0.02451078,\n",
              "         0.02437389,  0.04349944, -0.0399128 ,  0.03252829, -0.03368491,\n",
              "        -0.00245105, -0.00680388,  0.00092493, -0.02370194,  0.03032849,\n",
              "         0.03583086,  0.02352022,  0.02005031,  0.03918841,  0.04177998,\n",
              "         0.03083685,  0.04623346,  0.01447998,  0.01569665, -0.04309411,\n",
              "        -0.00715474,  0.04999209, -0.02541818,  0.04126694, -0.03793336,\n",
              "         0.03537754, -0.04974531,  0.04501991,  0.00720901, -0.02937691,\n",
              "        -0.00497725,  0.0348657 ,  0.00640627, -0.00671239,  0.00416658,\n",
              "         0.01998308,  0.02775519,  0.0279098 ,  0.00886961, -0.04020447,\n",
              "         0.01167174,  0.0394491 ,  0.02191233,  0.00025148,  0.00870432,\n",
              "        -0.04516592, -0.03216982, -0.01048793,  0.04765377, -0.01442585,\n",
              "        -0.03501987, -0.01838351,  0.0374285 ,  0.03598138,  0.01950601,\n",
              "        -0.00270414,  0.02358424, -0.03792559,  0.0030735 , -0.02457543,\n",
              "         0.03136994,  0.03469384,  0.0049823 ,  0.0354128 , -0.04928477,\n",
              "        -0.00588154, -0.0095946 ,  0.03041681, -0.04073704, -0.04086586,\n",
              "        -0.01060874,  0.03926923,  0.00802088,  0.01733344,  0.03886482,\n",
              "         0.02083716, -0.02456641,  0.01525381,  0.01747796, -0.01890175,\n",
              "        -0.04329909,  0.04067855, -0.00330968,  0.02742593, -0.03134357,\n",
              "         0.01728752,  0.00933967,  0.03301572,  0.03806571, -0.0283017 ,\n",
              "        -0.02790059,  0.03426151,  0.00203141, -0.02929356, -0.02729231,\n",
              "        -0.04121795,  0.0227829 , -0.00366107,  0.0208586 ,  0.04982797,\n",
              "        -0.00373119, -0.0157982 , -0.03353417, -0.00347353, -0.02165518,\n",
              "        -0.04110337, -0.03209627,  0.00960056,  0.03231663,  0.04220067,\n",
              "        -0.00928714, -0.00892459, -0.02337693], dtype=float32)>,\n",
              " TensorShape([128]),\n",
              " 'h')"
            ]
          },
          "metadata": {
            "tags": []
          },
          "execution_count": 25
        }
      ]
    },
    {
      "cell_type": "markdown",
      "metadata": {
        "id": "JtMpeo5YsY9x"
      },
      "source": [
        "## Modelling a text dataset (running a series of experiments)\n",
        "\n",
        "Now we're got a wat to turn our text srequences into numbers, it's time to start building a series of modelling experiments, start from a baseline and move on from there \n",
        "\n",
        "* Model 0: Naive Bayes (baseline)\n",
        "* Model 1: Feed-forward neual network (dense model)\n",
        "* Model 2: GRU model (RNN)\n",
        "* Model 4: Bidirectional-LSTM\n",
        "* Model 5: 1d Convolutional Neural Network (CNN)\n",
        "* Model 6: Tensorflow Hub Pretrained Geature Extractor (using transfer learning for NLP)\n",
        "* Model 7: Same as model 6 with 10% of training data\n",
        "\n",
        "How are we going to approach all of these?\n",
        "\n",
        "Use the standard steps in modelling with tensorflow:\n",
        "\n",
        "* Create a model\n",
        "* Build a model\n",
        "* Compile a model\n",
        "* Fit the model"
      ]
    },
    {
      "cell_type": "markdown",
      "metadata": {
        "id": "MRqK9DU2zyOB"
      },
      "source": [
        "### Model 0: Getting a baseline\n",
        "\n",
        "As with all machine learning modelling experiments it's important to create a baseline model so u got a benchmark for future experiments to build upon\n",
        "\n",
        "To create our baseline, we'll use SKlearns Multinomial Naive Bayes using the TF-IDF formula to convert our words to numbers\n",
        "\n",
        "> **Note:** It's common practive to use non-DL algorithms as a baseline because of their speed, then later using DL to improve"
      ]
    },
    {
      "cell_type": "code",
      "metadata": {
        "colab": {
          "base_uri": "https://localhost:8080/"
        },
        "id": "FXHA03tu11fw",
        "outputId": "c6b40fad-f40e-444c-beac-8c95ea9b1719"
      },
      "source": [
        "\n",
        "from sklearn.feature_extraction.text import TfidfVectorizer\n",
        "from sklearn.naive_bayes import MultinomialNB\n",
        "from sklearn.pipeline import Pipeline\n",
        "\n",
        "# Create tokenization and modelling pipeline\n",
        "\n",
        "model_0 = Pipeline([\n",
        "                    (\"tfidf\", TfidfVectorizer()),\n",
        "                    (\"clf\", MultinomialNB())\n",
        "])\n",
        "\n",
        "# Fit the pipeline to the training data\n",
        "\n",
        "model_0.fit(train_sentences, train_labels)"
      ],
      "execution_count": 26,
      "outputs": [
        {
          "output_type": "execute_result",
          "data": {
            "text/plain": [
              "Pipeline(memory=None,\n",
              "         steps=[('tfidf',\n",
              "                 TfidfVectorizer(analyzer='word', binary=False,\n",
              "                                 decode_error='strict',\n",
              "                                 dtype=<class 'numpy.float64'>,\n",
              "                                 encoding='utf-8', input='content',\n",
              "                                 lowercase=True, max_df=1.0, max_features=None,\n",
              "                                 min_df=1, ngram_range=(1, 1), norm='l2',\n",
              "                                 preprocessor=None, smooth_idf=True,\n",
              "                                 stop_words=None, strip_accents=None,\n",
              "                                 sublinear_tf=False,\n",
              "                                 token_pattern='(?u)\\\\b\\\\w\\\\w+\\\\b',\n",
              "                                 tokenizer=None, use_idf=True,\n",
              "                                 vocabulary=None)),\n",
              "                ('clf',\n",
              "                 MultinomialNB(alpha=1.0, class_prior=None, fit_prior=True))],\n",
              "         verbose=False)"
            ]
          },
          "metadata": {
            "tags": []
          },
          "execution_count": 26
        }
      ]
    },
    {
      "cell_type": "code",
      "metadata": {
        "colab": {
          "base_uri": "https://localhost:8080/"
        },
        "id": "B0pGO_Cu2nOz",
        "outputId": "e8c62d49-2165-4144-a3e5-024fa8538e0f"
      },
      "source": [
        "# Evaluate our baseline model \n",
        "\n",
        "baseline_score = model_0.score(val_sentences, val_labels)\n",
        "print(f\"Our baseline model achieves an accuracy of: {baseline_score*100:.2f}%\")"
      ],
      "execution_count": 27,
      "outputs": [
        {
          "output_type": "stream",
          "text": [
            "Our baseline model achieves an accuracy of: 79.27%\n"
          ],
          "name": "stdout"
        }
      ]
    },
    {
      "cell_type": "code",
      "metadata": {
        "colab": {
          "base_uri": "https://localhost:8080/"
        },
        "id": "Sgfvxx5KM1Qi",
        "outputId": "1cf7dbe3-575d-4ca3-96a5-f2b303760377"
      },
      "source": [
        "# Make predictions\n",
        "\n",
        "baseline_preds = model_0.predict(val_sentences)\n",
        "baseline_preds[:20]"
      ],
      "execution_count": 28,
      "outputs": [
        {
          "output_type": "execute_result",
          "data": {
            "text/plain": [
              "array([1, 1, 1, 0, 0, 1, 1, 1, 1, 0, 0, 1, 0, 0, 0, 0, 0, 0, 0, 1])"
            ]
          },
          "metadata": {
            "tags": []
          },
          "execution_count": 28
        }
      ]
    },
    {
      "cell_type": "markdown",
      "metadata": {
        "id": "pxtyEbMaM20B"
      },
      "source": [
        "### Creating an evaluation function for our model experiments\n",
        "\n",
        "We could evaluate model's predictin with different methods every time, but this could be cumbersome and could easily be fixed with a function\n",
        "\n",
        "Let's create one to compare our model's predictions with the truth labels using the following metrics:\n",
        "\n",
        "* Accuracy\n",
        "* Precision\n",
        "* Recall\n",
        "* F1-score"
      ]
    },
    {
      "cell_type": "code",
      "metadata": {
        "id": "Do39oLkhOEnq"
      },
      "source": [
        "# Function to evaluate: accuracty, precision, recall, f1-score\n",
        "\n",
        "from sklearn.metrics import accuracy_score, precision_recall_fscore_support\n",
        "\n",
        "def calculate_results(y_true, y_pred):\n",
        "  \"\"\"\n",
        "  Calulates model accuracy, precision, recall and f1 score of a binary classification model.\n",
        "  \"\"\"\n",
        "  #Calculate model accuracy\n",
        "  model_accuracy = accuracy_score(y_true, y_pred) * 100\n",
        "  #Calculate model precision, recall ,and f01 score using \"weighted\" average\n",
        "  model_precision, model_recall, model_f1, _ = precision_recall_fscore_support(y_true, y_pred, average = 'weighted')\n",
        "  model_results = {\"accuracy\": model_accuracy,\n",
        "                   \"precision\": model_precision,\n",
        "                   \"recall\": model_recall,\n",
        "                   \"f1\": model_f1}\n",
        "  return model_results"
      ],
      "execution_count": 29,
      "outputs": []
    },
    {
      "cell_type": "code",
      "metadata": {
        "colab": {
          "base_uri": "https://localhost:8080/"
        },
        "id": "dfl1-F8APlG3",
        "outputId": "8e886adc-eda9-4dbb-d21e-d623ab3a6eeb"
      },
      "source": [
        "baseline_results = calculate_results(y_true = val_labels, y_pred = baseline_preds)\n",
        "\n",
        "baseline_results"
      ],
      "execution_count": 30,
      "outputs": [
        {
          "output_type": "execute_result",
          "data": {
            "text/plain": [
              "{'accuracy': 79.26509186351706,\n",
              " 'f1': 0.7862189758049549,\n",
              " 'precision': 0.8111390004213173,\n",
              " 'recall': 0.7926509186351706}"
            ]
          },
          "metadata": {
            "tags": []
          },
          "execution_count": 30
        }
      ]
    },
    {
      "cell_type": "markdown",
      "metadata": {
        "id": "Fk1ExNgnPsj0"
      },
      "source": [
        "### Model 1: A simple dense model"
      ]
    },
    {
      "cell_type": "code",
      "metadata": {
        "id": "JoWkXelQSLHU"
      },
      "source": [
        "# Create a tensorboard callback (need to create a new one for each model)\n",
        "\n",
        "from helper_functions import create_tensorboard_callback\n",
        "\n",
        "# Create a directory to save TensorBoard logs\n",
        "\n",
        "SAVE_DIR = \"model_logs\""
      ],
      "execution_count": 31,
      "outputs": []
    },
    {
      "cell_type": "code",
      "metadata": {
        "id": "6-XbEZowS21l"
      },
      "source": [
        "from tensorflow.keras import layers\n",
        "\n",
        "inputs = layers.Input(shape = (1,), dtype = tf.string) # inputs are 1-dimensional\n",
        "x = text_vectorizer(inputs) # turn the input text into numbers\n",
        "x = embedding(x) # create an embedding of the numberized imputs\n",
        "x = layers.GlobalAveragePooling1D()(x) # condense the feature vector for each token to one vector\n",
        "#x = layers.GlobalMaxPool1D()(x)\n",
        "outputs = layers.Dense(1, activation = \"sigmoid\")(x) # Create the output layer, want binary output so use sigmoid\n",
        "\n",
        "model_1 = tf.keras.Model(inputs, outputs, name = \"model_1_dense\")"
      ],
      "execution_count": 32,
      "outputs": []
    },
    {
      "cell_type": "code",
      "metadata": {
        "colab": {
          "base_uri": "https://localhost:8080/"
        },
        "id": "3_cQ031LTiWo",
        "outputId": "9a1e93a6-288e-4107-c599-256d76f10be2"
      },
      "source": [
        "model_1.summary()"
      ],
      "execution_count": 33,
      "outputs": [
        {
          "output_type": "stream",
          "text": [
            "Model: \"model_1_dense\"\n",
            "_________________________________________________________________\n",
            "Layer (type)                 Output Shape              Param #   \n",
            "=================================================================\n",
            "input_1 (InputLayer)         [(None, 1)]               0         \n",
            "_________________________________________________________________\n",
            "text_vectorization_1 (TextVe (None, 15)                0         \n",
            "_________________________________________________________________\n",
            "embedding (Embedding)        (None, 15, 128)           1280000   \n",
            "_________________________________________________________________\n",
            "global_average_pooling1d (Gl (None, 128)               0         \n",
            "_________________________________________________________________\n",
            "dense (Dense)                (None, 1)                 129       \n",
            "=================================================================\n",
            "Total params: 1,280,129\n",
            "Trainable params: 1,280,129\n",
            "Non-trainable params: 0\n",
            "_________________________________________________________________\n"
          ],
          "name": "stdout"
        }
      ]
    },
    {
      "cell_type": "code",
      "metadata": {
        "id": "WSg-pNTrTnQI"
      },
      "source": [
        "# Compile mode\n",
        "\n",
        "model_1.compile(loss = \"binary_crossentropy\", optimizer = tf.keras.optimizers.Adam(), metrics = [\"accuracy\"])"
      ],
      "execution_count": 34,
      "outputs": []
    },
    {
      "cell_type": "code",
      "metadata": {
        "colab": {
          "base_uri": "https://localhost:8080/"
        },
        "id": "VuxtV74lUB3P",
        "outputId": "5a0e0fc6-b91c-4810-b0e0-9aa2f4ab4ff2"
      },
      "source": [
        "# Fit the mode\n",
        "model_1_history = model_1.fit(x = train_sentences, y = train_labels, epochs = 15, validation_data = (val_sentences, val_labels),\n",
        "                              callbacks = [create_tensorboard_callback(dir_name = SAVE_DIR, experiment_name = \"model_1_dense\")])"
      ],
      "execution_count": 35,
      "outputs": [
        {
          "output_type": "stream",
          "text": [
            "Saving TensorBoard log files to: model_logs/model_1_dense/20210525-120832\n",
            "Epoch 1/15\n",
            "215/215 [==============================] - 7s 17ms/step - loss: 0.6536 - accuracy: 0.6428 - val_loss: 0.5379 - val_accuracy: 0.7467\n",
            "Epoch 2/15\n",
            "215/215 [==============================] - 3s 14ms/step - loss: 0.4674 - accuracy: 0.8100 - val_loss: 0.4722 - val_accuracy: 0.7848\n",
            "Epoch 3/15\n",
            "215/215 [==============================] - 3s 14ms/step - loss: 0.3531 - accuracy: 0.8633 - val_loss: 0.4574 - val_accuracy: 0.7900\n",
            "Epoch 4/15\n",
            "215/215 [==============================] - 3s 14ms/step - loss: 0.2857 - accuracy: 0.8937 - val_loss: 0.4647 - val_accuracy: 0.7848\n",
            "Epoch 5/15\n",
            "215/215 [==============================] - 3s 13ms/step - loss: 0.2353 - accuracy: 0.9182 - val_loss: 0.4896 - val_accuracy: 0.7900\n",
            "Epoch 6/15\n",
            "215/215 [==============================] - 3s 14ms/step - loss: 0.2007 - accuracy: 0.9305 - val_loss: 0.5008 - val_accuracy: 0.7861\n",
            "Epoch 7/15\n",
            "215/215 [==============================] - 3s 13ms/step - loss: 0.1723 - accuracy: 0.9434 - val_loss: 0.5230 - val_accuracy: 0.7848\n",
            "Epoch 8/15\n",
            "215/215 [==============================] - 3s 13ms/step - loss: 0.1464 - accuracy: 0.9507 - val_loss: 0.5550 - val_accuracy: 0.7808\n",
            "Epoch 9/15\n",
            "215/215 [==============================] - 3s 13ms/step - loss: 0.1247 - accuracy: 0.9609 - val_loss: 0.5818 - val_accuracy: 0.7795\n",
            "Epoch 10/15\n",
            "215/215 [==============================] - 3s 13ms/step - loss: 0.1064 - accuracy: 0.9671 - val_loss: 0.6105 - val_accuracy: 0.7756\n",
            "Epoch 11/15\n",
            "215/215 [==============================] - 3s 13ms/step - loss: 0.1011 - accuracy: 0.9651 - val_loss: 0.6394 - val_accuracy: 0.7730\n",
            "Epoch 12/15\n",
            "215/215 [==============================] - 3s 14ms/step - loss: 0.0891 - accuracy: 0.9709 - val_loss: 0.6773 - val_accuracy: 0.7703\n",
            "Epoch 13/15\n",
            "215/215 [==============================] - 3s 13ms/step - loss: 0.0777 - accuracy: 0.9761 - val_loss: 0.7092 - val_accuracy: 0.7769\n",
            "Epoch 14/15\n",
            "215/215 [==============================] - 3s 14ms/step - loss: 0.0814 - accuracy: 0.9702 - val_loss: 0.7444 - val_accuracy: 0.7756\n",
            "Epoch 15/15\n",
            "215/215 [==============================] - 3s 14ms/step - loss: 0.0731 - accuracy: 0.9753 - val_loss: 0.7792 - val_accuracy: 0.7651\n"
          ],
          "name": "stdout"
        }
      ]
    },
    {
      "cell_type": "code",
      "metadata": {
        "colab": {
          "base_uri": "https://localhost:8080/"
        },
        "id": "-rnWsIXiUqJH",
        "outputId": "461ec442-4ba5-4927-8e61-8d6f563d6f56"
      },
      "source": [
        "# Check the results\n",
        "\n",
        "model_1.evaluate(val_sentences, val_labels)"
      ],
      "execution_count": 36,
      "outputs": [
        {
          "output_type": "stream",
          "text": [
            "24/24 [==============================] - 0s 3ms/step - loss: 0.7792 - accuracy: 0.7651\n"
          ],
          "name": "stdout"
        },
        {
          "output_type": "execute_result",
          "data": {
            "text/plain": [
              "[0.7791840434074402, 0.7650918364524841]"
            ]
          },
          "metadata": {
            "tags": []
          },
          "execution_count": 36
        }
      ]
    },
    {
      "cell_type": "code",
      "metadata": {
        "colab": {
          "base_uri": "https://localhost:8080/"
        },
        "id": "nA2JFJFKVJKr",
        "outputId": "c6fdff96-9fbd-49a5-c93a-07455f21d280"
      },
      "source": [
        "model_1_pred_probs = model_1.predict(val_sentences)\n",
        "model_1_pred_probs.shape"
      ],
      "execution_count": 37,
      "outputs": [
        {
          "output_type": "execute_result",
          "data": {
            "text/plain": [
              "(762, 1)"
            ]
          },
          "metadata": {
            "tags": []
          },
          "execution_count": 37
        }
      ]
    },
    {
      "cell_type": "code",
      "metadata": {
        "colab": {
          "base_uri": "https://localhost:8080/"
        },
        "id": "qSifuWJpVSX-",
        "outputId": "26502d09-5f1a-47c0-b743-6b7e1747c845"
      },
      "source": [
        "# look at a single prediction\n",
        "\n",
        "model_1_pred_probs[0] # anything below 0.5 = disaster, abouve = non-=disaster"
      ],
      "execution_count": 38,
      "outputs": [
        {
          "output_type": "execute_result",
          "data": {
            "text/plain": [
              "array([0.44785783], dtype=float32)"
            ]
          },
          "metadata": {
            "tags": []
          },
          "execution_count": 38
        }
      ]
    },
    {
      "cell_type": "code",
      "metadata": {
        "colab": {
          "base_uri": "https://localhost:8080/"
        },
        "id": "Q2rmcAjIVlOJ",
        "outputId": "0edace1a-bc93-4cca-8bd6-58d5888a7ccf"
      },
      "source": [
        "# look at the first 10 predictions\n",
        "\n",
        "model_1_pred_probs[:10]"
      ],
      "execution_count": 39,
      "outputs": [
        {
          "output_type": "execute_result",
          "data": {
            "text/plain": [
              "array([[4.4785783e-01],\n",
              "       [7.8374606e-01],\n",
              "       [9.9911612e-01],\n",
              "       [7.6116130e-02],\n",
              "       [9.7508985e-04],\n",
              "       [9.9079883e-01],\n",
              "       [8.0728340e-01],\n",
              "       [9.9997318e-01],\n",
              "       [9.9995100e-01],\n",
              "       [7.7985579e-01]], dtype=float32)"
            ]
          },
          "metadata": {
            "tags": []
          },
          "execution_count": 39
        }
      ]
    },
    {
      "cell_type": "code",
      "metadata": {
        "colab": {
          "base_uri": "https://localhost:8080/"
        },
        "id": "dwrMHbtGXwsm",
        "outputId": "9fd7a0bb-62fc-4275-af7d-7a9bbdcaaf38"
      },
      "source": [
        "# Convert model prediction probablilities to label format\n",
        "\n",
        "model_1_preds = tf.squeeze(tf.round(model_1_pred_probs))\n",
        "\n",
        "model_1_preds[:20]"
      ],
      "execution_count": 40,
      "outputs": [
        {
          "output_type": "execute_result",
          "data": {
            "text/plain": [
              "<tf.Tensor: shape=(20,), dtype=float32, numpy=\n",
              "array([0., 1., 1., 0., 0., 1., 1., 1., 1., 1., 0., 1., 0., 0., 0., 0., 0.,\n",
              "       0., 0., 1.], dtype=float32)>"
            ]
          },
          "metadata": {
            "tags": []
          },
          "execution_count": 40
        }
      ]
    },
    {
      "cell_type": "code",
      "metadata": {
        "colab": {
          "base_uri": "https://localhost:8080/"
        },
        "id": "-X-TB_QbXz17",
        "outputId": "03d40925-cdce-4a79-c5e3-d535b392c3ef"
      },
      "source": [
        "# calculate our model_1 results\n",
        "\n",
        "model_1_results = calculate_results(y_true = val_labels, y_pred = model_1_preds)\n",
        "\n",
        "model_1_results"
      ],
      "execution_count": 41,
      "outputs": [
        {
          "output_type": "execute_result",
          "data": {
            "text/plain": [
              "{'accuracy': 76.50918635170603,\n",
              " 'f1': 0.7631560582067719,\n",
              " 'precision': 0.7662169502191715,\n",
              " 'recall': 0.7650918635170604}"
            ]
          },
          "metadata": {
            "tags": []
          },
          "execution_count": 41
        }
      ]
    },
    {
      "cell_type": "code",
      "metadata": {
        "colab": {
          "base_uri": "https://localhost:8080/"
        },
        "id": "z2nYRPQaYP1Y",
        "outputId": "365a5296-d2b4-455f-aeed-71cc8c663f96"
      },
      "source": [
        "baseline_results"
      ],
      "execution_count": 42,
      "outputs": [
        {
          "output_type": "execute_result",
          "data": {
            "text/plain": [
              "{'accuracy': 79.26509186351706,\n",
              " 'f1': 0.7862189758049549,\n",
              " 'precision': 0.8111390004213173,\n",
              " 'recall': 0.7926509186351706}"
            ]
          },
          "metadata": {
            "tags": []
          },
          "execution_count": 42
        }
      ]
    },
    {
      "cell_type": "code",
      "metadata": {
        "colab": {
          "base_uri": "https://localhost:8080/"
        },
        "id": "hiA058ZOYZM8",
        "outputId": "aff89746-9898-4232-e6ba-14c7ca00700c"
      },
      "source": [
        "import numpy as np\n",
        "\n",
        "np.array(list(model_1_results.values())) > np.array(list(baseline_results.values()))"
      ],
      "execution_count": 43,
      "outputs": [
        {
          "output_type": "execute_result",
          "data": {
            "text/plain": [
              "array([False, False, False, False])"
            ]
          },
          "metadata": {
            "tags": []
          },
          "execution_count": 43
        }
      ]
    },
    {
      "cell_type": "markdown",
      "metadata": {
        "id": "BjAm6su5Yg7P"
      },
      "source": [
        "# Visualizing learned embeddings\n"
      ]
    },
    {
      "cell_type": "code",
      "metadata": {
        "colab": {
          "base_uri": "https://localhost:8080/"
        },
        "id": "5lJJQMSjcoyn",
        "outputId": "506d40b7-3091-4fbf-9391-fddd835815b9"
      },
      "source": [
        "# get the vocab from the text vecotrization layer\n",
        "\n",
        "words_in_vocab = text_vectorizer.get_vocabulary()\n",
        "len(words_in_vocab), words_in_vocab[:10]"
      ],
      "execution_count": 44,
      "outputs": [
        {
          "output_type": "execute_result",
          "data": {
            "text/plain": [
              "(10000, ['', '[UNK]', 'the', 'a', 'in', 'to', 'of', 'and', 'i', 'is'])"
            ]
          },
          "metadata": {
            "tags": []
          },
          "execution_count": 44
        }
      ]
    },
    {
      "cell_type": "code",
      "metadata": {
        "colab": {
          "base_uri": "https://localhost:8080/"
        },
        "id": "0zPleCXFc0tT",
        "outputId": "99fa9872-39b7-4832-ed42-b4a10f0a10cb"
      },
      "source": [
        "# Model 1 summary\n",
        "\n",
        "model_1.summary()"
      ],
      "execution_count": 45,
      "outputs": [
        {
          "output_type": "stream",
          "text": [
            "Model: \"model_1_dense\"\n",
            "_________________________________________________________________\n",
            "Layer (type)                 Output Shape              Param #   \n",
            "=================================================================\n",
            "input_1 (InputLayer)         [(None, 1)]               0         \n",
            "_________________________________________________________________\n",
            "text_vectorization_1 (TextVe (None, 15)                0         \n",
            "_________________________________________________________________\n",
            "embedding (Embedding)        (None, 15, 128)           1280000   \n",
            "_________________________________________________________________\n",
            "global_average_pooling1d (Gl (None, 128)               0         \n",
            "_________________________________________________________________\n",
            "dense (Dense)                (None, 1)                 129       \n",
            "=================================================================\n",
            "Total params: 1,280,129\n",
            "Trainable params: 1,280,129\n",
            "Non-trainable params: 0\n",
            "_________________________________________________________________\n"
          ],
          "name": "stdout"
        }
      ]
    },
    {
      "cell_type": "code",
      "metadata": {
        "colab": {
          "base_uri": "https://localhost:8080/"
        },
        "id": "nXdj67FGc7uI",
        "outputId": "bd3576fb-88f6-49b2-cf10-9e082c7c0ace"
      },
      "source": [
        "# Get the wieght matrix of embedding layer\n",
        "# (these are the numerical representations of each token in our training data, which have been learned for 5 epocks)\n",
        "\n",
        "embed_weights = model_1.get_layer(\"embedding\").get_weights()[0]\n",
        "\n",
        "print(embed_weights.shape) # same size as vocab size and embedding dim (output dim of our embedding layer)"
      ],
      "execution_count": 46,
      "outputs": [
        {
          "output_type": "stream",
          "text": [
            "(10000, 128)\n"
          ],
          "name": "stdout"
        }
      ]
    },
    {
      "cell_type": "code",
      "metadata": {
        "colab": {
          "base_uri": "https://localhost:8080/"
        },
        "id": "3Qa_btGodOS2",
        "outputId": "6a2c19a9-79a9-4a4a-9386-fb6ce551d3bf"
      },
      "source": [
        "embed_weights"
      ],
      "execution_count": 47,
      "outputs": [
        {
          "output_type": "execute_result",
          "data": {
            "text/plain": [
              "array([[-0.01189457, -0.01891246,  0.03929455, ...,  0.05080683,\n",
              "         0.03037194, -0.05786855],\n",
              "       [ 0.04574169, -0.02340131,  0.04712784, ...,  0.00109824,\n",
              "        -0.00742561, -0.02538231],\n",
              "       [-0.03239385, -0.0265824 ,  0.00665424, ..., -0.01931636,\n",
              "         0.03494745, -0.03948031],\n",
              "       ...,\n",
              "       [-0.01301078, -0.00147412,  0.03460909, ..., -0.04500416,\n",
              "         0.0495754 ,  0.02904774],\n",
              "       [-0.03954068,  0.06667311,  0.04466788, ..., -0.01348996,\n",
              "         0.02025632, -0.0658415 ],\n",
              "       [-0.20582347,  0.17602491,  0.16854239, ..., -0.11759412,\n",
              "         0.15512615, -0.19650836]], dtype=float32)"
            ]
          },
          "metadata": {
            "tags": []
          },
          "execution_count": 47
        }
      ]
    },
    {
      "cell_type": "code",
      "metadata": {
        "id": "_zn-KB6CeENH"
      },
      "source": [
        "# Create embedding files\n",
        "\n",
        "import io\n",
        "\n",
        "out_v = io.open('vectors.tsv', 'w', encoding='utf-8')\n",
        "out_m = io.open('metadata.tsv', 'w', encoding='utf-8')\n",
        "\n",
        "#for index, word in enumerate(words_in_vocab):\n",
        "  #if index == 0:\n",
        "   # continue  # skip 0, it's padding.\n",
        "  #vec = embed_weights[index]\n",
        "  #out_v.write('\\t'.join([str(x) for x in vec]) + \"\\n\")\n",
        "  #out_m.write(word + \"\\n\")\n",
        "#out_v.close()\n",
        "#out_m.close()"
      ],
      "execution_count": 48,
      "outputs": []
    },
    {
      "cell_type": "code",
      "metadata": {
        "id": "GlVDL_N6gJh0"
      },
      "source": [
        "# Download files from Colab to upload to projector\n",
        "\n",
        "#try:\n",
        "  #from google.colab import files\n",
        "  #files.download('vectors.tsv')\n",
        "  #files.download('metadata.tsv')\n",
        "#except Exception:\n",
        "  #pass"
      ],
      "execution_count": 49,
      "outputs": []
    },
    {
      "cell_type": "markdown",
      "metadata": {
        "id": "WQ_UVZS3h49-"
      },
      "source": [
        "## Recurrent Neural Networks (RNN's)\n",
        "\n",
        "RNN's are usefull for sequence data.\n",
        "\n",
        "The premise of a recurrent neural network is to use the representation of a previous input to aid the respresentation of a later input."
      ]
    },
    {
      "cell_type": "markdown",
      "metadata": {
        "id": "OG51RgqrkL_i"
      },
      "source": [
        "### Model 2: LSTM\n",
        "\n",
        "LSTM = ling short term memory (one of the most popular LSTM cells)\n",
        "\n",
        "Our structure of an RNN typically looks like this:\n",
        "\n",
        "'''\n",
        "Input (text) -> Tokenize -> EMbedding -> Layers (RNN's/dense) -> Output (label probability)\n",
        "'''"
      ]
    },
    {
      "cell_type": "code",
      "metadata": {
        "colab": {
          "base_uri": "https://localhost:8080/"
        },
        "id": "cETGrbncmi3S",
        "outputId": "02e04ee2-c302-4e8a-aae8-8ecab61d4246"
      },
      "source": [
        "# Create an LSTM model\n",
        "\n",
        "from tensorflow.keras import layers\n",
        "\n",
        "inputs = layers.Input(shape = (1,), dtype = \"string\")\n",
        "x = text_vectorizer(inputs)\n",
        "x = embedding(x)\n",
        "print(x.shape)\n",
        "#x = layers.LSTM(64, return_sequences = True)(x)\n",
        "print(x.shape)\n",
        "x = layers.LSTM(64)(x) # when you're stacking RNN cells together, you need to return_sequences = true\n",
        "print(x.shape)\n",
        "#x = layers.Dense(64, activation = 'relu')(x)\n",
        "outputs = layers.Dense(1, activation = \"sigmoid\")(x)\n",
        "\n",
        "model_2 = tf.keras.Model(inputs, outputs, name = \"model_2_LSTM\")"
      ],
      "execution_count": 50,
      "outputs": [
        {
          "output_type": "stream",
          "text": [
            "(None, 15, 128)\n",
            "(None, 15, 128)\n",
            "(None, 64)\n"
          ],
          "name": "stdout"
        }
      ]
    },
    {
      "cell_type": "code",
      "metadata": {
        "id": "79605SQcnqeV"
      },
      "source": [
        "# Compile the model\n",
        "\n",
        "model_2.compile(loss = \"binary_crossentropy\", optimizer = tf.keras.optimizers.Adam(), metrics = [\"accuracy\"])"
      ],
      "execution_count": 51,
      "outputs": []
    },
    {
      "cell_type": "code",
      "metadata": {
        "colab": {
          "base_uri": "https://localhost:8080/"
        },
        "id": "yHXEu-0cp8zz",
        "outputId": "1ec2d3b4-5e15-4b5d-8c10-ba813ed62923"
      },
      "source": [
        "model_2_history = model_2.fit(train_sentences, train_labels, epochs = 5, \n",
        "                              validation_data = (val_sentences, val_labels), callbacks = [create_tensorboard_callback(SAVE_DIR, \"model_2_LSTM\")])"
      ],
      "execution_count": 52,
      "outputs": [
        {
          "output_type": "stream",
          "text": [
            "Saving TensorBoard log files to: model_logs/model_2_LSTM/20210525-120921\n",
            "Epoch 1/5\n",
            "215/215 [==============================] - 35s 22ms/step - loss: 0.2173 - accuracy: 0.9437 - val_loss: 0.8015 - val_accuracy: 0.7703\n",
            "Epoch 2/5\n",
            "215/215 [==============================] - 3s 16ms/step - loss: 0.0635 - accuracy: 0.9756 - val_loss: 0.8499 - val_accuracy: 0.7743\n",
            "Epoch 3/5\n",
            "215/215 [==============================] - 3s 16ms/step - loss: 0.0626 - accuracy: 0.9756 - val_loss: 1.0573 - val_accuracy: 0.7703\n",
            "Epoch 4/5\n",
            "215/215 [==============================] - 3s 16ms/step - loss: 0.0513 - accuracy: 0.9801 - val_loss: 1.0261 - val_accuracy: 0.7664\n",
            "Epoch 5/5\n",
            "215/215 [==============================] - 3s 15ms/step - loss: 0.0535 - accuracy: 0.9779 - val_loss: 1.0947 - val_accuracy: 0.7664\n"
          ],
          "name": "stdout"
        }
      ]
    },
    {
      "cell_type": "code",
      "metadata": {
        "colab": {
          "base_uri": "https://localhost:8080/"
        },
        "id": "onlOd71jqSUk",
        "outputId": "64e13f16-290d-4ee8-a0ba-7815dce95e8c"
      },
      "source": [
        "# Make predictions with LSTM model\n",
        "\n",
        "model_2_pred_probs = model_2.predict(val_sentences)\n",
        "model_2_pred_probs[:10]\n"
      ],
      "execution_count": 53,
      "outputs": [
        {
          "output_type": "execute_result",
          "data": {
            "text/plain": [
              "array([[2.9836652e-01],\n",
              "       [7.9648858e-01],\n",
              "       [9.9910551e-01],\n",
              "       [9.3565740e-02],\n",
              "       [2.5937156e-04],\n",
              "       [9.9916911e-01],\n",
              "       [3.0771828e-01],\n",
              "       [9.9994540e-01],\n",
              "       [9.9994099e-01],\n",
              "       [9.9499619e-01]], dtype=float32)"
            ]
          },
          "metadata": {
            "tags": []
          },
          "execution_count": 53
        }
      ]
    },
    {
      "cell_type": "code",
      "metadata": {
        "colab": {
          "base_uri": "https://localhost:8080/"
        },
        "id": "ZN3iCEO1qgCv",
        "outputId": "76778b2c-e359-42a9-ca25-a59ac25c3857"
      },
      "source": [
        "# Convert model 2 pred probs to labels\n",
        "\n",
        "model_2_preds = tf.squeeze(tf.round(model_2_pred_probs))\n",
        "model_2_preds[:10]"
      ],
      "execution_count": 54,
      "outputs": [
        {
          "output_type": "execute_result",
          "data": {
            "text/plain": [
              "<tf.Tensor: shape=(10,), dtype=float32, numpy=array([0., 1., 1., 0., 0., 1., 0., 1., 1., 1.], dtype=float32)>"
            ]
          },
          "metadata": {
            "tags": []
          },
          "execution_count": 54
        }
      ]
    },
    {
      "cell_type": "code",
      "metadata": {
        "colab": {
          "base_uri": "https://localhost:8080/"
        },
        "id": "iObNULydqupq",
        "outputId": "0ec942f0-d5b5-42d9-e88d-83acc8e4d793"
      },
      "source": [
        "model_2_results = calculate_results(y_true = val_labels, y_pred = model_2_preds)\n",
        "model_2_results"
      ],
      "execution_count": 55,
      "outputs": [
        {
          "output_type": "execute_result",
          "data": {
            "text/plain": [
              "{'accuracy': 76.64041994750657,\n",
              " 'f1': 0.7651213533864446,\n",
              " 'precision': 0.7665895370389821,\n",
              " 'recall': 0.7664041994750657}"
            ]
          },
          "metadata": {
            "tags": []
          },
          "execution_count": 55
        }
      ]
    },
    {
      "cell_type": "markdown",
      "metadata": {
        "id": "DD12TyWtq4aN"
      },
      "source": [
        "### Model 3: GRU\n",
        "\n",
        "Another poppular and effective RNN component is the GRU or gated recurrent unit.\n",
        "\n",
        "The GRU cell has similar features to an LSTM cell but has less parameters."
      ]
    },
    {
      "cell_type": "code",
      "metadata": {
        "id": "YJ8-3EqZZw1r"
      },
      "source": [
        "# Build an RNN using the GRU cell\n",
        "from tensorflow.keras import layers\n",
        "inputs = layers.Input(shape = (1,), dtype = tf.string)\n",
        "x = text_vectorizer(inputs)\n",
        "x = embedding(x)\n",
        "x = layers.GRU(64)(x)\n",
        "#x = layers.LSTM(64, return_sequences = True)(x)\n",
        "#print(x.shape)\n",
        "#x = layers.GRU(64)(x) # make sure return seuqences DOES NO equal true OR add a global average pooling layer instead\n",
        "#x = layers.Dense(64, activation = \"relu\")(x)\n",
        "outputs = layers.Dense(1, activation = \"sigmoid\")(x)\n",
        "\n",
        "\n",
        "model_3 = tf.keras.Model(inputs, outputs)"
      ],
      "execution_count": 56,
      "outputs": []
    },
    {
      "cell_type": "code",
      "metadata": {
        "colab": {
          "base_uri": "https://localhost:8080/"
        },
        "id": "d_sAuSwJayw0",
        "outputId": "f32c005f-a329-4a42-f038-e985cf1f902f"
      },
      "source": [
        " model_3.summary(\n",
        "     \n",
        " )"
      ],
      "execution_count": 57,
      "outputs": [
        {
          "output_type": "stream",
          "text": [
            "Model: \"model\"\n",
            "_________________________________________________________________\n",
            "Layer (type)                 Output Shape              Param #   \n",
            "=================================================================\n",
            "input_3 (InputLayer)         [(None, 1)]               0         \n",
            "_________________________________________________________________\n",
            "text_vectorization_1 (TextVe (None, 15)                0         \n",
            "_________________________________________________________________\n",
            "embedding (Embedding)        (None, 15, 128)           1280000   \n",
            "_________________________________________________________________\n",
            "gru (GRU)                    (None, 64)                37248     \n",
            "_________________________________________________________________\n",
            "dense_2 (Dense)              (None, 1)                 65        \n",
            "=================================================================\n",
            "Total params: 1,317,313\n",
            "Trainable params: 1,317,313\n",
            "Non-trainable params: 0\n",
            "_________________________________________________________________\n"
          ],
          "name": "stdout"
        }
      ]
    },
    {
      "cell_type": "code",
      "metadata": {
        "id": "jzKsHw9cdXIw"
      },
      "source": [
        "# COmpile the model\n",
        "\n",
        "model_3.compile(loss = \"binary_crossentropy\", optimizer= tf.keras.optimizers.Adam(), metrics = [\"accuracy\"])\n"
      ],
      "execution_count": 58,
      "outputs": []
    },
    {
      "cell_type": "code",
      "metadata": {
        "colab": {
          "base_uri": "https://localhost:8080/"
        },
        "id": "RSCbPYG6eN5s",
        "outputId": "93fbd5c9-115b-405a-c63a-6a596d36935c"
      },
      "source": [
        "# Fit\n",
        "\n",
        "model_3_history = model_3.fit(train_sentences,\n",
        "                              train_labels, epochs = 10,\n",
        "                              validation_data = (val_sentences, val_labels),\n",
        "                              callbacks = [create_tensorboard_callback(SAVE_DIR, \"model_3_GRU\")])"
      ],
      "execution_count": 59,
      "outputs": [
        {
          "output_type": "stream",
          "text": [
            "Saving TensorBoard log files to: model_logs/model_3_GRU/20210525-121010\n",
            "Epoch 1/10\n",
            "215/215 [==============================] - 6s 20ms/step - loss: 0.2419 - accuracy: 0.8875 - val_loss: 0.9382 - val_accuracy: 0.7651\n",
            "Epoch 2/10\n",
            "215/215 [==============================] - 3s 15ms/step - loss: 0.0535 - accuracy: 0.9795 - val_loss: 0.8936 - val_accuracy: 0.7638\n",
            "Epoch 3/10\n",
            "215/215 [==============================] - 3s 16ms/step - loss: 0.0485 - accuracy: 0.9784 - val_loss: 0.9261 - val_accuracy: 0.7585\n",
            "Epoch 4/10\n",
            "215/215 [==============================] - 3s 16ms/step - loss: 0.0490 - accuracy: 0.9812 - val_loss: 1.0747 - val_accuracy: 0.7559\n",
            "Epoch 5/10\n",
            "215/215 [==============================] - 3s 15ms/step - loss: 0.0497 - accuracy: 0.9779 - val_loss: 1.2367 - val_accuracy: 0.7664\n",
            "Epoch 6/10\n",
            "215/215 [==============================] - 3s 15ms/step - loss: 0.0430 - accuracy: 0.9806 - val_loss: 1.1372 - val_accuracy: 0.7677\n",
            "Epoch 7/10\n",
            "215/215 [==============================] - 3s 15ms/step - loss: 0.0396 - accuracy: 0.9795 - val_loss: 1.3887 - val_accuracy: 0.7585\n",
            "Epoch 8/10\n",
            "215/215 [==============================] - 3s 15ms/step - loss: 0.0362 - accuracy: 0.9809 - val_loss: 1.4442 - val_accuracy: 0.7664\n",
            "Epoch 9/10\n",
            "215/215 [==============================] - 3s 15ms/step - loss: 0.0369 - accuracy: 0.9833 - val_loss: 1.4103 - val_accuracy: 0.7625\n",
            "Epoch 10/10\n",
            "215/215 [==============================] - 3s 16ms/step - loss: 0.0317 - accuracy: 0.9860 - val_loss: 1.3924 - val_accuracy: 0.7638\n"
          ],
          "name": "stdout"
        }
      ]
    },
    {
      "cell_type": "code",
      "metadata": {
        "colab": {
          "base_uri": "https://localhost:8080/"
        },
        "id": "qSkjpFQteet3",
        "outputId": "bfb29460-d7c0-4ca9-cc42-4fcf21cd7904"
      },
      "source": [
        "# Make some predictions with GRu model\n",
        "\n",
        "model_3_pred_probs = model_3.predict(val_sentences)\n",
        "model_3_pred_probs[:10]"
      ],
      "execution_count": 60,
      "outputs": [
        {
          "output_type": "execute_result",
          "data": {
            "text/plain": [
              "array([[1.8600187e-01],\n",
              "       [7.7952856e-01],\n",
              "       [9.9996197e-01],\n",
              "       [1.2717395e-01],\n",
              "       [2.7786633e-05],\n",
              "       [9.9987769e-01],\n",
              "       [9.8702580e-01],\n",
              "       [9.9998510e-01],\n",
              "       [9.9997711e-01],\n",
              "       [9.9413222e-01]], dtype=float32)"
            ]
          },
          "metadata": {
            "tags": []
          },
          "execution_count": 60
        }
      ]
    },
    {
      "cell_type": "code",
      "metadata": {
        "colab": {
          "base_uri": "https://localhost:8080/"
        },
        "id": "ghJcJReUe5tO",
        "outputId": "11b27b9d-49e6-4773-887a-5afda15bb546"
      },
      "source": [
        "model_3_preds = tf.squeeze(tf.round(model_3_pred_probs))\n",
        "model_3_preds[:10]"
      ],
      "execution_count": 61,
      "outputs": [
        {
          "output_type": "execute_result",
          "data": {
            "text/plain": [
              "<tf.Tensor: shape=(10,), dtype=float32, numpy=array([0., 1., 1., 0., 0., 1., 1., 1., 1., 1.], dtype=float32)>"
            ]
          },
          "metadata": {
            "tags": []
          },
          "execution_count": 61
        }
      ]
    },
    {
      "cell_type": "code",
      "metadata": {
        "colab": {
          "base_uri": "https://localhost:8080/"
        },
        "id": "4v5s_uv1fGQP",
        "outputId": "85fb8141-44ba-4b01-c43e-9a18a3efc7bf"
      },
      "source": [
        "# Calculate model 3 results\n",
        "\n",
        "model_3_results = calculate_results(y_true = val_labels, y_pred = model_3_preds)\n",
        "model_3_results"
      ],
      "execution_count": 62,
      "outputs": [
        {
          "output_type": "execute_result",
          "data": {
            "text/plain": [
              "{'accuracy': 76.37795275590551,\n",
              " 'f1': 0.7629812681164898,\n",
              " 'precision': 0.7634711836373635,\n",
              " 'recall': 0.7637795275590551}"
            ]
          },
          "metadata": {
            "tags": []
          },
          "execution_count": 62
        }
      ]
    },
    {
      "cell_type": "markdown",
      "metadata": {
        "id": "n1D746dtfSMl"
      },
      "source": [
        "### Model 4: Bidirectional RNN\n",
        "\n",
        "ormal RNN's go from left to right (just like you'd read an English sentence) however, a bidiractional RNN goes from right to left as well as left to right."
      ]
    },
    {
      "cell_type": "code",
      "metadata": {
        "colab": {
          "base_uri": "https://localhost:8080/"
        },
        "id": "CDlCN7e9Ngvm",
        "outputId": "2bcb1442-1e3e-42eb-ce75-01d3fe9fbd69"
      },
      "source": [
        "# Build a dirirectional RNN in Tensorflow\n",
        "\n",
        "from tensorflow.keras import layers\n",
        "\n",
        "inputs = layers.Input(shape = (1,), dtype = \"string\")\n",
        "x = text_vectorizer(inputs)\n",
        "x = embedding(x)\n",
        "#x = layers.Bidirectional(layers.LSTM(64, return_sequences = True))(x)\n",
        "#print(x.shape)\n",
        "x = layers.Bidirectional(layers.GRU(64))(x)\n",
        "print(x.shape)\n",
        "outputs = layers.Dense(1, activation = 'sigmoid')(x)\n",
        "model_4 = tf.keras.Model(inputs, outputs, name = \"model_4_bidirectional\")"
      ],
      "execution_count": 63,
      "outputs": [
        {
          "output_type": "stream",
          "text": [
            "(None, 128)\n"
          ],
          "name": "stdout"
        }
      ]
    },
    {
      "cell_type": "code",
      "metadata": {
        "colab": {
          "base_uri": "https://localhost:8080/"
        },
        "id": "9tTuzN-iP9zZ",
        "outputId": "0eb333d8-ec5c-486a-e50a-c6a917690cbf"
      },
      "source": [
        "# Get a summary\n",
        "\n",
        "model_4.summary()"
      ],
      "execution_count": 64,
      "outputs": [
        {
          "output_type": "stream",
          "text": [
            "Model: \"model_4_bidirectional\"\n",
            "_________________________________________________________________\n",
            "Layer (type)                 Output Shape              Param #   \n",
            "=================================================================\n",
            "input_4 (InputLayer)         [(None, 1)]               0         \n",
            "_________________________________________________________________\n",
            "text_vectorization_1 (TextVe (None, 15)                0         \n",
            "_________________________________________________________________\n",
            "embedding (Embedding)        (None, 15, 128)           1280000   \n",
            "_________________________________________________________________\n",
            "bidirectional (Bidirectional (None, 128)               74496     \n",
            "_________________________________________________________________\n",
            "dense_3 (Dense)              (None, 1)                 129       \n",
            "=================================================================\n",
            "Total params: 1,354,625\n",
            "Trainable params: 1,354,625\n",
            "Non-trainable params: 0\n",
            "_________________________________________________________________\n"
          ],
          "name": "stdout"
        }
      ]
    },
    {
      "cell_type": "code",
      "metadata": {
        "id": "bYniEnRpQW0i"
      },
      "source": [
        "# Compile model\n",
        "\n",
        "model_4.compile(loss = \"binary_crossentropy\", optimizer = tf.keras.optimizers.Adam(), metrics = ['accuracy'])"
      ],
      "execution_count": 65,
      "outputs": []
    },
    {
      "cell_type": "code",
      "metadata": {
        "colab": {
          "base_uri": "https://localhost:8080/"
        },
        "id": "COZ8O0IjRGUS",
        "outputId": "af0b42d6-b9b8-4391-cab9-e28e87c302b3"
      },
      "source": [
        "model_4_history = model_4.fit(train_sentences, train_labels, epochs = 5, validation_data = (val_sentences, val_labels), callbacks = [create_tensorboard_callback(SAVE_DIR,\n",
        "                                                                                                                                                                 \"model_4_bidirectional\")])"
      ],
      "execution_count": 66,
      "outputs": [
        {
          "output_type": "stream",
          "text": [
            "Saving TensorBoard log files to: model_logs/model_4_bidirectional/20210525-121048\n",
            "Epoch 1/5\n",
            "215/215 [==============================] - 7s 23ms/step - loss: 0.1753 - accuracy: 0.9500 - val_loss: 1.0292 - val_accuracy: 0.7651\n",
            "Epoch 2/5\n",
            "215/215 [==============================] - 4s 16ms/step - loss: 0.0407 - accuracy: 0.9835 - val_loss: 1.0997 - val_accuracy: 0.7480\n",
            "Epoch 3/5\n",
            "215/215 [==============================] - 4s 17ms/step - loss: 0.0410 - accuracy: 0.9818 - val_loss: 1.2074 - val_accuracy: 0.7559\n",
            "Epoch 4/5\n",
            "215/215 [==============================] - 4s 16ms/step - loss: 0.0364 - accuracy: 0.9826 - val_loss: 1.2858 - val_accuracy: 0.7585\n",
            "Epoch 5/5\n",
            "215/215 [==============================] - 4s 16ms/step - loss: 0.0323 - accuracy: 0.9834 - val_loss: 1.6392 - val_accuracy: 0.7520\n"
          ],
          "name": "stdout"
        }
      ]
    },
    {
      "cell_type": "code",
      "metadata": {
        "colab": {
          "base_uri": "https://localhost:8080/"
        },
        "id": "OBQCoT6TRXt7",
        "outputId": "fae4657c-a821-43c1-9b8f-6a024ba70ff4"
      },
      "source": [
        "# Make predictions with out bidiractional ,odel\n",
        " \n",
        "model_4_pred_probs = model_4.predict(val_sentences)\n",
        "model_4_pred_probs[:10]"
      ],
      "execution_count": 67,
      "outputs": [
        {
          "output_type": "execute_result",
          "data": {
            "text/plain": [
              "array([[5.9797549e-01],\n",
              "       [8.7858331e-01],\n",
              "       [9.9993670e-01],\n",
              "       [1.1313723e-01],\n",
              "       [9.1661395e-06],\n",
              "       [9.9987185e-01],\n",
              "       [9.9927801e-01],\n",
              "       [9.9999547e-01],\n",
              "       [9.9998069e-01],\n",
              "       [9.9968708e-01]], dtype=float32)"
            ]
          },
          "metadata": {
            "tags": []
          },
          "execution_count": 67
        }
      ]
    },
    {
      "cell_type": "code",
      "metadata": {
        "colab": {
          "base_uri": "https://localhost:8080/"
        },
        "id": "E64d_cojSdDk",
        "outputId": "f5b5b07d-e26c-4dc1-ad4e-7cd3552d1210"
      },
      "source": [
        "# Convert\n",
        "\n",
        "model_4_pred = tf.squeeze(tf.round(model_4_pred_probs))\n",
        "model_4_pred[:10]"
      ],
      "execution_count": 68,
      "outputs": [
        {
          "output_type": "execute_result",
          "data": {
            "text/plain": [
              "<tf.Tensor: shape=(10,), dtype=float32, numpy=array([1., 1., 1., 0., 0., 1., 1., 1., 1., 1.], dtype=float32)>"
            ]
          },
          "metadata": {
            "tags": []
          },
          "execution_count": 68
        }
      ]
    },
    {
      "cell_type": "code",
      "metadata": {
        "colab": {
          "base_uri": "https://localhost:8080/"
        },
        "id": "lN1plTXBSupu",
        "outputId": "4e6f514e-d7f8-4cae-c64d-fcd4a7bc8571"
      },
      "source": [
        "# Calculate the results of our bidiractional model\n",
        "\n",
        "model_4_results = calculate_results(y_true = val_labels, y_pred = model_4_pred )\n",
        "model_4_results"
      ],
      "execution_count": 69,
      "outputs": [
        {
          "output_type": "execute_result",
          "data": {
            "text/plain": [
              "{'accuracy': 75.19685039370079,\n",
              " 'f1': 0.7516029615774639,\n",
              " 'precision': 0.7515527438106716,\n",
              " 'recall': 0.7519685039370079}"
            ]
          },
          "metadata": {
            "tags": []
          },
          "execution_count": 69
        }
      ]
    },
    {
      "cell_type": "markdown",
      "metadata": {
        "id": "JuhkIab5TCzL"
      },
      "source": [
        "### Model 5: Conv1D \n",
        "\n",
        "We've used CNNs for images but images are typically 2D (hegith x width)...however, our text data is 1d.\n",
        "\n",
        "The typical structure of a Conv1D model for sequen ces (in our case, text):\n",
        "\n",
        "```\n",
        "Inputs(test -> Tokenization -> Embedding -> Cpmv1D -> Pool -> Outputs (class probs)\n",
        "```"
      ]
    },
    {
      "cell_type": "code",
      "metadata": {
        "id": "WpkmmIYJgzkP"
      },
      "source": [
        "from tensorflow.keras import layers\n",
        "\n",
        "input = layers.Input(shape = (1,), dtype = \"string\")\n",
        "x = text_vectorizer(input)\n",
        "x = embedding(x)\n",
        "x = layers.Conv1D(32, 6, activation = 'relu')(x) #kernal size is reffered to as n-gram side (strides rn is 1, but can change to hop) #padding = 'valid' (some words mised) output is smaller 'same' = smae size\n",
        "x = layers.GlobalMaxPooling1D()(x)\n",
        "output = layers.Dense(1, activation = \"sigmoid\")(x)\n",
        "\n",
        "model_5 = tf.keras.Model(input, output, name = \"model_5_conv\")\n"
      ],
      "execution_count": 70,
      "outputs": []
    },
    {
      "cell_type": "code",
      "metadata": {
        "colab": {
          "base_uri": "https://localhost:8080/"
        },
        "id": "gZtHFSyOhZHC",
        "outputId": "714f9566-824b-4f48-fb88-1b80cd115c02"
      },
      "source": [
        "model_5.summary()"
      ],
      "execution_count": 71,
      "outputs": [
        {
          "output_type": "stream",
          "text": [
            "Model: \"model_5_conv\"\n",
            "_________________________________________________________________\n",
            "Layer (type)                 Output Shape              Param #   \n",
            "=================================================================\n",
            "input_5 (InputLayer)         [(None, 1)]               0         \n",
            "_________________________________________________________________\n",
            "text_vectorization_1 (TextVe (None, 15)                0         \n",
            "_________________________________________________________________\n",
            "embedding (Embedding)        (None, 15, 128)           1280000   \n",
            "_________________________________________________________________\n",
            "conv1d (Conv1D)              (None, 10, 32)            24608     \n",
            "_________________________________________________________________\n",
            "global_max_pooling1d (Global (None, 32)                0         \n",
            "_________________________________________________________________\n",
            "dense_4 (Dense)              (None, 1)                 33        \n",
            "=================================================================\n",
            "Total params: 1,304,641\n",
            "Trainable params: 1,304,641\n",
            "Non-trainable params: 0\n",
            "_________________________________________________________________\n"
          ],
          "name": "stdout"
        }
      ]
    },
    {
      "cell_type": "code",
      "metadata": {
        "id": "BPkWqHezhad-"
      },
      "source": [
        "# Compiling the model\n",
        "\n",
        "model_5.compile(loss = 'binary_crossentropy', optimizer = tf.keras.optimizers.Adam(), metrics = ['accuracy'])\n",
        "\n"
      ],
      "execution_count": 72,
      "outputs": []
    },
    {
      "cell_type": "code",
      "metadata": {
        "colab": {
          "base_uri": "https://localhost:8080/"
        },
        "id": "-SHFzy1JiXNo",
        "outputId": "7ed9f653-657e-42d4-81b8-f5a2baf3b9ba"
      },
      "source": [
        "# Fitting the model\n",
        "\n",
        "model_5_history = model_5.fit(train_sentences, train_labels, epochs = 5, \n",
        "                              validation_data = (val_sentences, val_labels), callbacks = [create_tensorboard_callback(SAVE_DIR, \"model_5_conv\")])"
      ],
      "execution_count": 73,
      "outputs": [
        {
          "output_type": "stream",
          "text": [
            "Saving TensorBoard log files to: model_logs/model_5_conv/20210525-121111\n",
            "Epoch 1/10\n",
            "215/215 [==============================] - 5s 18ms/step - loss: 0.1571 - accuracy: 0.9514 - val_loss: 1.0264 - val_accuracy: 0.7546\n",
            "Epoch 2/10\n",
            "215/215 [==============================] - 3s 14ms/step - loss: 0.0616 - accuracy: 0.9764 - val_loss: 1.1942 - val_accuracy: 0.7520\n",
            "Epoch 3/10\n",
            "215/215 [==============================] - 3s 14ms/step - loss: 0.0496 - accuracy: 0.9786 - val_loss: 1.2682 - val_accuracy: 0.7546\n",
            "Epoch 4/10\n",
            "215/215 [==============================] - 3s 14ms/step - loss: 0.0463 - accuracy: 0.9800 - val_loss: 1.3011 - val_accuracy: 0.7507\n",
            "Epoch 5/10\n",
            "215/215 [==============================] - 3s 14ms/step - loss: 0.0416 - accuracy: 0.9813 - val_loss: 1.3751 - val_accuracy: 0.7585\n",
            "Epoch 6/10\n",
            "215/215 [==============================] - 3s 14ms/step - loss: 0.0386 - accuracy: 0.9824 - val_loss: 1.3395 - val_accuracy: 0.7480\n",
            "Epoch 7/10\n",
            "215/215 [==============================] - 3s 14ms/step - loss: 0.0381 - accuracy: 0.9832 - val_loss: 1.3452 - val_accuracy: 0.7454\n",
            "Epoch 8/10\n",
            "215/215 [==============================] - 3s 14ms/step - loss: 0.0353 - accuracy: 0.9848 - val_loss: 1.4137 - val_accuracy: 0.7441\n",
            "Epoch 9/10\n",
            "215/215 [==============================] - 3s 14ms/step - loss: 0.0365 - accuracy: 0.9814 - val_loss: 1.4225 - val_accuracy: 0.7467\n",
            "Epoch 10/10\n",
            "215/215 [==============================] - 3s 14ms/step - loss: 0.0339 - accuracy: 0.9848 - val_loss: 1.3863 - val_accuracy: 0.7428\n"
          ],
          "name": "stdout"
        }
      ]
    },
    {
      "cell_type": "code",
      "metadata": {
        "colab": {
          "base_uri": "https://localhost:8080/"
        },
        "id": "yXD2dzsVitE8",
        "outputId": "ec35b79f-6b03-4f47-d8a4-6ff3194d8153"
      },
      "source": [
        "from tensorflow.keras import layers\n",
        "inputs = layers.Input(shape = (1,), dtype = tf.string)\n",
        "x = text_vectorizer(inputs)\n",
        "x = embedding(x)\n",
        "x = layers.Conv1D(filters = 64, kernel_size = 5, activation = \"relu\")(x)\n",
        "x = layers.GlobalMaxPool1D()(x)\n",
        "#x = layers.Dense(64, activation = \"relu\")(x)\n",
        "outputs = layers.Dense(1, activation = \"sigmoid\")(x)\n",
        "model_6 = tf.keras.Model(inputs, outputs, name = \"model_6_Conv1D\")\n",
        "\n",
        "model_6.compile(loss = \"binary_crossentropy\", optimizer = tf.keras.optimizers.Adam(), metrics = ['accuracy'])\n",
        "\n",
        "model_6.summary()"
      ],
      "execution_count": 74,
      "outputs": [
        {
          "output_type": "stream",
          "text": [
            "Model: \"model_6_Conv1D\"\n",
            "_________________________________________________________________\n",
            "Layer (type)                 Output Shape              Param #   \n",
            "=================================================================\n",
            "input_6 (InputLayer)         [(None, 1)]               0         \n",
            "_________________________________________________________________\n",
            "text_vectorization_1 (TextVe (None, 15)                0         \n",
            "_________________________________________________________________\n",
            "embedding (Embedding)        (None, 15, 128)           1280000   \n",
            "_________________________________________________________________\n",
            "conv1d_1 (Conv1D)            (None, 11, 64)            41024     \n",
            "_________________________________________________________________\n",
            "global_max_pooling1d_1 (Glob (None, 64)                0         \n",
            "_________________________________________________________________\n",
            "dense_5 (Dense)              (None, 1)                 65        \n",
            "=================================================================\n",
            "Total params: 1,321,089\n",
            "Trainable params: 1,321,089\n",
            "Non-trainable params: 0\n",
            "_________________________________________________________________\n"
          ],
          "name": "stdout"
        }
      ]
    },
    {
      "cell_type": "code",
      "metadata": {
        "id": "CJ4us1g0acR2",
        "colab": {
          "base_uri": "https://localhost:8080/"
        },
        "outputId": "51e4d914-2aac-40a8-a676-d22624fac758"
      },
      "source": [
        "# Fit the model\n",
        "\n",
        "model_6_history = model_6.fit(train_sentences, train_labels, epochs = 5,\n",
        "                              validation_data = (val_sentences, val_labels), callbacks = [create_tensorboard_callback(SAVE_DIR, \"Conv1D\")])"
      ],
      "execution_count": 75,
      "outputs": [
        {
          "output_type": "stream",
          "text": [
            "Saving TensorBoard log files to: model_logs/Conv1D/20210525-121144\n",
            "Epoch 1/5\n",
            "215/215 [==============================] - 5s 19ms/step - loss: 0.1396 - accuracy: 0.9557 - val_loss: 1.0944 - val_accuracy: 0.7493\n",
            "Epoch 2/5\n",
            "215/215 [==============================] - 3s 14ms/step - loss: 0.0382 - accuracy: 0.9869 - val_loss: 1.2936 - val_accuracy: 0.7559\n",
            "Epoch 3/5\n",
            "215/215 [==============================] - 3s 14ms/step - loss: 0.0382 - accuracy: 0.9828 - val_loss: 1.3740 - val_accuracy: 0.7507\n",
            "Epoch 4/5\n",
            "215/215 [==============================] - 3s 14ms/step - loss: 0.0385 - accuracy: 0.9837 - val_loss: 1.3650 - val_accuracy: 0.7493\n",
            "Epoch 5/5\n",
            "215/215 [==============================] - 3s 14ms/step - loss: 0.0320 - accuracy: 0.9863 - val_loss: 1.3670 - val_accuracy: 0.7507\n"
          ],
          "name": "stdout"
        }
      ]
    },
    {
      "cell_type": "code",
      "metadata": {
        "id": "gnQz5HN3bFC_",
        "colab": {
          "base_uri": "https://localhost:8080/"
        },
        "outputId": "9d9c0074-a1c3-40d2-e6e4-272de2e4e43a"
      },
      "source": [
        "# Make some prediction with our Conv1D model\n",
        "\n",
        "model_6_pred_probs = model_6.predict(val_sentences)\n",
        "model_6_pred = tf.squeeze(tf.round(model_6_pred_probs))\n",
        "model_6_pred[:10]"
      ],
      "execution_count": 76,
      "outputs": [
        {
          "output_type": "execute_result",
          "data": {
            "text/plain": [
              "<tf.Tensor: shape=(10,), dtype=float32, numpy=array([0., 1., 1., 0., 0., 1., 1., 1., 1., 1.], dtype=float32)>"
            ]
          },
          "metadata": {
            "tags": []
          },
          "execution_count": 76
        }
      ]
    },
    {
      "cell_type": "code",
      "metadata": {
        "id": "RTgk7hA_bc3P",
        "colab": {
          "base_uri": "https://localhost:8080/"
        },
        "outputId": "3549ad17-6df5-4cdc-a5bd-5591904d0464"
      },
      "source": [
        "model_6_results = calculate_results(y_true = val_labels, y_pred = model_6_pred)\n",
        "model_6_results"
      ],
      "execution_count": 77,
      "outputs": [
        {
          "output_type": "execute_result",
          "data": {
            "text/plain": [
              "{'accuracy': 75.06561679790026,\n",
              " 'f1': 0.7491705324008289,\n",
              " 'precision': 0.7507272180149456,\n",
              " 'recall': 0.7506561679790026}"
            ]
          },
          "metadata": {
            "tags": []
          },
          "execution_count": 77
        }
      ]
    },
    {
      "cell_type": "markdown",
      "metadata": {
        "id": "ppsrzXjOblG2"
      },
      "source": [
        "## Model6: Tensorflow Hub Pretrained Sentence Encoder\n",
        "\n",
        "Using transfer learning for NLP"
      ]
    },
    {
      "cell_type": "code",
      "metadata": {
        "id": "nBYSG30aj5VG",
        "colab": {
          "base_uri": "https://localhost:8080/"
        },
        "outputId": "db56dc69-8d88-4321-f3cf-2b9af1ba9331"
      },
      "source": [
        "import tensorflow_hub as hub\n",
        "\n",
        "embed = hub.load(\"https://tfhub.dev/google/universal-sentence-encoder/4\")\n",
        "embed_samples = embed([sample_sentence, \"When you call the use on a sentence, it utrns it into numbers\"])\n",
        "\n",
        "print(embed_samples[0][:50])"
      ],
      "execution_count": 78,
      "outputs": [
        {
          "output_type": "stream",
          "text": [
            "tf.Tensor(\n",
            "[-0.01157027  0.02485911  0.02878048 -0.012715    0.03971538  0.08827761\n",
            "  0.02680985  0.05589839 -0.01068729 -0.00597292  0.00639323 -0.0181952\n",
            "  0.00030814  0.09105889  0.05874645 -0.03180628  0.01512474 -0.05162929\n",
            "  0.00991367 -0.06865346 -0.04209306  0.02678981  0.03011008  0.00321069\n",
            " -0.00337971 -0.04787357  0.02266719 -0.00985925 -0.04063613 -0.01292093\n",
            " -0.04666385  0.056303   -0.03949255  0.00517688  0.02495828 -0.07014441\n",
            "  0.02871509  0.04947684 -0.00633978 -0.08960193  0.02807117 -0.00808362\n",
            " -0.01360601  0.0599865  -0.10361787 -0.05195374  0.00232955 -0.0233253\n",
            " -0.03758106  0.0332773 ], shape=(50,), dtype=float32)\n"
          ],
          "name": "stdout"
        }
      ]
    },
    {
      "cell_type": "code",
      "metadata": {
        "id": "5w7iBrEokUJE"
      },
      "source": [
        "# transforms THE WHOLE sentence into a 512 dimensional vector"
      ],
      "execution_count": 79,
      "outputs": []
    },
    {
      "cell_type": "code",
      "metadata": {
        "id": "oh5lPd1dkiw2"
      },
      "source": [
        "# Create Keras Layer using the USE pretrained layer from tensorflow hub\n",
        "\n",
        "sentence_encoder_layer = hub.KerasLayer(\"https://tfhub.dev/google/universal-sentence-encoder/4\",\n",
        "                                        input_shape = [],\n",
        "                                        dtype = tf.string,\n",
        "                                        trainable = False,\n",
        "                                        name = \"USE\")"
      ],
      "execution_count": 80,
      "outputs": []
    },
    {
      "cell_type": "code",
      "metadata": {
        "id": "7tq3xaldlzkI",
        "colab": {
          "base_uri": "https://localhost:8080/"
        },
        "outputId": "fc35e843-3806-41d0-d610-36e7da697571"
      },
      "source": [
        "# Create model using the sequenctial API\n",
        "\n",
        "model_7 = tf.keras.Sequential([\n",
        "    sentence_encoder_layer,\n",
        "    layers.Dense(64, activation = \"relu\"),\n",
        "    layers.Dense(1, activation = 'sigmoid', name = 'output_layer')\n",
        "], name = \"model_7_USE\")\n",
        "\n",
        "# Compile\n",
        "\n",
        "model_7.compile(loss = 'binary_crossentropy', optimizer = \n",
        "                tf.keras.optimizers.Adam(), metrics = ['accuracy'])\n",
        "\n",
        "model_7.summary()"
      ],
      "execution_count": 81,
      "outputs": [
        {
          "output_type": "stream",
          "text": [
            "Model: \"model_7_USE\"\n",
            "_________________________________________________________________\n",
            "Layer (type)                 Output Shape              Param #   \n",
            "=================================================================\n",
            "USE (KerasLayer)             (None, 512)               256797824 \n",
            "_________________________________________________________________\n",
            "dense_6 (Dense)              (None, 64)                32832     \n",
            "_________________________________________________________________\n",
            "output_layer (Dense)         (None, 1)                 65        \n",
            "=================================================================\n",
            "Total params: 256,830,721\n",
            "Trainable params: 32,897\n",
            "Non-trainable params: 256,797,824\n",
            "_________________________________________________________________\n"
          ],
          "name": "stdout"
        }
      ]
    },
    {
      "cell_type": "code",
      "metadata": {
        "id": "I8Ex63gMmVJY",
        "colab": {
          "base_uri": "https://localhost:8080/"
        },
        "outputId": "3847c54f-2e36-405f-e81b-cd7e63fa8059"
      },
      "source": [
        "# Train a classifier on top of USE pretrained embeddings\n",
        "\n",
        "model_7_history = model_7.fit(train_sentences, train_labels, epochs = 15,\n",
        "                              validation_data = (val_sentences, val_labels), callbacks = [create_tensorboard_callback(SAVE_DIR, \"model_7_use\")])"
      ],
      "execution_count": 82,
      "outputs": [
        {
          "output_type": "stream",
          "text": [
            "Saving TensorBoard log files to: model_logs/model_7_use/20210525-121224\n",
            "Epoch 1/15\n",
            "215/215 [==============================] - 7s 23ms/step - loss: 0.5830 - accuracy: 0.7250 - val_loss: 0.4517 - val_accuracy: 0.7953\n",
            "Epoch 2/15\n",
            "215/215 [==============================] - 2s 10ms/step - loss: 0.4127 - accuracy: 0.8162 - val_loss: 0.4464 - val_accuracy: 0.8071\n",
            "Epoch 3/15\n",
            "215/215 [==============================] - 2s 10ms/step - loss: 0.4027 - accuracy: 0.8235 - val_loss: 0.4346 - val_accuracy: 0.8123\n",
            "Epoch 4/15\n",
            "215/215 [==============================] - 2s 10ms/step - loss: 0.3897 - accuracy: 0.8238 - val_loss: 0.4307 - val_accuracy: 0.8136\n",
            "Epoch 5/15\n",
            "215/215 [==============================] - 2s 10ms/step - loss: 0.3909 - accuracy: 0.8343 - val_loss: 0.4283 - val_accuracy: 0.8150\n",
            "Epoch 6/15\n",
            "215/215 [==============================] - 2s 10ms/step - loss: 0.3763 - accuracy: 0.8349 - val_loss: 0.4335 - val_accuracy: 0.8202\n",
            "Epoch 7/15\n",
            "215/215 [==============================] - 2s 9ms/step - loss: 0.3634 - accuracy: 0.8415 - val_loss: 0.4254 - val_accuracy: 0.8215\n",
            "Epoch 8/15\n",
            "215/215 [==============================] - 2s 9ms/step - loss: 0.3601 - accuracy: 0.8424 - val_loss: 0.4275 - val_accuracy: 0.8268\n",
            "Epoch 9/15\n",
            "215/215 [==============================] - 2s 9ms/step - loss: 0.3599 - accuracy: 0.8389 - val_loss: 0.4277 - val_accuracy: 0.8241\n",
            "Epoch 10/15\n",
            "215/215 [==============================] - 2s 9ms/step - loss: 0.3433 - accuracy: 0.8491 - val_loss: 0.4323 - val_accuracy: 0.8163\n",
            "Epoch 11/15\n",
            "215/215 [==============================] - 2s 9ms/step - loss: 0.3365 - accuracy: 0.8570 - val_loss: 0.4259 - val_accuracy: 0.8202\n",
            "Epoch 12/15\n",
            "215/215 [==============================] - 2s 9ms/step - loss: 0.3484 - accuracy: 0.8499 - val_loss: 0.4264 - val_accuracy: 0.8241\n",
            "Epoch 13/15\n",
            "215/215 [==============================] - 2s 9ms/step - loss: 0.3328 - accuracy: 0.8580 - val_loss: 0.4326 - val_accuracy: 0.8241\n",
            "Epoch 14/15\n",
            "215/215 [==============================] - 2s 9ms/step - loss: 0.3150 - accuracy: 0.8651 - val_loss: 0.4280 - val_accuracy: 0.8268\n",
            "Epoch 15/15\n",
            "215/215 [==============================] - 2s 10ms/step - loss: 0.3079 - accuracy: 0.8669 - val_loss: 0.4268 - val_accuracy: 0.8281\n"
          ],
          "name": "stdout"
        }
      ]
    },
    {
      "cell_type": "code",
      "metadata": {
        "id": "07_q7_SwnPn4"
      },
      "source": [
        "model_7_pred_probs = model_7.predict(val_sentences)\n",
        "model_7_preds = tf.squeeze(tf.round(model_7_pred_probs))\n",
        "model_7_results = calculate_results(val_labels, model_7_preds)\n"
      ],
      "execution_count": 84,
      "outputs": []
    },
    {
      "cell_type": "markdown",
      "metadata": {
        "id": "jJ9Bej99oVc8"
      },
      "source": [
        "## Model8 :TF Hub Pretrained USE but with 10% of training data\n",
        "\n",
        "Transfer learning really helps when you don't have a alarge dataset.\n",
        "\n",
        "To see how our model performs on a smaller dataset, let's replicate 'model_& except we'll train it on 10% of the data."
      ]
    },
    {
      "cell_type": "code",
      "metadata": {
        "id": "9f-MxbE3snfu"
      },
      "source": [
        "# Create subset of 10% of the training data\n",
        "\n",
        "# NOte\n",
        "\n",
        "#train_10_percent = train_df_shuffled[[\"text\", \"target\"]].sample(frac = 0.1, random_state = 42)\n",
        "\n",
        "#train_sentences_10_percent = train_10_percent[\"text\"].to_list()\n",
        "#train_labels_10_percent = train_10_percent['target'].to_list()"
      ],
      "execution_count": 85,
      "outputs": []
    },
    {
      "cell_type": "markdown",
      "metadata": {
        "id": "FmZ-2W7jY7rp"
      },
      "source": [
        " **Note** Be *very* carefule when creating training/va;/test splits that you don't leak data across the datasets, otherwise your model evaluation metrics will be wrong. If something looks to good to be true (a model trainied on 10 percent of data doutperforming a mdel trained on100% of the data) trust your gut and o back thorugh to find where the error may lie."
      ]
    },
    {
      "cell_type": "code",
      "metadata": {
        "id": "yeTJMXTpWylo"
      },
      "source": [
        "train_10_percent_split = int(0.1* len(train_sentences))\n",
        "train_10_percent = train_sentences[:train_10_percent_split]\n",
        "train_labels_10_percent =  train_labels[:train_10_percent_split]"
      ],
      "execution_count": 86,
      "outputs": []
    },
    {
      "cell_type": "code",
      "metadata": {
        "id": "NEJJVzBTX2DY",
        "colab": {
          "base_uri": "https://localhost:8080/"
        },
        "outputId": "a9b55a6d-c8bb-4863-8651-74591ce536fe"
      },
      "source": [
        "pd.Series(np.array(train_labels_10_percent)).value_counts()"
      ],
      "execution_count": 87,
      "outputs": [
        {
          "output_type": "execute_result",
          "data": {
            "text/plain": [
              "0    406\n",
              "1    279\n",
              "dtype: int64"
            ]
          },
          "metadata": {
            "tags": []
          },
          "execution_count": 87
        }
      ]
    },
    {
      "cell_type": "code",
      "metadata": {
        "id": "OgW5Gq5js11i",
        "colab": {
          "base_uri": "https://localhost:8080/"
        },
        "outputId": "303e33b3-b2c2-44ee-bccc-79ce62daf0fe"
      },
      "source": [
        "# Check the number of target in our subset of data (ensure ratios are relatively close)\n",
        "\n",
        "train_df_shuffled[\"target\"].value_counts()"
      ],
      "execution_count": 88,
      "outputs": [
        {
          "output_type": "execute_result",
          "data": {
            "text/plain": [
              "0    4342\n",
              "1    3271\n",
              "Name: target, dtype: int64"
            ]
          },
          "metadata": {
            "tags": []
          },
          "execution_count": 88
        }
      ]
    },
    {
      "cell_type": "code",
      "metadata": {
        "id": "XuI1t0ZFtdo3",
        "colab": {
          "base_uri": "https://localhost:8080/"
        },
        "outputId": "62ce183e-25c9-45f4-e003-83bf53cccf9d"
      },
      "source": [
        "train_df_shuffled['target'].value_counts()"
      ],
      "execution_count": 89,
      "outputs": [
        {
          "output_type": "execute_result",
          "data": {
            "text/plain": [
              "0    4342\n",
              "1    3271\n",
              "Name: target, dtype: int64"
            ]
          },
          "metadata": {
            "tags": []
          },
          "execution_count": 89
        }
      ]
    },
    {
      "cell_type": "markdown",
      "metadata": {
        "id": "tTct5J0Asrbx"
      },
      "source": [
        "To recreeate amodel the same as a previous model you've created, you can use the 'tf.keras.models.clone_model ' method"
      ]
    },
    {
      "cell_type": "code",
      "metadata": {
        "id": "dFkKO83Dth3D",
        "colab": {
          "base_uri": "https://localhost:8080/"
        },
        "outputId": "71b96704-5f57-42e1-a66b-aadff4dffd08"
      },
      "source": [
        "# Let's build a nodel the same as model_6\n",
        "\n",
        "model_8 = tf.keras.models.clone_model(model_7)\n",
        "\n",
        "model_8.compile(loss = 'binary_crossentropy', optimizer= tf.keras.optimizers.Adam(), metrics = ['accuracy'])\n",
        "\n",
        "model_8.summary()"
      ],
      "execution_count": 90,
      "outputs": [
        {
          "output_type": "stream",
          "text": [
            "Model: \"model_7_USE\"\n",
            "_________________________________________________________________\n",
            "Layer (type)                 Output Shape              Param #   \n",
            "=================================================================\n",
            "USE (KerasLayer)             (None, 512)               256797824 \n",
            "_________________________________________________________________\n",
            "dense_6 (Dense)              (None, 64)                32832     \n",
            "_________________________________________________________________\n",
            "output_layer (Dense)         (None, 1)                 65        \n",
            "=================================================================\n",
            "Total params: 256,830,721\n",
            "Trainable params: 32,897\n",
            "Non-trainable params: 256,797,824\n",
            "_________________________________________________________________\n"
          ],
          "name": "stdout"
        }
      ]
    },
    {
      "cell_type": "code",
      "metadata": {
        "id": "N_T64eabtTCp",
        "colab": {
          "base_uri": "https://localhost:8080/"
        },
        "outputId": "e0c96816-54a8-4182-b916-e77e08ad7ec6"
      },
      "source": [
        "# Fit the model on 10% training data\n",
        "\n",
        "model_8_history = model_8.fit(train_10_percent, train_labels_10_percent, epochs = 5,\n",
        "                              validation_data = (val_sentences, val_labels), callbacks = [create_tensorboard_callback(SAVE_DIR, 'model_8_correct_split')])"
      ],
      "execution_count": 91,
      "outputs": [
        {
          "output_type": "stream",
          "text": [
            "Saving TensorBoard log files to: model_logs/model_8_correct_split/20210525-121403\n",
            "Epoch 1/5\n",
            "22/22 [==============================] - 4s 113ms/step - loss: 0.6781 - accuracy: 0.6558 - val_loss: 0.6385 - val_accuracy: 0.7520\n",
            "Epoch 2/5\n",
            "22/22 [==============================] - 0s 18ms/step - loss: 0.5938 - accuracy: 0.8415 - val_loss: 0.5781 - val_accuracy: 0.7651\n",
            "Epoch 3/5\n",
            "22/22 [==============================] - 0s 18ms/step - loss: 0.5171 - accuracy: 0.8395 - val_loss: 0.5327 - val_accuracy: 0.7664\n",
            "Epoch 4/5\n",
            "22/22 [==============================] - 0s 20ms/step - loss: 0.4610 - accuracy: 0.8354 - val_loss: 0.5043 - val_accuracy: 0.7677\n",
            "Epoch 5/5\n",
            "22/22 [==============================] - 0s 18ms/step - loss: 0.4046 - accuracy: 0.8630 - val_loss: 0.4930 - val_accuracy: 0.7664\n"
          ],
          "name": "stdout"
        }
      ]
    },
    {
      "cell_type": "code",
      "metadata": {
        "id": "hxkgcfaGuCea"
      },
      "source": [
        "model_8_pred_probs = model_8.predict(val_sentences)\n",
        "\n",
        "model_8_preds = tf.squeeze(tf.round(model_8_pred_probs))\n",
        "\n",
        "model_8_results = calculate_results(val_labels, model_8_preds)\n",
        "\n",
        "#print(results)"
      ],
      "execution_count": 93,
      "outputs": []
    },
    {
      "cell_type": "markdown",
      "metadata": {
        "id": "yaVQDHuru9gB"
      },
      "source": [
        "## Comparing the performance of each of our models"
      ]
    },
    {
      "cell_type": "code",
      "metadata": {
        "id": "-65Ybm8eZqfY",
        "colab": {
          "base_uri": "https://localhost:8080/",
          "height": 173
        },
        "outputId": "350bc653-fdf2-4d22-9b1c-1582494ecc79"
      },
      "source": [
        "# Combine model results into a Datafrmae \n",
        "\n",
        "all_model_results = pd.DataFrame({\"0_baseline\": baseline_results, \"1_simple_dense\": model_1_results,\n",
        "                                  \"2_lstm\": model_2_results, \"3_gru\": model_3_results,\n",
        "                                  \"4_bidirectional\": model_4_results, \"5_conv1d\": model_6_results, \n",
        "                                  \"6_tf_hub_use_encoder\": model_7_results, \n",
        "                                  \"7_tf_hub_use_encoder_10_percent\":model_8_results})\n",
        "all_model_results"
      ],
      "execution_count": 99,
      "outputs": [
        {
          "output_type": "execute_result",
          "data": {
            "text/html": [
              "<div>\n",
              "<style scoped>\n",
              "    .dataframe tbody tr th:only-of-type {\n",
              "        vertical-align: middle;\n",
              "    }\n",
              "\n",
              "    .dataframe tbody tr th {\n",
              "        vertical-align: top;\n",
              "    }\n",
              "\n",
              "    .dataframe thead th {\n",
              "        text-align: right;\n",
              "    }\n",
              "</style>\n",
              "<table border=\"1\" class=\"dataframe\">\n",
              "  <thead>\n",
              "    <tr style=\"text-align: right;\">\n",
              "      <th></th>\n",
              "      <th>0_baseline</th>\n",
              "      <th>1_simple_dense</th>\n",
              "      <th>2_lstm</th>\n",
              "      <th>3_gru</th>\n",
              "      <th>4_bidirectional</th>\n",
              "      <th>5_conv1d</th>\n",
              "      <th>6_tf_hub_use_encoder</th>\n",
              "      <th>7_tf_hub_use_encoder_10_percent</th>\n",
              "    </tr>\n",
              "  </thead>\n",
              "  <tbody>\n",
              "    <tr>\n",
              "      <th>accuracy</th>\n",
              "      <td>79.265092</td>\n",
              "      <td>76.509186</td>\n",
              "      <td>76.640420</td>\n",
              "      <td>76.377953</td>\n",
              "      <td>75.196850</td>\n",
              "      <td>75.065617</td>\n",
              "      <td>82.808399</td>\n",
              "      <td>76.640420</td>\n",
              "    </tr>\n",
              "    <tr>\n",
              "      <th>precision</th>\n",
              "      <td>0.811139</td>\n",
              "      <td>0.766217</td>\n",
              "      <td>0.766590</td>\n",
              "      <td>0.763471</td>\n",
              "      <td>0.751553</td>\n",
              "      <td>0.750727</td>\n",
              "      <td>0.830367</td>\n",
              "      <td>0.767452</td>\n",
              "    </tr>\n",
              "    <tr>\n",
              "      <th>recall</th>\n",
              "      <td>0.792651</td>\n",
              "      <td>0.765092</td>\n",
              "      <td>0.766404</td>\n",
              "      <td>0.763780</td>\n",
              "      <td>0.751969</td>\n",
              "      <td>0.750656</td>\n",
              "      <td>0.828084</td>\n",
              "      <td>0.766404</td>\n",
              "    </tr>\n",
              "    <tr>\n",
              "      <th>f1</th>\n",
              "      <td>0.786219</td>\n",
              "      <td>0.763156</td>\n",
              "      <td>0.765121</td>\n",
              "      <td>0.762981</td>\n",
              "      <td>0.751603</td>\n",
              "      <td>0.749171</td>\n",
              "      <td>0.826759</td>\n",
              "      <td>0.764542</td>\n",
              "    </tr>\n",
              "  </tbody>\n",
              "</table>\n",
              "</div>"
            ],
            "text/plain": [
              "           0_baseline  ...  7_tf_hub_use_encoder_10_percent\n",
              "accuracy    79.265092  ...                        76.640420\n",
              "precision    0.811139  ...                         0.767452\n",
              "recall       0.792651  ...                         0.766404\n",
              "f1           0.786219  ...                         0.764542\n",
              "\n",
              "[4 rows x 8 columns]"
            ]
          },
          "metadata": {
            "tags": []
          },
          "execution_count": 99
        }
      ]
    },
    {
      "cell_type": "markdown",
      "metadata": {
        "id": "TCqHw-QOZ5-X"
      },
      "source": [
        "## Uploading model's training logs to TensorBoard.dev"
      ]
    },
    {
      "cell_type": "code",
      "metadata": {
        "colab": {
          "base_uri": "https://localhost:8080/"
        },
        "id": "0XEmWBf6c3Yn",
        "outputId": "a4f095e3-ebb9-4746-b832-d91856c398a7"
      },
      "source": [
        "!tensorboard dev upload --logdir ./model_logs/ \\\n",
        " --name \"NLP Modelling Experiments\" \\\n",
        " --description \"comparing model architectures\" \\\n",
        " --one_shot # exit the uploader once finished"
      ],
      "execution_count": 100,
      "outputs": [
        {
          "output_type": "stream",
          "text": [
            "2021-05-25 12:23:14.181157: I tensorflow/stream_executor/platform/default/dso_loader.cc:49] Successfully opened dynamic library libcudart.so.11.0\n",
            "Data for the \"text\" plugin is now uploaded to TensorBoard.dev! Note that uploaded data is public. If you do not want to upload data for this plugin, use the \"--plugins\" command line argument.\n",
            "\n",
            "New experiment created. View your TensorBoard at: https://tensorboard.dev/experiment/sy6KOA6sR02cP3Y06urW1w/\n",
            "\n",
            "\u001b[1m[2021-05-25T12:23:15]\u001b[0m Started scanning logdir.\n",
            "\u001b[1m[2021-05-25T12:23:23]\u001b[0m Total uploaded: 280 scalars, 0 tensors, 8 binary objects (4.7 MB)\n",
            "\u001b[1m[2021-05-25T12:23:23]\u001b[0m Done scanning logdir.\n",
            "\n",
            "\n",
            "Done. View your TensorBoard at https://tensorboard.dev/experiment/sy6KOA6sR02cP3Y06urW1w/\n"
          ],
          "name": "stdout"
        }
      ]
    },
    {
      "cell_type": "markdown",
      "metadata": {
        "id": "nyV3aItLdcoL"
      },
      "source": [
        "Now I've ran the cell above, my modelling experiments are visable on TensorBoard.dev:"
      ]
    },
    {
      "cell_type": "code",
      "metadata": {
        "colab": {
          "base_uri": "https://localhost:8080/"
        },
        "id": "Q2_lihULeOHb",
        "outputId": "c5c69ff5-e90e-404b-ad29-0e6629ac2103"
      },
      "source": [
        "# If you need to delete an experiment from TensorBoard, you can run the following:\n",
        "\n",
        "# See the previous Tensorboard Dev experiments you've run\n",
        "\n",
        "!tensorboard dev list"
      ],
      "execution_count": 101,
      "outputs": [
        {
          "output_type": "stream",
          "text": [
            "2021-05-25 12:26:57.314323: I tensorflow/stream_executor/platform/default/dso_loader.cc:49] Successfully opened dynamic library libcudart.so.11.0\n",
            "Data for the \"text\" plugin is now uploaded to TensorBoard.dev! Note that uploaded data is public. If you do not want to upload data for this plugin, use the \"--plugins\" command line argument.\n",
            "https://tensorboard.dev/experiment/sy6KOA6sR02cP3Y06urW1w/\n",
            "\tName                 NLP Modelling Experiments\n",
            "\tDescription          comparing model architectures\n",
            "\tId                   sy6KOA6sR02cP3Y06urW1w\n",
            "\tCreated              2021-05-25 12:23:15 (3 minutes ago)\n",
            "\tUpdated              2021-05-25 12:23:23 (3 minutes ago)\n",
            "\tRuns                 16\n",
            "\tTags                 3\n",
            "\tScalars              280\n",
            "\tTensor bytes         0\n",
            "\tBinary object bytes  4927818\n",
            "https://tensorboard.dev/experiment/8t6OOlNlQGuDRfPjDPPvew/\n",
            "\tName                 NLP Modelling Experiments\n",
            "\tDescription          comparing model architectures\n",
            "\tId                   8t6OOlNlQGuDRfPjDPPvew\n",
            "\tCreated              2021-05-25 12:21:52 (5 minutes ago)\n",
            "\tUpdated              2021-05-25 12:21:52 (5 minutes ago)\n",
            "\tRuns                 0\n",
            "\tTags                 0\n",
            "\tScalars              0\n",
            "\tTensor bytes         0\n",
            "\tBinary object bytes  0\n",
            "Total: 2 experiment(s)\n"
          ],
          "name": "stdout"
        }
      ]
    },
    {
      "cell_type": "code",
      "metadata": {
        "id": "_oVPDhqWfgVP"
      },
      "source": [
        ""
      ],
      "execution_count": null,
      "outputs": []
    }
  ]
}